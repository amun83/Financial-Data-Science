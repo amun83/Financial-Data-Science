{
  "nbformat": 4,
  "nbformat_minor": 0,
  "metadata": {
    "colab": {
      "name": "FD104 Text-Mining Oilprice.com News Articles.ipynb",
      "version": "0.3.2",
      "provenance": [],
      "include_colab_link": true
    },
    "kernelspec": {
      "name": "python3",
      "display_name": "Python 3"
    }
  },
  "cells": [
    {
      "cell_type": "markdown",
      "metadata": {
        "id": "view-in-github",
        "colab_type": "text"
      },
      "source": [
        "<a href=\"https://colab.research.google.com/github/amun83/Koscom-Financial-Data-Bootcamp/blob/master/FD104_Text_Mining_Oilprice_com_News_Articles.ipynb\" target=\"_parent\"><img src=\"https://colab.research.google.com/assets/colab-badge.svg\" alt=\"Open In Colab\"/></a>"
      ]
    },
    {
      "metadata": {
        "id": "M0raKhKgmvHT",
        "colab_type": "text"
      },
      "cell_type": "markdown",
      "source": [
        "# Scraping News Articles: https://oilprice.com/"
      ]
    },
    {
      "metadata": {
        "id": "A9JvBTq26riQ",
        "colab_type": "code",
        "colab": {}
      },
      "cell_type": "code",
      "source": [
        "ON_COLAB  = True\n",
        "DATA_PATH = ''"
      ],
      "execution_count": 0,
      "outputs": []
    },
    {
      "metadata": {
        "id": "Z3u8bzSb6DPR",
        "colab_type": "code",
        "colab": {}
      },
      "cell_type": "code",
      "source": [
        "!pip install -q --upgrade pandas_datareader\n",
        "!pip install -q --upgrade finance-datareader\n",
        "!pip install -q --upgrade html5lib\n",
        "!pip install -q --upgrade lxml\n",
        "!pip install -q --upgrade seaborn\n",
        "!pip install -q --upgrade gspread"
      ],
      "execution_count": 0,
      "outputs": []
    },
    {
      "metadata": {
        "id": "eEgj2trEkoGh",
        "colab_type": "code",
        "colab": {}
      },
      "cell_type": "code",
      "source": [
        "# utilities\n",
        "import datetime\n",
        "import re\n",
        "import csv\n",
        "from IPython.display import display\n",
        "\n",
        "# web scraping\n",
        "import requests\n",
        "import urllib.parse\n",
        "from bs4 import BeautifulSoup as bs\n",
        "import pandas_datareader as pdr\n",
        "import FinanceDataReader as fdr\n",
        "\n",
        "# Math/Stat\n",
        "import numpy as np\n",
        "import pandas as pd\n",
        "from pandas.plotting import scatter_matrix\n",
        "#import math\n",
        "\n",
        "# Machine Learning\n",
        "#from keras.models import Sequential\n",
        "#from keras.layers import Dense\n",
        "#from keras.layers import LSTM\n",
        "\n",
        "# visualization\n",
        "import seaborn as sns\n",
        "sns.set_style('whitegrid')\n",
        "import matplotlib.pyplot as plt\n",
        "%matplotlib inline"
      ],
      "execution_count": 0,
      "outputs": []
    },
    {
      "metadata": {
        "id": "9B8M9wlWUa4f",
        "colab_type": "code",
        "outputId": "592fb02b-9bf2-4d5b-bf8e-d0621ca5fdcb",
        "colab": {
          "base_uri": "https://localhost:8080/",
          "height": 35
        }
      },
      "cell_type": "code",
      "source": [
        "if ON_COLAB :\n",
        "  from google.colab import drive\n",
        "  drive.mount('/gdrive')\n",
        "  DATA_PATH = '/gdrive/My Drive/sandbox/'"
      ],
      "execution_count": 0,
      "outputs": [
        {
          "output_type": "stream",
          "text": [
            "Drive already mounted at /gdrive; to attempt to forcibly remount, call drive.mount(\"/gdrive\", force_remount=True).\n"
          ],
          "name": "stdout"
        }
      ]
    },
    {
      "metadata": {
        "id": "0XlWPVuRnw-5",
        "colab_type": "code",
        "colab": {}
      },
      "cell_type": "code",
      "source": [
        "pattern = re.compile(r'(Jan|Feb|Mar|Apr|May|Jun|Jul|Aug|Sep|Oct|Nov|Dec)\\s(\\d\\d),\\s(\\d{4})')\n",
        "# Example: By Julianne Geiger - Dec 14, 2018, 8:00 PM CST"
      ],
      "execution_count": 0,
      "outputs": []
    },
    {
      "metadata": {
        "id": "8sNEbxAs_Sa3",
        "colab_type": "code",
        "colab": {}
      },
      "cell_type": "code",
      "source": [
        "def get_news_urls_by_page(page_num):\n",
        "  page_url = 'https://oilprice.com/Latest-Energy-News/World-News/Page-' + str(page_num) + '.html'\n",
        "  # https://oilprice.com/Latest-Energy-News/World-News/Page-865.html\n",
        "\n",
        "  try:\n",
        "    r = requests.get(page_url)\n",
        "    #print('Request(GET) >> OK: ' + page_url)\n",
        "  except:\n",
        "    print('Request(GET) >> Failed: ' + page_url)\n",
        "    return None\n",
        "\n",
        "  soup = bs(r.text)\n",
        "  items = soup.find_all('div', {\"class\":\"categoryArticle__content\"})\n",
        "\n",
        "  if not items:\n",
        "    print('Request(GET) >> Empty Page: ' + page_url)\n",
        "    return None\n",
        "  \n",
        "  return [item.find('a', href = True)['href'] for item in items]"
      ],
      "execution_count": 0,
      "outputs": []
    },
    {
      "metadata": {
        "id": "d-hpExqkcX-e",
        "colab_type": "code",
        "colab": {}
      },
      "cell_type": "code",
      "source": [
        "def get_news_content(url):\n",
        "  try:\n",
        "    get_news_content.counter += 1\n",
        "  except:\n",
        "    get_news_content.counter = 0\n",
        "  \n",
        "  try:\n",
        "    r = requests.get(url)\n",
        "    if get_news_content.counter % 10 == 0:\n",
        "      print('[' + str(get_news_content.counter) + '] Request(GET) >> OK: ' + url)\n",
        "  except:\n",
        "    print('[' + str(get_news_content.counter) + '] Request(GET) >> Failed: ' + url)\n",
        "    return None\n",
        "\n",
        "  soup = bs(r.text)\n",
        "\n",
        "  title = soup.find('h1').text\n",
        "\n",
        "  date = soup.find('span', {'class':'article_byline'}).text\n",
        "\n",
        "  match = re.search(pattern, date)\n",
        "  mmm, dd, yyyy = match.groups(0)\n",
        "  date = yyyy + \"-\" + mmm + \"-\" + dd\n",
        "\n",
        "  raw_content = soup.find('div', {'id':'news-content'}).find_all('p')\n",
        "  content = ' '.join([p.text.strip() for p in raw_content])\n",
        "  \n",
        "  return date, title, content"
      ],
      "execution_count": 0,
      "outputs": []
    },
    {
      "metadata": {
        "id": "7w8fY3imAXa3",
        "colab_type": "code",
        "colab": {}
      },
      "cell_type": "code",
      "source": [
        "news_urls =[]\n",
        "\n",
        "for i in range(1, 10):\n",
        "  urls = get_news_urls_by_page(i)\n",
        "  if not urls:\n",
        "    break\n",
        "    \n",
        "  news_urls += urls"
      ],
      "execution_count": 0,
      "outputs": []
    },
    {
      "metadata": {
        "id": "2rKUCb0Ohmxb",
        "colab_type": "code",
        "outputId": "21f5349c-d8af-49f8-c482-12070a4eea57",
        "colab": {
          "base_uri": "https://localhost:8080/",
          "height": 53
        }
      },
      "cell_type": "code",
      "source": [
        "print(len(news_urls))\n",
        "print(news_urls[-1])"
      ],
      "execution_count": 0,
      "outputs": [
        {
          "output_type": "stream",
          "text": [
            "90\n",
            "https://oilprice.com/Latest-Energy-News/World-News/US-Oil-Gas-Reserves-Hit-Record-Highs.html\n"
          ],
          "name": "stdout"
        }
      ]
    },
    {
      "metadata": {
        "id": "PoFQEETwmrrv",
        "colab_type": "code",
        "colab": {}
      },
      "cell_type": "code",
      "source": [
        "with open(DATA_PATH + 'oilprice.com_news_urls.csv', 'w') as f:\n",
        "  fw = csv.writer(f)\n",
        "  \n",
        "  fw.writerows([[url] for url in news_urls])"
      ],
      "execution_count": 0,
      "outputs": []
    },
    {
      "metadata": {
        "id": "Kbw_aOTUgU_O",
        "colab_type": "code",
        "outputId": "a03cddf5-7b16-4dde-e04f-dc8e8a8195d1",
        "colab": {
          "base_uri": "https://localhost:8080/",
          "height": 179
        }
      },
      "cell_type": "code",
      "source": [
        "news = [get_news_content(url) + (url.split('/')[-1],) for url in news_urls]"
      ],
      "execution_count": 0,
      "outputs": [
        {
          "output_type": "stream",
          "text": [
            "[0] Request(GET) >> OK: https://oilprice.com/Latest-Energy-News/World-News/France-Extends-State-Guarantee-For-Total-Participated-Russian-LNG-Projects.html\n",
            "[10] Request(GET) >> OK: https://oilprice.com/Latest-Energy-News/World-News/Russia-Oil-Exports-Down-3665M-Barrels-In-First-10-Months.html\n",
            "[20] Request(GET) >> OK: https://oilprice.com/Latest-Energy-News/World-News/Japanese-Refiners-Will-Resume-Iran-Crude-Purchases-Next-Month.html\n",
            "[30] Request(GET) >> OK: https://oilprice.com/Latest-Energy-News/World-News/Oil-Prices-Head-Higher-After-API-Reports-Huge-Crude-Draw.html\n",
            "[40] Request(GET) >> OK: https://oilprice.com/Latest-Energy-News/World-News/Maduro-Wins-Local-Elections-Amid-Voter-Apathy-In-Raging-Crisis.html\n",
            "[50] Request(GET) >> OK: https://oilprice.com/Latest-Energy-News/World-News/Maduro-Russia-Venezuela-Sign-5B-Deals-To-Boost-Venezuelan-Oil-Production.html\n",
            "[60] Request(GET) >> OK: https://oilprice.com/Latest-Energy-News/World-News/OPEC-Urges-Nigeria-Libya-To-Join-Oil-Production-Cuts-Iran-Balks.html\n",
            "[70] Request(GET) >> OK: https://oilprice.com/Latest-Energy-News/World-News/Macron-Bows-To-Protesters-Suspends-Fuel-Tax-Increase.html\n",
            "[80] Request(GET) >> OK: https://oilprice.com/Latest-Energy-News/World-News/Bad-Weather-Closes-Libyan-Oil-Ports-150000-Bpd-Output-Shut-In.html\n"
          ],
          "name": "stdout"
        }
      ]
    },
    {
      "metadata": {
        "id": "ixPGApCdhVC-",
        "colab_type": "code",
        "outputId": "cfd65de9-1a3c-463c-e01e-bad2ca890133",
        "colab": {
          "base_uri": "https://localhost:8080/",
          "height": 127
        }
      },
      "cell_type": "code",
      "source": [
        "print(len(news))\n",
        "display(news[-1])"
      ],
      "execution_count": 0,
      "outputs": [
        {
          "output_type": "stream",
          "text": [
            "90\n"
          ],
          "name": "stdout"
        },
        {
          "output_type": "display_data",
          "data": {
            "text/plain": [
              "('2018-Nov-29',\n",
              " 'U.S. Oil, Gas Reserves Hit Record Highs',\n",
              " 'Higher prices and continued shale resource development helped push U.S. crude oil and natural gas proved reserves to new record highs in 2017, the Energy Information Administration (EIA) said in a report on Thursday. Proved reserves of U.S. crude oil jumped by 19.5 percent in 2017 from the end of 2016, reaching 39.2 billion barrels and beating the previous record of 39.0 billion barrels set in 1970. Crude oil reserves reached an all-time in 2017, as higher prices typically raise reserve estimates because exploration and production companies believe that more of their resource bases can be produced. Last year, the average WTI Crude spot price rose by 20 percent compared to 2016, exceeding $60 a barrel for the first time since June 2015 and helping to drive increases in reserves, the EIA noted.  In its report for 2016, EIA said that the development in the Permian led to Texas showing the largest net increase in proved reserves of crude oil and lease condensate of all U.S. states, although the total U.S. crude oil reserves at end-2016 were virtually the same as at end-2015.Related:\\xa0The Biggest Winners Of The Oil Price Slump In 2017, higher prices drove proved crude oil reserves to records, and Texas again had the biggest net increase in reserves. Texas added 3.1 billion barrels of proved reserves, followed by New Mexico which added 1.0 billion barrels of reserves. Thanks to the development in the Permian and higher oil prices, Texas and New Mexico led the reserves additions, especially in the stacked oil-bearing formations of the Spraberry Trend and the Wolfcamp/Bone Spring shale play.  Proved natural gas reserves across the U.S. jumped by 36.1 percent to 464.3 trillion cubic feet (Tcf) in 2017, beating the previous record of 388.8 Tcf from 2014, also thanks to Henry Hub natural gas prices rising by 21 percent last year.  Pennsylvania and Texas were the number-one and number-two states in terms of largest net increases in reserves, respectively, due to higher prices and development in the Appalachian and Permian basins and the Haynesville/Bossier shale play in eastern Texas and northern Louisiana, the EIA said. The share of shale gas reserves of all U.S. natural gas reserves rose to 66 percent in 2017 from 62 percent in 2016.  By Tsvetana Paraskova for Oilprice.com More Top Reads From Oilprice.com:',\n",
              " 'US-Oil-Gas-Reserves-Hit-Record-Highs.html')"
            ]
          },
          "metadata": {
            "tags": []
          }
        }
      ]
    },
    {
      "metadata": {
        "id": "rW5UYhRgi6nY",
        "colab_type": "code",
        "outputId": "0b278fd1-6989-4220-f333-1a4750d16f55",
        "colab": {
          "base_uri": "https://localhost:8080/",
          "height": 35
        }
      },
      "cell_type": "code",
      "source": [
        "[a for a in news if len(a[2]) < 1024]"
      ],
      "execution_count": 0,
      "outputs": [
        {
          "output_type": "execute_result",
          "data": {
            "text/plain": [
              "[]"
            ]
          },
          "metadata": {
            "tags": []
          },
          "execution_count": 132
        }
      ]
    },
    {
      "metadata": {
        "id": "mo-mX91hIsvH",
        "colab_type": "code",
        "colab": {}
      },
      "cell_type": "code",
      "source": [
        "with open(DATA_PATH + 'oilprice.com_news.csv', 'w') as f:\n",
        "  fw = csv.writer(f)\n",
        "  \n",
        "  fw.writerows(news)"
      ],
      "execution_count": 0,
      "outputs": []
    },
    {
      "metadata": {
        "id": "VTtENH1olIFT",
        "colab_type": "code",
        "colab": {}
      },
      "cell_type": "code",
      "source": [
        ""
      ],
      "execution_count": 0,
      "outputs": []
    }
  ]
}
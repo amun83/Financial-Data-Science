{
  "nbformat": 4,
  "nbformat_minor": 0,
  "metadata": {
    "colab": {
      "name": "발표자료_5조_ELI5 적용해보기.ipynb",
      "version": "0.3.2",
      "provenance": [],
      "collapsed_sections": [],
      "toc_visible": true,
      "include_colab_link": true
    },
    "kernelspec": {
      "name": "python3",
      "display_name": "Python 3"
    }
  },
  "cells": [
    {
      "cell_type": "markdown",
      "metadata": {
        "id": "view-in-github",
        "colab_type": "text"
      },
      "source": [
        "<a href=\"https://colab.research.google.com/github/amun83/Financial-Data-Science/blob/master/03-05-Mid.ipynb\" target=\"_parent\"><img src=\"https://colab.research.google.com/assets/colab-badge.svg\" alt=\"Open In Colab\"/></a>"
      ]
    },
    {
      "metadata": {
        "id": "DTooPO49NTTk",
        "colab_type": "text"
      },
      "cell_type": "markdown",
      "source": [
        "#머신러닝 데이터셋 - 타이타닉\n",
        "*  타이타닉 탑승객들의 생존 여부에 관한 데이터\n",
        "\n",
        "##속성 설명\n",
        "*   Age: Age (38.0, 20.5(추정한 경우))\n",
        "*   Cabin: 객실\n",
        "*   Embarked: 출항 소재 (C = Cherbourg; Q = Queenstown; S = Southampton)\n",
        "*   Fare: 운임(티켓 가격)\n",
        "*   Name: Name\n",
        "*   Parch: 부모+자식 탑승인원\n",
        "*   Pclass: 승객 등급 (1 = 1st; 2 = 2nd; 3 = 3rd)\n",
        "*   Sex: Sex (man, woman)\n",
        "*   Sibsp: 형제자매+배우자 탑승인원\n",
        "*   Survived: 생존 여부 (0 = 사망; 1 = 생존)\n",
        "*   Ticket: Ticket Number\n",
        "\n",
        "##레퍼런스 (본 과정 내용)\n",
        "*   https://nbviewer.jupyter.org/gist/FinanceData/02b5aba7dbcf9f32bddd7c17be5d479a\n",
        "\n"
      ]
    },
    {
      "metadata": {
        "id": "l6xdNQNd-ebv",
        "colab_type": "code",
        "colab": {}
      },
      "cell_type": "code",
      "source": [
        ""
      ],
      "execution_count": 0,
      "outputs": []
    },
    {
      "metadata": {
        "id": "aPB9lOvZO9OE",
        "colab_type": "text"
      },
      "cell_type": "markdown",
      "source": [
        "#데이터 확보"
      ]
    },
    {
      "metadata": {
        "id": "IB4eKgxb3YDp",
        "colab_type": "code",
        "colab": {}
      },
      "cell_type": "code",
      "source": [
        "import pandas as pd\n",
        "\n",
        "df = pd.read_csv('https://raw.githubusercontent.com/TeamHG-Memex/eli5/master/notebooks/titanic-train.csv')\n",
        "df.to_csv('titanic-train.csv')"
      ],
      "execution_count": 0,
      "outputs": []
    },
    {
      "metadata": {
        "id": "JJ52HDxCRtMO",
        "colab_type": "text"
      },
      "cell_type": "markdown",
      "source": [
        "# ELI5\n",
        "* 훈련을 마친 머신러닝 분류기의 오류를 찾거나 예측결과에 설명력을 더하기 위한 파이썬 패키지\n",
        "* XGBoost 및 대부분의 scikit-learn tree 앙상블 모형에 대해 적용 가능\n",
        "* ELI5는 분류 및 회귀 모형에 대해 이뤄지는 두 가지 주요 노력에 대한 솔루션을 제공하고 있음\n",
        "  1. 모형의 파라메터들을 조사하고, 모델이 전반적으로 작동하는 방식을 분간\n",
        "  \n",
        "     ① ELI5.show_weights()\n",
        "     \n",
        "     ② Permutation Importance 방식 사용\n",
        "     \n",
        "        - 검증 데이터 한 레코드의 특정 속성 값을 noise로 대체한 상태에서 score 계산\n",
        "        - 가령, 한 레코드에서 성별 속성(male)을 결측 처리(변경)하기 전후 간 score 값 두 개를 비교하여 성별 속성이 얼마나 중요한지를 정량화함\n",
        "        - 특정 속성 값이 제공되지 않을 때 score가 감소하는 정도를 계산하여 feature importance를 추론함\n",
        "        - 여기서, 대체된 값(결측)이 noise라는 가정, 즉, 대체값이 score에 큰 영향을 미치지 않는다는 가정 필요\n",
        "     \n",
        "  2. 특정 입력값에 대한 모형의 예측을 조사하고, 모형이 내린 결정의 이유를 찾아냄\n",
        "  \n",
        "      ① ELI5.show_prediction()\n",
        "      \n",
        "      ② LIME 알고리즘이 사용됨\n",
        "\n",
        "\n",
        "\n",
        "\n",
        "\n",
        "#출처\n",
        "##(소스 코드)\n",
        "* https://eli5.readthedocs.io/en/latest/tutorials/xgboost-titanic.html\n",
        "* https://buildmedia.readthedocs.org/media/pdf/eli5/latest/eli5.pdf\n",
        "\n",
        "##(기타)\n",
        "* https://towardsdatascience.com/3-ways-to-interpretate-your-nlp-model-to-management-and-customer-5428bc07ce15\n",
        "\n",
        "##(LIME)\n",
        "* https://homes.cs.washington.edu/~marcotcr/blog/lime/"
      ]
    },
    {
      "metadata": {
        "id": "AGVyAN6Urvu-",
        "colab_type": "code",
        "colab": {}
      },
      "cell_type": "code",
      "source": [
        ""
      ],
      "execution_count": 0,
      "outputs": []
    },
    {
      "metadata": {
        "id": "QJHTlH8mPQQb",
        "colab_type": "text"
      },
      "cell_type": "markdown",
      "source": [
        "#데이터 읽어오기"
      ]
    },
    {
      "metadata": {
        "id": "ZAw8ao-I3yzM",
        "colab_type": "code",
        "outputId": "4d0b0e3e-7346-491d-9c6f-55ce4dcb5096",
        "colab": {
          "base_uri": "https://localhost:8080/",
          "height": 485
        }
      },
      "cell_type": "code",
      "source": [
        "import csv\n",
        "import numpy as np\n",
        "\n",
        "with open('titanic-train.csv', 'rt') as f:\n",
        "  \n",
        "  # csv 각 행을 읽어 -> OrderedDict 타입으로 변환\n",
        "  # ※ OrderedDict의 key는 fieldnames 옵션으로 지정되나\n",
        "  #      (ex. reader = csv.DictReader( f, fieldnames = ( \"foo\",\"bar\",\"foobar\",\"barfoo\" )))\n",
        "  #    fieldnames 옵션이 부여되지 않은 경우, csv 파일 첫번째 행이 fieldnames으로 사용됨\n",
        "  data = list(csv.DictReader(f))\n",
        "    \n",
        "data[:2]"
      ],
      "execution_count": 0,
      "outputs": [
        {
          "output_type": "execute_result",
          "data": {
            "text/plain": [
              "[OrderedDict([('', '0'),\n",
              "              ('PassengerId', '1'),\n",
              "              ('Survived', '0'),\n",
              "              ('Pclass', '3'),\n",
              "              ('Name', 'Braund, Mr. Owen Harris'),\n",
              "              ('Sex', 'male'),\n",
              "              ('Age', '22.0'),\n",
              "              ('SibSp', '1'),\n",
              "              ('Parch', '0'),\n",
              "              ('Ticket', 'A/5 21171'),\n",
              "              ('Fare', '7.25'),\n",
              "              ('Cabin', ''),\n",
              "              ('Embarked', 'S')]),\n",
              " OrderedDict([('', '1'),\n",
              "              ('PassengerId', '2'),\n",
              "              ('Survived', '1'),\n",
              "              ('Pclass', '1'),\n",
              "              ('Name', 'Cumings, Mrs. John Bradley (Florence Briggs Thayer)'),\n",
              "              ('Sex', 'female'),\n",
              "              ('Age', '38.0'),\n",
              "              ('SibSp', '1'),\n",
              "              ('Parch', '0'),\n",
              "              ('Ticket', 'PC 17599'),\n",
              "              ('Fare', '71.2833'),\n",
              "              ('Cabin', 'C85'),\n",
              "              ('Embarked', 'C')])]"
            ]
          },
          "metadata": {
            "tags": []
          },
          "execution_count": 2
        }
      ]
    },
    {
      "metadata": {
        "id": "q_FMcXFWkQxA",
        "colab_type": "code",
        "outputId": "30a7954a-be87-42d0-fc21-69e9593f4605",
        "colab": {
          "base_uri": "https://localhost:8080/",
          "height": 35
        }
      },
      "cell_type": "code",
      "source": [
        "dict({1: 2})"
      ],
      "execution_count": 0,
      "outputs": [
        {
          "output_type": "execute_result",
          "data": {
            "text/plain": [
              "{1: 2}"
            ]
          },
          "metadata": {
            "tags": []
          },
          "execution_count": 3
        }
      ]
    },
    {
      "metadata": {
        "id": "z1nEjY0nPyNW",
        "colab_type": "text"
      },
      "cell_type": "markdown",
      "source": [
        "# 입력용과 라벨용 컬럼 분리 후 훈련용, 검증용 데이터 나눔"
      ]
    },
    {
      "metadata": {
        "id": "QGJCkj4C347e",
        "colab_type": "code",
        "outputId": "05b1b23e-13e4-40c6-fb81-cb4c9e461e62",
        "colab": {
          "base_uri": "https://localhost:8080/",
          "height": 35
        }
      },
      "cell_type": "code",
      "source": [
        "import numpy as np\n",
        "from sklearn.utils import shuffle\n",
        "from sklearn.model_selection import train_test_split\n",
        "\n",
        "###########################################################################\n",
        "# 입력 추출\n",
        "###########################################################################\n",
        "#(ASIS)\n",
        "#_all_xs = [{k: v for k, v in row.items() if k != 'Survived'} for row in data]\n",
        "\n",
        "#(TOBE)\n",
        "_all_xs = []\n",
        "for odict_row in data:\n",
        "  \n",
        "  dictionary = {}\n",
        "  \n",
        "  #레코드 내 컬럼 순환\n",
        "  for key, value in odict_row.items():\n",
        "    # 컬럼 'Survived'를 제외한 나머지 속성들만 딕셔너리로 재구성\n",
        "    if key != 'Survived':      \n",
        "      dictionary[key] = value\n",
        "      \n",
        "  #딕셔너리들을 리스트로 구성\n",
        "  _all_xs.append(dictionary)\n",
        "\n",
        "###########################################################################\n",
        "# 라벨 추출\n",
        "###########################################################################\n",
        "#(ASIS)\n",
        "# _all_ys = np.array([int(row['Survived']) for row in data])\n",
        "# _all_ys\n",
        "\n",
        "#(TOBE)\n",
        "_list_ys = []\n",
        "for odict_row in data:\n",
        "  _list_ys.append(int(odict_row['Survived']))\n",
        "  \n",
        "_all_ys = np.array(_list_ys)\n",
        "\n",
        "###########################################################################\n",
        "# 입력 및 라벨 쌍 순서 섞기\n",
        "###########################################################################\n",
        "# _all_xs, _all_ys 두 배열 내 순서가 동일한 원소 쌍을 다른 원소 쌍과 임의로 섞고 그 결과를 반환\n",
        "# ... 훈련(train) 데이터와 검증(valid) 데이터 추출에 앞서 무작위성 부여\n",
        "all_xs, all_ys = shuffle(_all_xs, _all_ys, random_state=0)\n",
        "\n",
        "###########################################################################\n",
        "# 원천 데이터(입력 및 라벨)을 훈련용과 검증용으로 나눔\n",
        "###########################################################################\n",
        "# test_size=0.25 ... 전체 데이터의 25%만 테스트 데이터로 활용\n",
        "train_xs, valid_xs, train_ys, valid_ys = train_test_split(all_xs, all_ys, test_size=0.25, random_state=0)\n",
        "\n",
        "print('{} items total, {:.1%} survived'.format(len(all_xs), np.mean(all_ys)))"
      ],
      "execution_count": 0,
      "outputs": [
        {
          "output_type": "stream",
          "text": [
            "891 items total, 38.4% survived\n"
          ],
          "name": "stdout"
        }
      ]
    },
    {
      "metadata": {
        "id": "OJWmqgDerCfq",
        "colab_type": "code",
        "outputId": "2cfbfaef-0dd8-4ef4-c23f-fd0d4aa98db8",
        "colab": {
          "base_uri": "https://localhost:8080/",
          "height": 449
        }
      },
      "cell_type": "code",
      "source": [
        "# 훈련용 데이터 샘플 ... 딕셔너리 리스트\n",
        "train_xs[:2]"
      ],
      "execution_count": 0,
      "outputs": [
        {
          "output_type": "execute_result",
          "data": {
            "text/plain": [
              "[{'': '279',\n",
              "  'Age': '35.0',\n",
              "  'Cabin': '',\n",
              "  'Embarked': 'S',\n",
              "  'Fare': '20.25',\n",
              "  'Name': 'Abbott, Mrs. Stanton (Rosa Hunt)',\n",
              "  'Parch': '1',\n",
              "  'PassengerId': '280',\n",
              "  'Pclass': '3',\n",
              "  'Sex': 'female',\n",
              "  'SibSp': '1',\n",
              "  'Ticket': 'C.A. 2673'},\n",
              " {'': '530',\n",
              "  'Age': '2.0',\n",
              "  'Cabin': '',\n",
              "  'Embarked': 'S',\n",
              "  'Fare': '26.0',\n",
              "  'Name': 'Quick, Miss. Phyllis May',\n",
              "  'Parch': '1',\n",
              "  'PassengerId': '531',\n",
              "  'Pclass': '2',\n",
              "  'Sex': 'female',\n",
              "  'SibSp': '1',\n",
              "  'Ticket': '26360'}]"
            ]
          },
          "metadata": {
            "tags": []
          },
          "execution_count": 5
        }
      ]
    },
    {
      "metadata": {
        "id": "6QW0yungP7w9",
        "colab_type": "text"
      },
      "cell_type": "markdown",
      "source": [
        "# 문자형 숫자를 숫자형으로 형변환\n",
        "* Pclass, Sex 등 범주형 데이터들을 전처리 없이 진행  ∵ 이후 DictVectorizer 객체에 의해 one-hot coding 처리됨"
      ]
    },
    {
      "metadata": {
        "id": "74Fyysi937tl",
        "colab_type": "code",
        "colab": {}
      },
      "cell_type": "code",
      "source": [
        "for x in all_xs:\n",
        "  \n",
        "  # 레코드 내 나이 값이 없으면 나이 속성만 제거\n",
        "  if x['Age']:\n",
        "    x['Age'] = float(x['Age'])\n",
        "  else:\n",
        "    x.pop('Age')\n",
        "\n",
        "  x['Fare'] = float(x['Fare'])\n",
        "  x['SibSp'] = int(x['SibSp'])   #형제자매+배우자 탑승인원\n",
        "  x['Parch'] = int(x['Parch'])   #부모+자식 탑승인원"
      ],
      "execution_count": 0,
      "outputs": []
    },
    {
      "metadata": {
        "id": "bKCJ8gjeuQzP",
        "colab_type": "code",
        "outputId": "554f51d9-588f-46db-c26d-4d230b2a2003",
        "colab": {
          "base_uri": "https://localhost:8080/",
          "height": 629
        }
      },
      "cell_type": "code",
      "source": [
        "all_xs[:3]"
      ],
      "execution_count": 0,
      "outputs": [
        {
          "output_type": "execute_result",
          "data": {
            "text/plain": [
              "[{'': '495',\n",
              "  'Cabin': '',\n",
              "  'Embarked': 'C',\n",
              "  'Fare': 14.4583,\n",
              "  'Name': 'Yousseff, Mr. Gerious',\n",
              "  'Parch': 0,\n",
              "  'PassengerId': '496',\n",
              "  'Pclass': '3',\n",
              "  'Sex': 'male',\n",
              "  'SibSp': 0,\n",
              "  'Ticket': '2627'},\n",
              " {'': '648',\n",
              "  'Cabin': '',\n",
              "  'Embarked': 'S',\n",
              "  'Fare': 7.55,\n",
              "  'Name': 'Willey, Mr. Edward',\n",
              "  'Parch': 0,\n",
              "  'PassengerId': '649',\n",
              "  'Pclass': '3',\n",
              "  'Sex': 'male',\n",
              "  'SibSp': 0,\n",
              "  'Ticket': 'S.O./P.P. 751'},\n",
              " {'': '278',\n",
              "  'Age': 7.0,\n",
              "  'Cabin': '',\n",
              "  'Embarked': 'Q',\n",
              "  'Fare': 29.125,\n",
              "  'Name': 'Rice, Master. Eric',\n",
              "  'Parch': 1,\n",
              "  'PassengerId': '279',\n",
              "  'Pclass': '3',\n",
              "  'Sex': 'male',\n",
              "  'SibSp': 4,\n",
              "  'Ticket': '382652'}]"
            ]
          },
          "metadata": {
            "tags": []
          },
          "execution_count": 7
        }
      ]
    },
    {
      "metadata": {
        "id": "753FVTdZQLFf",
        "colab_type": "text"
      },
      "cell_type": "markdown",
      "source": [
        "#사용 모형 ...  XGBoost classifier\n",
        "* 예측을 위해, XGBoost는 내부적으로 생성된 tree들의 각 예측값을 합함\n",
        "* 몇 개의 tree들을 생성할지는 n_estimators 옵션으로 설정하며, default값은 100 임\n",
        "* 개별 tree 각각은 예측력이 떨어지지만 tree들 각각의 예측값을 합할 때 좋은 예측력을 보임\n",
        "\n",
        "#XGBoost classifier 성능을 10-fold cross validation으로 측정해보기"
      ]
    },
    {
      "metadata": {
        "id": "m4qQAmzv3950",
        "colab_type": "code",
        "outputId": "e4bfaba3-6df3-4eba-a327-c7ee0fb2bc0a",
        "colab": {
          "base_uri": "https://localhost:8080/",
          "height": 35
        }
      },
      "cell_type": "code",
      "source": [
        "from xgboost import XGBClassifier\n",
        "from sklearn.feature_extraction import DictVectorizer\n",
        "\n",
        "from sklearn.pipeline import make_pipeline\n",
        "from sklearn.model_selection import cross_val_score\n",
        "\n",
        "#XGBoost 분류 모형 정의\n",
        "clf = XGBClassifier()\n",
        "\n",
        "#DictVectorizer\n",
        "#... 문서 내 단어의 출현 빈도를 담은 딕셔너리 정보를 입력받아 BOW (Bag of Words) 인코딩한 수치 벡터로 변환함\n",
        "#    ※ https://datascienceschool.net/view-notebook/3e7aadbf88ed4f0d87a76f9ddc925d69/\n",
        "#... 앞선 all_xs 내 레코드들 가운데 나이 속성이 제거된 레코드들과 제거되지 않은 레코드들을 일관되게 처리하기 위함\n",
        "vec = DictVectorizer()\n",
        "\n",
        "\n",
        "# 레퍼런스\n",
        "# : https://www.kaggle.com/baghern/a-deep-dive-into-sklearn-pipelines\n",
        "#   (Pipeline과 make_pipeline 간 차이) https://stackoverflow.com/questions/40708077/what-is-the-difference-between-pipeline-and-make-pipeline-in-scikit\n",
        "\n",
        "# Pipelines are a way to streamline a lot of the routine processes, \n",
        "# encapsulating little pieces of logic into one function call, \n",
        "# which makes it easier to actually do modeling instead just writing a bunch of code. \n",
        "\n",
        "# Pipelines allow for experiments, and \n",
        "# for a dataset like this that only has the text as a feature, \n",
        "# you're going to need to do a lot of experiments. \n",
        "# Plus, when your modeling gets really complicated, \n",
        "# it's sometimes hard to see if you have any data leakage hiding somewhere. \n",
        "\n",
        "# Pipelines are set up with the fit/transform/predict functionality, \n",
        "# so you can fit a whole pipeline to the training data and \n",
        "# transform to the test data, without having to do it individually for each thing you do.\n",
        "\n",
        "# Construct a Pipeline from the given estimators\n",
        "pipeline = make_pipeline(vec, clf)\n",
        "\n",
        "def evaluate(_clf):\n",
        "  \n",
        "  ####################################################################\n",
        "  #cross-validation (cv=10)으로 미리 성능 측정해보기 (기준은 f1 score)\n",
        "  ####################################################################\n",
        "  #(Classification의 경우) scoring ... 'accuracy', 'f1', 'recall', 'precision'\n",
        "  scores = cross_val_score(_clf, all_xs, all_ys, scoring='f1', cv=10)\n",
        "  \n",
        "  print('{:d} scores\\' f1 range: {:.3f} ± {:.3f}'.format(len(scores), np.mean(scores), 2 * np.std(scores)))\n",
        "  \n",
        "  ###################################################\n",
        "  #사전에 추출해놓은 훈련데이터로 모델 훈련\n",
        "  ###################################################\n",
        "  _clf.fit(train_xs, train_ys)  # so that parts of the original pipeline are fitted\n",
        "  \n",
        "  \n",
        "\n",
        "evaluate(pipeline)"
      ],
      "execution_count": 0,
      "outputs": [
        {
          "output_type": "stream",
          "text": [
            "10 scores' f1 range: 0.750 ± 0.116\n"
          ],
          "name": "stdout"
        }
      ]
    },
    {
      "metadata": {
        "id": "7WqrD13KJsaY",
        "colab_type": "text"
      },
      "cell_type": "markdown",
      "source": [
        "##XGBoost Classifier 트리모델 그리기"
      ]
    },
    {
      "metadata": {
        "id": "-a1D7zLl0d4u",
        "colab_type": "code",
        "outputId": "a5d6b6ca-041f-45fe-b0c6-d9a349a981bc",
        "colab": {
          "base_uri": "https://localhost:8080/",
          "height": 274
        }
      },
      "cell_type": "code",
      "source": [
        "#%matplotlib inline\n",
        "import xgboost as xgb\n",
        "from xgboost import plot_tree\n",
        "import matplotlib.pyplot as plt\n",
        "from matplotlib.pylab import rcParams\n",
        "from matplotlib.pylab import gcf\n",
        "\n",
        "#rcParams['figure.figsize'] = 20,13\n",
        "plot_tree(clf)\n",
        "fig = gcf()\n",
        "fig.set_size_inches(18.5, 10.5)\n",
        "#plt.show()"
      ],
      "execution_count": 0,
      "outputs": [
        {
          "output_type": "display_data",
          "data": {
            "image/png": "[encoded data removed]",
            "text/plain": [
              "<Figure size 1332x756 with 1 Axes>"
            ]
          },
          "metadata": {
            "tags": []
          }
        }
      ]
    },
    {
      "metadata": {
        "id": "6AqteotzQblu",
        "colab_type": "text"
      },
      "cell_type": "markdown",
      "source": [
        "# XGBoost 모형의 첫번째 tree를 살펴봄\n",
        "* 결과에서 나타나다시피, tree가 성별, 나이, 등급(Pclass), 요금 그리고 형제자매+배우자 탑승인원을 체크하고 있음\n",
        "* 우측 끝단(leaf)을 통해, 이 tree의 판단이 값으로 반환되고, 앙상블 모형인 XGBoost에 의해서 생성된 각 tree들로부터 결정값들이 합산됨"
      ]
    },
    {
      "metadata": {
        "id": "e5JbRS9O4DjH",
        "colab_type": "code",
        "outputId": "aacb69f0-bdb5-4dcf-93ce-c1aa21a7e4c9",
        "colab": {
          "base_uri": "https://localhost:8080/",
          "height": 593
        }
      },
      "cell_type": "code",
      "source": [
        "# 모형의 원 (익명화된) 속성명 보관\n",
        "booster = clf.get_booster()\n",
        "original_feature_names = booster.feature_names\n",
        "print(booster.get_dump()[0])\n",
        "\n",
        "# 벡터화된 데이터 구조의 속성명을 모형 속성명에 설정\n",
        "booster.feature_names = vec.get_feature_names()\n",
        "print(booster.get_dump()[0])\n",
        "\n",
        "# 모형 속성명 원위치\n",
        "booster.feature_names = original_feature_names"
      ],
      "execution_count": 0,
      "outputs": [
        {
          "output_type": "stream",
          "text": [
            "0:[f2134<-9.53674316e-07] yes=1,no=2,missing=1\n",
            "\t1:[f668<13] yes=3,no=4,missing=4\n",
            "\t\t3:[f2136<2] yes=7,no=8,missing=7\n",
            "\t\t\t7:leaf=0.145454556\n",
            "\t\t\t8:leaf=-0.125\n",
            "\t\t4:[f793<26.2687492] yes=9,no=10,missing=9\n",
            "\t\t\t9:leaf=-0.151515156\n",
            "\t\t\t10:leaf=-0.0727272779\n",
            "\t2:[f2133<-9.53674316e-07] yes=5,no=6,missing=5\n",
            "\t\t5:[f793<12.1750002] yes=11,no=12,missing=12\n",
            "\t\t\t11:leaf=0.0500000007\n",
            "\t\t\t12:leaf=0.175193802\n",
            "\t\t6:[f793<24.8083496] yes=13,no=14,missing=14\n",
            "\t\t\t13:leaf=0.0365591422\n",
            "\t\t\t14:leaf=-0.151999995\n",
            "\n",
            "0:[Sex=female<-9.53674316e-07] yes=1,no=2,missing=1\n",
            "\t1:[Age<13] yes=3,no=4,missing=4\n",
            "\t\t3:[SibSp<2] yes=7,no=8,missing=7\n",
            "\t\t\t7:leaf=0.145454556\n",
            "\t\t\t8:leaf=-0.125\n",
            "\t\t4:[Fare<26.2687492] yes=9,no=10,missing=9\n",
            "\t\t\t9:leaf=-0.151515156\n",
            "\t\t\t10:leaf=-0.0727272779\n",
            "\t2:[Pclass=3<-9.53674316e-07] yes=5,no=6,missing=5\n",
            "\t\t5:[Fare<12.1750002] yes=11,no=12,missing=12\n",
            "\t\t\t11:leaf=0.0500000007\n",
            "\t\t\t12:leaf=0.175193802\n",
            "\t\t6:[Fare<24.8083496] yes=13,no=14,missing=14\n",
            "\t\t\t13:leaf=0.0365591422\n",
            "\t\t\t14:leaf=-0.151999995\n",
            "\n"
          ],
          "name": "stdout"
        }
      ]
    },
    {
      "metadata": {
        "id": "g9jdqcQEKeOW",
        "colab_type": "code",
        "outputId": "379864b5-2066-4484-fc87-2119d6a02d79",
        "colab": {
          "base_uri": "https://localhost:8080/",
          "height": 287
        }
      },
      "cell_type": "code",
      "source": [
        "!pip install eli5"
      ],
      "execution_count": 0,
      "outputs": [
        {
          "output_type": "stream",
          "text": [
            "Collecting eli5\n",
            "\u001b[?25l  Downloading https://files.pythonhosted.org/packages/ee/2b/246db9e1c2d6f38e999daf0c4d5e54f36fbd0b937ffb13a34d32c2139403/eli5-0.8.2-py2.py3-none-any.whl (98kB)\n",
            "\u001b[K    100% |████████████████████████████████| 102kB 2.7MB/s \n",
            "\u001b[?25hRequirement already satisfied: six in /usr/local/lib/python3.6/dist-packages (from eli5) (1.11.0)\n",
            "Requirement already satisfied: numpy>=1.9.0 in /usr/local/lib/python3.6/dist-packages (from eli5) (1.16.2)\n",
            "Requirement already satisfied: typing in /usr/local/lib/python3.6/dist-packages (from eli5) (3.6.6)\n",
            "Requirement already satisfied: tabulate>=0.7.7 in /usr/local/lib/python3.6/dist-packages (from eli5) (0.8.3)\n",
            "Requirement already satisfied: jinja2 in /usr/local/lib/python3.6/dist-packages (from eli5) (2.10.1)\n",
            "Requirement already satisfied: scikit-learn>=0.18 in /usr/local/lib/python3.6/dist-packages (from eli5) (0.20.3)\n",
            "Requirement already satisfied: scipy in /usr/local/lib/python3.6/dist-packages (from eli5) (1.2.1)\n",
            "Requirement already satisfied: attrs>16.0.0 in /usr/local/lib/python3.6/dist-packages (from eli5) (19.1.0)\n",
            "Requirement already satisfied: graphviz in /usr/local/lib/python3.6/dist-packages (from eli5) (0.10.1)\n",
            "Requirement already satisfied: MarkupSafe>=0.23 in /usr/local/lib/python3.6/dist-packages (from jinja2->eli5) (1.1.1)\n",
            "Installing collected packages: eli5\n",
            "Successfully installed eli5-0.8.2\n"
          ],
          "name": "stdout"
        }
      ]
    },
    {
      "metadata": {
        "id": "llIH2FTxNJp1",
        "colab_type": "text"
      },
      "cell_type": "markdown",
      "source": [
        "##ELI5.show_weights()\n",
        "* 분류기의 입력 속성별 Weight을 IPython.display.HTML 객체로 반환해줌\n",
        "* Weight은 각 속성이 모든 tree들의 최종 예측에 얼마나 기여했는지에 대한 정량화된 지표값임\n",
        "* Weight 계산 방식은 다음 url에 상술되어 있음:  http://blog.datadive.net/interpreting-random-forests/\n",
        "*  Weight을 계산하는 몇 가지 방식 중 세 가지가 제공됨\n",
        "   1. gain (default 방식) : tree에 사용된 속성별 평균 이득\n",
        "   2. weight : 데이터를 가르기 위해 속성이 사용된 횟수\n",
        "   3. cover : the average coverage of the feature\n",
        "\n",
        "* 성별(Sex=female)과 등급(Pclass=3) 두 개가 가장 중요한 속성으로 나타남\n",
        "* 그러나, XGBoost 어째서 그와 같은 판단을 내렸는지에 대해선 알 수 없음\n"
      ]
    },
    {
      "metadata": {
        "id": "yUNSLSPm4GGN",
        "colab_type": "code",
        "outputId": "38bed25c-a559-4a8d-ac2d-2394618386f9",
        "colab": {
          "base_uri": "https://localhost:8080/",
          "height": 221
        }
      },
      "cell_type": "code",
      "source": [
        "from eli5 import show_weights\n",
        "from IPython.display import display\n",
        "\n",
        "\n",
        "display(show_weights(clf, vec=vec, importance_type='gain', top=10))"
      ],
      "execution_count": 0,
      "outputs": [
        {
          "output_type": "display_data",
          "data": {
            "text/html": [
              "\n",
              "    <style>\n",
              "    table.eli5-weights tr:hover {\n",
              "        filter: brightness(85%);\n",
              "    }\n",
              "</style>\n",
              "\n",
              "\n",
              "\n",
              "    \n",
              "\n",
              "    \n",
              "\n",
              "    \n",
              "\n",
              "    \n",
              "\n",
              "    \n",
              "\n",
              "    \n",
              "\n",
              "\n",
              "    \n",
              "\n",
              "    \n",
              "\n",
              "    \n",
              "\n",
              "    \n",
              "\n",
              "    \n",
              "\n",
              "    \n",
              "\n",
              "\n",
              "    \n",
              "\n",
              "    \n",
              "\n",
              "    \n",
              "\n",
              "    \n",
              "\n",
              "    \n",
              "        <table class=\"eli5-weights eli5-feature-importances\" style=\"border-collapse: collapse; border: none; margin-top: 0em; table-layout: auto;\">\n",
              "    <thead>\n",
              "    <tr style=\"border: none;\">\n",
              "        <th style=\"padding: 0 1em 0 0.5em; text-align: right; border: none;\">Weight</th>\n",
              "        <th style=\"padding: 0 0.5em 0 0.5em; text-align: left; border: none;\">Feature</th>\n",
              "    </tr>\n",
              "    </thead>\n",
              "    <tbody>\n",
              "    \n",
              "        <tr style=\"background-color: hsl(120, 100.00%, 80.00%); border: none;\">\n",
              "            <td style=\"padding: 0 1em 0 0.5em; text-align: right; border: none;\">\n",
              "                0.4278\n",
              "                \n",
              "            </td>\n",
              "            <td style=\"padding: 0 0.5em 0 0.5em; text-align: left; border: none;\">\n",
              "                Sex=female\n",
              "            </td>\n",
              "        </tr>\n",
              "    \n",
              "        <tr style=\"background-color: hsl(120, 100.00%, 88.46%); border: none;\">\n",
              "            <td style=\"padding: 0 1em 0 0.5em; text-align: right; border: none;\">\n",
              "                0.1949\n",
              "                \n",
              "            </td>\n",
              "            <td style=\"padding: 0 0.5em 0 0.5em; text-align: left; border: none;\">\n",
              "                Pclass=3\n",
              "            </td>\n",
              "        </tr>\n",
              "    \n",
              "        <tr style=\"background-color: hsl(120, 100.00%, 94.57%); border: none;\">\n",
              "            <td style=\"padding: 0 1em 0 0.5em; text-align: right; border: none;\">\n",
              "                0.0665\n",
              "                \n",
              "            </td>\n",
              "            <td style=\"padding: 0 0.5em 0 0.5em; text-align: left; border: none;\">\n",
              "                Embarked=S\n",
              "            </td>\n",
              "        </tr>\n",
              "    \n",
              "        <tr style=\"background-color: hsl(120, 100.00%, 95.49%); border: none;\">\n",
              "            <td style=\"padding: 0 1em 0 0.5em; text-align: right; border: none;\">\n",
              "                0.0510\n",
              "                \n",
              "            </td>\n",
              "            <td style=\"padding: 0 0.5em 0 0.5em; text-align: left; border: none;\">\n",
              "                Pclass=2\n",
              "            </td>\n",
              "        </tr>\n",
              "    \n",
              "        <tr style=\"background-color: hsl(120, 100.00%, 96.06%); border: none;\">\n",
              "            <td style=\"padding: 0 1em 0 0.5em; text-align: right; border: none;\">\n",
              "                0.0420\n",
              "                \n",
              "            </td>\n",
              "            <td style=\"padding: 0 0.5em 0 0.5em; text-align: left; border: none;\">\n",
              "                SibSp\n",
              "            </td>\n",
              "        </tr>\n",
              "    \n",
              "        <tr style=\"background-color: hsl(120, 100.00%, 96.08%); border: none;\">\n",
              "            <td style=\"padding: 0 1em 0 0.5em; text-align: right; border: none;\">\n",
              "                0.0417\n",
              "                \n",
              "            </td>\n",
              "            <td style=\"padding: 0 0.5em 0 0.5em; text-align: left; border: none;\">\n",
              "                Cabin=\n",
              "            </td>\n",
              "        </tr>\n",
              "    \n",
              "        <tr style=\"background-color: hsl(120, 100.00%, 96.29%); border: none;\">\n",
              "            <td style=\"padding: 0 1em 0 0.5em; text-align: right; border: none;\">\n",
              "                0.0385\n",
              "                \n",
              "            </td>\n",
              "            <td style=\"padding: 0 0.5em 0 0.5em; text-align: left; border: none;\">\n",
              "                Embarked=C\n",
              "            </td>\n",
              "        </tr>\n",
              "    \n",
              "        <tr style=\"background-color: hsl(120, 100.00%, 96.47%); border: none;\">\n",
              "            <td style=\"padding: 0 1em 0 0.5em; text-align: right; border: none;\">\n",
              "                0.0358\n",
              "                \n",
              "            </td>\n",
              "            <td style=\"padding: 0 0.5em 0 0.5em; text-align: left; border: none;\">\n",
              "                Ticket=1601\n",
              "            </td>\n",
              "        </tr>\n",
              "    \n",
              "        <tr style=\"background-color: hsl(120, 100.00%, 96.66%); border: none;\">\n",
              "            <td style=\"padding: 0 1em 0 0.5em; text-align: right; border: none;\">\n",
              "                0.0331\n",
              "                \n",
              "            </td>\n",
              "            <td style=\"padding: 0 0.5em 0 0.5em; text-align: left; border: none;\">\n",
              "                Age\n",
              "            </td>\n",
              "        </tr>\n",
              "    \n",
              "        <tr style=\"background-color: hsl(120, 100.00%, 96.72%); border: none;\">\n",
              "            <td style=\"padding: 0 1em 0 0.5em; text-align: right; border: none;\">\n",
              "                0.0323\n",
              "                \n",
              "            </td>\n",
              "            <td style=\"padding: 0 0.5em 0 0.5em; text-align: left; border: none;\">\n",
              "                Fare\n",
              "            </td>\n",
              "        </tr>\n",
              "    \n",
              "    \n",
              "        \n",
              "            <tr style=\"background-color: hsl(120, 100.00%, 96.72%); border: none;\">\n",
              "                <td colspan=\"2\" style=\"padding: 0 0.5em 0 0.5em; text-align: center; border: none; white-space: nowrap;\">\n",
              "                    <i>&hellip; 2650 more &hellip;</i>\n",
              "                </td>\n",
              "            </tr>\n",
              "        \n",
              "    \n",
              "    </tbody>\n",
              "</table>\n",
              "    \n",
              "\n",
              "    \n",
              "\n",
              "\n",
              "    \n",
              "\n",
              "    \n",
              "\n",
              "    \n",
              "\n",
              "    \n",
              "\n",
              "    \n",
              "\n",
              "    \n",
              "\n",
              "\n",
              "\n"
            ],
            "text/plain": [
              "<IPython.core.display.HTML object>"
            ]
          },
          "metadata": {
            "tags": []
          }
        }
      ]
    },
    {
      "metadata": {
        "id": "CGCMK_1lD_z4",
        "colab_type": "code",
        "outputId": "04bf2ff0-920f-4963-ce1b-c08a8829c665",
        "colab": {
          "base_uri": "https://localhost:8080/",
          "height": 337
        }
      },
      "cell_type": "code",
      "source": [
        "import pandas as pd\n",
        "\n",
        "def draw_bar(chart_name, feature_names, feature_values):\n",
        "  import matplotlib.pyplot as plt\n",
        "  import numpy as np\n",
        "  \n",
        "  y = feature_values\n",
        "  x = np.arange(len(y))\n",
        "  xlabel = feature_names\n",
        "  plt.title(chart_name)\n",
        "  plt.xticks(x, xlabel, rotation=90)\n",
        "  plt.bar(x, y)\n",
        "  plt.show()\n",
        "\n",
        "  \n",
        "ll = list(zip(vec.get_feature_names(), clf.feature_importances_))\n",
        "sd = sorted(ll, key=lambda x: x[1])\n",
        "\n",
        "df =pd.DataFrame(sd)\n",
        "\n",
        "df = df[df[1] > 0]\n",
        "\n",
        "draw_bar('feature importance@XGBoostClassifier', df[0].values, df[1].values)"
      ],
      "execution_count": 0,
      "outputs": [
        {
          "output_type": "display_data",
          "data": {
            "image/png": "[encoded data removed]",
            "text/plain": [
              "<Figure size 432x288 with 1 Axes>"
            ]
          },
          "metadata": {
            "tags": []
          }
        }
      ]
    },
    {
      "metadata": {
        "id": "AKaIiZ2_M29W",
        "colab_type": "text"
      },
      "cell_type": "markdown",
      "source": [
        "##ELI5.show_prediction()\n",
        "* 분류기의 예측에 대한 설명을 IPython.display.HTML 객체로 반환해줌"
      ]
    },
    {
      "metadata": {
        "id": "Q8U78bUFQn-C",
        "colab_type": "code",
        "outputId": "2d453c2b-536a-4b41-ef87-657ea6f74000",
        "colab": {
          "base_uri": "https://localhost:8080/",
          "height": 233
        }
      },
      "cell_type": "code",
      "source": [
        "#특정 입력값\n",
        "valid_xs[1]"
      ],
      "execution_count": 0,
      "outputs": [
        {
          "output_type": "execute_result",
          "data": {
            "text/plain": [
              "{'': '44',\n",
              " 'Age': 19.0,\n",
              " 'Cabin': '',\n",
              " 'Embarked': 'Q',\n",
              " 'Fare': 7.8792,\n",
              " 'Name': 'Devaney, Miss. Margaret Delia',\n",
              " 'Parch': 0,\n",
              " 'PassengerId': '45',\n",
              " 'Pclass': '3',\n",
              " 'Sex': 'female',\n",
              " 'SibSp': 0,\n",
              " 'Ticket': '330958'}"
            ]
          },
          "metadata": {
            "tags": []
          },
          "execution_count": 14
        }
      ]
    },
    {
      "metadata": {
        "id": "elctuD-6iox8",
        "colab_type": "text"
      },
      "cell_type": "markdown",
      "source": [
        "* 아래 결과에 따르면, 이 분류기는, 성별이 여성인 승객이란 점이 양(+)의 기여도를 갖으나, 승객 등급이 3등급인 것은 음(-)의 기여도를 갖는 것으로 판단하고 있음을 알 수 있음 \n",
        "* show_feature_values=True 옵션을 주어 어떤 속성들이 결측 상태인지도 확인되고 있는데,  pipeline 내 vectorized 과정에서 생성된 속성 \"Embarked=S\"가 결측 상태이고 다행히 양(+)의 기여를 한 것으로 나타남  ※ 이 승객의 탑승 지역('Embarked')이 'Q'(Queenstown)임"
      ]
    },
    {
      "metadata": {
        "id": "Eo86Y--r4QUC",
        "colab_type": "code",
        "outputId": "4dd28458-a4f6-45eb-f8c2-1866af5a4133",
        "colab": {
          "base_uri": "https://localhost:8080/",
          "height": 310
        }
      },
      "cell_type": "code",
      "source": [
        "# 검증용 데이터 1개 (valid_xs[1]) 로 예측 모형 테스트\n",
        "\n",
        "from eli5 import show_prediction\n",
        "from IPython.display import display\n",
        "\n",
        "display(show_prediction(clf, valid_xs[1], vec=vec, show_feature_values=True))"
      ],
      "execution_count": 0,
      "outputs": [
        {
          "output_type": "display_data",
          "data": {
            "text/html": [
              "\n",
              "    <style>\n",
              "    table.eli5-weights tr:hover {\n",
              "        filter: brightness(85%);\n",
              "    }\n",
              "</style>\n",
              "\n",
              "\n",
              "\n",
              "    \n",
              "\n",
              "    \n",
              "\n",
              "    \n",
              "\n",
              "    \n",
              "\n",
              "    \n",
              "\n",
              "    \n",
              "\n",
              "\n",
              "    \n",
              "\n",
              "    \n",
              "\n",
              "    \n",
              "\n",
              "    \n",
              "        \n",
              "\n",
              "    \n",
              "\n",
              "        \n",
              "            \n",
              "                \n",
              "                \n",
              "    \n",
              "        <p style=\"margin-bottom: 0.5em; margin-top: 0em\">\n",
              "            <b>\n",
              "    \n",
              "        y=1\n",
              "    \n",
              "</b>\n",
              "\n",
              "    \n",
              "    (probability <b>0.566</b>, score <b>0.264</b>)\n",
              "\n",
              "top features\n",
              "        </p>\n",
              "    \n",
              "    <table class=\"eli5-weights\"\n",
              "           style=\"border-collapse: collapse; border: none; margin-top: 0em; table-layout: auto; margin-bottom: 2em;\">\n",
              "        <thead>\n",
              "        <tr style=\"border: none;\">\n",
              "            \n",
              "                <th style=\"padding: 0 1em 0 0.5em; text-align: right; border: none;\" title=\"Feature contribution already accounts for the feature value (for linear models, contribution = weight * feature value), and the sum of feature contributions is equal to the score or, for some classifiers, to the probability. Feature values are shown if &quot;show_feature_values&quot; is True.\">\n",
              "                    Contribution<sup>?</sup>\n",
              "                </th>\n",
              "            \n",
              "            <th style=\"padding: 0 0.5em 0 0.5em; text-align: left; border: none;\">Feature</th>\n",
              "            \n",
              "                <th style=\"padding: 0 0.5em 0 1em; text-align: right; border: none;\">Value</th>\n",
              "            \n",
              "        </tr>\n",
              "        </thead>\n",
              "        <tbody>\n",
              "        \n",
              "            <tr style=\"background-color: hsl(120, 100.00%, 80.00%); border: none;\">\n",
              "    <td style=\"padding: 0 1em 0 0.5em; text-align: right; border: none;\">\n",
              "        +1.673\n",
              "    </td>\n",
              "    <td style=\"padding: 0 0.5em 0 0.5em; text-align: left; border: none;\">\n",
              "        Sex=female\n",
              "    </td>\n",
              "    \n",
              "        <td style=\"padding: 0 0.5em 0 1em; text-align: right; border: none;\">\n",
              "            1.000\n",
              "        </td>\n",
              "    \n",
              "</tr>\n",
              "        \n",
              "            <tr style=\"background-color: hsl(120, 100.00%, 91.67%); border: none;\">\n",
              "    <td style=\"padding: 0 1em 0 0.5em; text-align: right; border: none;\">\n",
              "        +0.479\n",
              "    </td>\n",
              "    <td style=\"padding: 0 0.5em 0 0.5em; text-align: left; border: none;\">\n",
              "        Embarked=S\n",
              "    </td>\n",
              "    \n",
              "        <td style=\"padding: 0 0.5em 0 1em; text-align: right; border: none;\">\n",
              "            Missing\n",
              "        </td>\n",
              "    \n",
              "</tr>\n",
              "        \n",
              "            <tr style=\"background-color: hsl(120, 100.00%, 97.83%); border: none;\">\n",
              "    <td style=\"padding: 0 1em 0 0.5em; text-align: right; border: none;\">\n",
              "        +0.070\n",
              "    </td>\n",
              "    <td style=\"padding: 0 0.5em 0 0.5em; text-align: left; border: none;\">\n",
              "        Fare\n",
              "    </td>\n",
              "    \n",
              "        <td style=\"padding: 0 0.5em 0 1em; text-align: right; border: none;\">\n",
              "            7.879\n",
              "        </td>\n",
              "    \n",
              "</tr>\n",
              "        \n",
              "        \n",
              "\n",
              "        \n",
              "        \n",
              "            <tr style=\"background-color: hsl(0, 100.00%, 99.73%); border: none;\">\n",
              "    <td style=\"padding: 0 1em 0 0.5em; text-align: right; border: none;\">\n",
              "        -0.004\n",
              "    </td>\n",
              "    <td style=\"padding: 0 0.5em 0 0.5em; text-align: left; border: none;\">\n",
              "        Cabin=\n",
              "    </td>\n",
              "    \n",
              "        <td style=\"padding: 0 0.5em 0 1em; text-align: right; border: none;\">\n",
              "            1.000\n",
              "        </td>\n",
              "    \n",
              "</tr>\n",
              "        \n",
              "            <tr style=\"background-color: hsl(0, 100.00%, 99.63%); border: none;\">\n",
              "    <td style=\"padding: 0 1em 0 0.5em; text-align: right; border: none;\">\n",
              "        -0.006\n",
              "    </td>\n",
              "    <td style=\"padding: 0 0.5em 0 0.5em; text-align: left; border: none;\">\n",
              "        Parch\n",
              "    </td>\n",
              "    \n",
              "        <td style=\"padding: 0 0.5em 0 1em; text-align: right; border: none;\">\n",
              "            0.000\n",
              "        </td>\n",
              "    \n",
              "</tr>\n",
              "        \n",
              "            <tr style=\"background-color: hsl(0, 100.00%, 99.50%); border: none;\">\n",
              "    <td style=\"padding: 0 1em 0 0.5em; text-align: right; border: none;\">\n",
              "        -0.009\n",
              "    </td>\n",
              "    <td style=\"padding: 0 0.5em 0 0.5em; text-align: left; border: none;\">\n",
              "        Pclass=2\n",
              "    </td>\n",
              "    \n",
              "        <td style=\"padding: 0 0.5em 0 1em; text-align: right; border: none;\">\n",
              "            Missing\n",
              "        </td>\n",
              "    \n",
              "</tr>\n",
              "        \n",
              "            <tr style=\"background-color: hsl(0, 100.00%, 99.47%); border: none;\">\n",
              "    <td style=\"padding: 0 1em 0 0.5em; text-align: right; border: none;\">\n",
              "        -0.009\n",
              "    </td>\n",
              "    <td style=\"padding: 0 0.5em 0 0.5em; text-align: left; border: none;\">\n",
              "        Ticket=1601\n",
              "    </td>\n",
              "    \n",
              "        <td style=\"padding: 0 0.5em 0 1em; text-align: right; border: none;\">\n",
              "            Missing\n",
              "        </td>\n",
              "    \n",
              "</tr>\n",
              "        \n",
              "            <tr style=\"background-color: hsl(0, 100.00%, 99.38%); border: none;\">\n",
              "    <td style=\"padding: 0 1em 0 0.5em; text-align: right; border: none;\">\n",
              "        -0.012\n",
              "    </td>\n",
              "    <td style=\"padding: 0 0.5em 0 0.5em; text-align: left; border: none;\">\n",
              "        Embarked=C\n",
              "    </td>\n",
              "    \n",
              "        <td style=\"padding: 0 0.5em 0 1em; text-align: right; border: none;\">\n",
              "            Missing\n",
              "        </td>\n",
              "    \n",
              "</tr>\n",
              "        \n",
              "            <tr style=\"background-color: hsl(0, 100.00%, 97.81%); border: none;\">\n",
              "    <td style=\"padding: 0 1em 0 0.5em; text-align: right; border: none;\">\n",
              "        -0.071\n",
              "    </td>\n",
              "    <td style=\"padding: 0 0.5em 0 0.5em; text-align: left; border: none;\">\n",
              "        SibSp\n",
              "    </td>\n",
              "    \n",
              "        <td style=\"padding: 0 0.5em 0 1em; text-align: right; border: none;\">\n",
              "            0.000\n",
              "        </td>\n",
              "    \n",
              "</tr>\n",
              "        \n",
              "            <tr style=\"background-color: hsl(0, 100.00%, 97.77%); border: none;\">\n",
              "    <td style=\"padding: 0 1em 0 0.5em; text-align: right; border: none;\">\n",
              "        -0.073\n",
              "    </td>\n",
              "    <td style=\"padding: 0 0.5em 0 0.5em; text-align: left; border: none;\">\n",
              "        Pclass=1\n",
              "    </td>\n",
              "    \n",
              "        <td style=\"padding: 0 0.5em 0 1em; text-align: right; border: none;\">\n",
              "            Missing\n",
              "        </td>\n",
              "    \n",
              "</tr>\n",
              "        \n",
              "            <tr style=\"background-color: hsl(0, 100.00%, 96.36%); border: none;\">\n",
              "    <td style=\"padding: 0 1em 0 0.5em; text-align: right; border: none;\">\n",
              "        -0.147\n",
              "    </td>\n",
              "    <td style=\"padding: 0 0.5em 0 0.5em; text-align: left; border: none;\">\n",
              "        Age\n",
              "    </td>\n",
              "    \n",
              "        <td style=\"padding: 0 0.5em 0 1em; text-align: right; border: none;\">\n",
              "            19.000\n",
              "        </td>\n",
              "    \n",
              "</tr>\n",
              "        \n",
              "            <tr style=\"background-color: hsl(0, 100.00%, 91.08%); border: none;\">\n",
              "    <td style=\"padding: 0 1em 0 0.5em; text-align: right; border: none;\">\n",
              "        -0.528\n",
              "    </td>\n",
              "    <td style=\"padding: 0 0.5em 0 0.5em; text-align: left; border: none;\">\n",
              "        &lt;BIAS&gt;\n",
              "    </td>\n",
              "    \n",
              "        <td style=\"padding: 0 0.5em 0 1em; text-align: right; border: none;\">\n",
              "            1.000\n",
              "        </td>\n",
              "    \n",
              "</tr>\n",
              "        \n",
              "            <tr style=\"background-color: hsl(0, 100.00%, 85.09%); border: none;\">\n",
              "    <td style=\"padding: 0 1em 0 0.5em; text-align: right; border: none;\">\n",
              "        -1.100\n",
              "    </td>\n",
              "    <td style=\"padding: 0 0.5em 0 0.5em; text-align: left; border: none;\">\n",
              "        Pclass=3\n",
              "    </td>\n",
              "    \n",
              "        <td style=\"padding: 0 0.5em 0 1em; text-align: right; border: none;\">\n",
              "            1.000\n",
              "        </td>\n",
              "    \n",
              "</tr>\n",
              "        \n",
              "\n",
              "        </tbody>\n",
              "    </table>\n",
              "\n",
              "            \n",
              "        \n",
              "\n",
              "        \n",
              "\n",
              "\n",
              "\n",
              "    \n",
              "\n",
              "    \n",
              "\n",
              "    \n",
              "\n",
              "    \n",
              "\n",
              "\n",
              "    \n",
              "\n",
              "    \n",
              "\n",
              "    \n",
              "\n",
              "    \n",
              "\n",
              "    \n",
              "\n",
              "    \n",
              "\n",
              "\n",
              "    \n",
              "\n",
              "    \n",
              "\n",
              "    \n",
              "\n",
              "    \n",
              "\n",
              "    \n",
              "\n",
              "    \n",
              "\n",
              "\n",
              "\n"
            ],
            "text/plain": [
              "<IPython.core.display.HTML object>"
            ]
          },
          "metadata": {
            "tags": []
          }
        }
      ]
    },
    {
      "metadata": {
        "id": "bXPQKeZ5M_oW",
        "colab_type": "text"
      },
      "cell_type": "markdown",
      "source": [
        "## 결측치가 없는 속성들의 기여도 보기"
      ]
    },
    {
      "metadata": {
        "id": "JNAkRIQtrFcZ",
        "colab_type": "code",
        "outputId": "56ea5b18-7a4f-41c2-f4eb-bd2ce3bad87b",
        "colab": {
          "base_uri": "https://localhost:8080/",
          "height": 225
        }
      },
      "cell_type": "code",
      "source": [
        "# ... 옵션 feature_filter에 내정된 lambda 함수 no_missing를 인자로 넘김\n",
        "\n",
        "no_missing = lambda feature_name, feature_value: not np.isnan(feature_value)\n",
        "show_prediction(clf, valid_xs[0], vec=vec, show_feature_values=True, feature_filter=no_missing)"
      ],
      "execution_count": 0,
      "outputs": [
        {
          "output_type": "execute_result",
          "data": {
            "text/html": [
              "\n",
              "    <style>\n",
              "    table.eli5-weights tr:hover {\n",
              "        filter: brightness(85%);\n",
              "    }\n",
              "</style>\n",
              "\n",
              "\n",
              "\n",
              "    \n",
              "\n",
              "    \n",
              "\n",
              "    \n",
              "\n",
              "    \n",
              "\n",
              "    \n",
              "\n",
              "    \n",
              "\n",
              "\n",
              "    \n",
              "\n",
              "    \n",
              "\n",
              "    \n",
              "\n",
              "    \n",
              "        \n",
              "\n",
              "    \n",
              "\n",
              "        \n",
              "            \n",
              "                \n",
              "                \n",
              "    \n",
              "        <p style=\"margin-bottom: 0.5em; margin-top: 0em\">\n",
              "            <b>\n",
              "    \n",
              "        y=0\n",
              "    \n",
              "</b>\n",
              "\n",
              "    \n",
              "    (probability <b>0.894</b>, score <b>-2.133</b>)\n",
              "\n",
              "top features\n",
              "        </p>\n",
              "    \n",
              "    <table class=\"eli5-weights\"\n",
              "           style=\"border-collapse: collapse; border: none; margin-top: 0em; table-layout: auto; margin-bottom: 2em;\">\n",
              "        <thead>\n",
              "        <tr style=\"border: none;\">\n",
              "            \n",
              "                <th style=\"padding: 0 1em 0 0.5em; text-align: right; border: none;\" title=\"Feature contribution already accounts for the feature value (for linear models, contribution = weight * feature value), and the sum of feature contributions is equal to the score or, for some classifiers, to the probability. Feature values are shown if &quot;show_feature_values&quot; is True.\">\n",
              "                    Contribution<sup>?</sup>\n",
              "                </th>\n",
              "            \n",
              "            <th style=\"padding: 0 0.5em 0 0.5em; text-align: left; border: none;\">Feature</th>\n",
              "            \n",
              "                <th style=\"padding: 0 0.5em 0 1em; text-align: right; border: none;\">Value</th>\n",
              "            \n",
              "        </tr>\n",
              "        </thead>\n",
              "        <tbody>\n",
              "        \n",
              "            <tr style=\"background-color: hsl(120, 100.00%, 80.00%); border: none;\">\n",
              "    <td style=\"padding: 0 1em 0 0.5em; text-align: right; border: none;\">\n",
              "        +0.528\n",
              "    </td>\n",
              "    <td style=\"padding: 0 0.5em 0 0.5em; text-align: left; border: none;\">\n",
              "        &lt;BIAS&gt;\n",
              "    </td>\n",
              "    \n",
              "        <td style=\"padding: 0 0.5em 0 1em; text-align: right; border: none;\">\n",
              "            1.000\n",
              "        </td>\n",
              "    \n",
              "</tr>\n",
              "        \n",
              "            <tr style=\"background-color: hsl(120, 100.00%, 88.12%); border: none;\">\n",
              "    <td style=\"padding: 0 1em 0 0.5em; text-align: right; border: none;\">\n",
              "        +0.251\n",
              "    </td>\n",
              "    <td style=\"padding: 0 0.5em 0 0.5em; text-align: left; border: none;\">\n",
              "        Age\n",
              "    </td>\n",
              "    \n",
              "        <td style=\"padding: 0 0.5em 0 1em; text-align: right; border: none;\">\n",
              "            19.000\n",
              "        </td>\n",
              "    \n",
              "</tr>\n",
              "        \n",
              "            <tr style=\"background-color: hsl(120, 100.00%, 90.94%); border: none;\">\n",
              "    <td style=\"padding: 0 1em 0 0.5em; text-align: right; border: none;\">\n",
              "        +0.170\n",
              "    </td>\n",
              "    <td style=\"padding: 0 0.5em 0 0.5em; text-align: left; border: none;\">\n",
              "        Fare\n",
              "    </td>\n",
              "    \n",
              "        <td style=\"padding: 0 0.5em 0 1em; text-align: right; border: none;\">\n",
              "            10.171\n",
              "        </td>\n",
              "    \n",
              "</tr>\n",
              "        \n",
              "            <tr style=\"background-color: hsl(120, 100.00%, 94.53%); border: none;\">\n",
              "    <td style=\"padding: 0 1em 0 0.5em; text-align: right; border: none;\">\n",
              "        +0.083\n",
              "    </td>\n",
              "    <td style=\"padding: 0 0.5em 0 0.5em; text-align: left; border: none;\">\n",
              "        Embarked=S\n",
              "    </td>\n",
              "    \n",
              "        <td style=\"padding: 0 0.5em 0 1em; text-align: right; border: none;\">\n",
              "            1.000\n",
              "        </td>\n",
              "    \n",
              "</tr>\n",
              "        \n",
              "            <tr style=\"background-color: hsl(120, 100.00%, 95.34%); border: none;\">\n",
              "    <td style=\"padding: 0 1em 0 0.5em; text-align: right; border: none;\">\n",
              "        +0.066\n",
              "    </td>\n",
              "    <td style=\"padding: 0 0.5em 0 0.5em; text-align: left; border: none;\">\n",
              "        Cabin=\n",
              "    </td>\n",
              "    \n",
              "        <td style=\"padding: 0 0.5em 0 1em; text-align: right; border: none;\">\n",
              "            1.000\n",
              "        </td>\n",
              "    \n",
              "</tr>\n",
              "        \n",
              "            <tr style=\"background-color: hsl(120, 100.00%, 98.45%); border: none;\">\n",
              "    <td style=\"padding: 0 1em 0 0.5em; text-align: right; border: none;\">\n",
              "        +0.014\n",
              "    </td>\n",
              "    <td style=\"padding: 0 0.5em 0 0.5em; text-align: left; border: none;\">\n",
              "        Pclass=3\n",
              "    </td>\n",
              "    \n",
              "        <td style=\"padding: 0 0.5em 0 1em; text-align: right; border: none;\">\n",
              "            1.000\n",
              "        </td>\n",
              "    \n",
              "</tr>\n",
              "        \n",
              "            <tr style=\"background-color: hsl(120, 100.00%, 99.18%); border: none;\">\n",
              "    <td style=\"padding: 0 1em 0 0.5em; text-align: right; border: none;\">\n",
              "        +0.006\n",
              "    </td>\n",
              "    <td style=\"padding: 0 0.5em 0 0.5em; text-align: left; border: none;\">\n",
              "        Parch\n",
              "    </td>\n",
              "    \n",
              "        <td style=\"padding: 0 0.5em 0 1em; text-align: right; border: none;\">\n",
              "            0.000\n",
              "        </td>\n",
              "    \n",
              "</tr>\n",
              "        \n",
              "        \n",
              "\n",
              "        \n",
              "        \n",
              "            <tr style=\"background-color: hsl(0, 100.00%, 93.97%); border: none;\">\n",
              "    <td style=\"padding: 0 1em 0 0.5em; text-align: right; border: none;\">\n",
              "        -0.095\n",
              "    </td>\n",
              "    <td style=\"padding: 0 0.5em 0 0.5em; text-align: left; border: none;\">\n",
              "        SibSp\n",
              "    </td>\n",
              "    \n",
              "        <td style=\"padding: 0 0.5em 0 1em; text-align: right; border: none;\">\n",
              "            0.000\n",
              "        </td>\n",
              "    \n",
              "</tr>\n",
              "        \n",
              "\n",
              "        </tbody>\n",
              "    </table>\n",
              "\n",
              "            \n",
              "        \n",
              "\n",
              "        \n",
              "\n",
              "\n",
              "\n",
              "    \n",
              "\n",
              "    \n",
              "\n",
              "    \n",
              "\n",
              "    \n",
              "\n",
              "\n",
              "    \n",
              "\n",
              "    \n",
              "\n",
              "    \n",
              "\n",
              "    \n",
              "\n",
              "    \n",
              "\n",
              "    \n",
              "\n",
              "\n",
              "    \n",
              "\n",
              "    \n",
              "\n",
              "    \n",
              "\n",
              "    \n",
              "\n",
              "    \n",
              "\n",
              "    \n",
              "\n",
              "\n",
              "\n"
            ],
            "text/plain": [
              "<IPython.core.display.HTML object>"
            ]
          },
          "metadata": {
            "tags": []
          },
          "execution_count": 16
        }
      ]
    },
    {
      "metadata": {
        "id": "Ql3kemQD0V2H",
        "colab_type": "code",
        "colab": {}
      },
      "cell_type": "code",
      "source": [
        ""
      ],
      "execution_count": 0,
      "outputs": []
    },
    {
      "metadata": {
        "id": "a3HaCpsD0WSH",
        "colab_type": "text"
      },
      "cell_type": "markdown",
      "source": [
        "SHAP\n",
        "\n"
      ]
    }
  ]
}
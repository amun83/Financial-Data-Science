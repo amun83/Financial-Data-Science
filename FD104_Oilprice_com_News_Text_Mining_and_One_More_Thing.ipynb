{
  "nbformat": 4,
  "nbformat_minor": 0,
  "metadata": {
    "colab": {
      "name": "FD104 Oilprice.com News Text Mining and One More Thing.ipynb",
      "version": "0.3.2",
      "provenance": [],
      "include_colab_link": true
    },
    "kernelspec": {
      "name": "python3",
      "display_name": "Python 3"
    }
  },
  "cells": [
    {
      "cell_type": "markdown",
      "metadata": {
        "id": "view-in-github",
        "colab_type": "text"
      },
      "source": [
        "<a href=\"https://colab.research.google.com/github/amun83/Koscom-Financial-Data-Bootcamp/blob/master/FD104_Oilprice_com_News_Text_Mining_and_One_More_Thing.ipynb\" target=\"_parent\"><img src=\"https://colab.research.google.com/assets/colab-badge.svg\" alt=\"Open In Colab\"/></a>"
      ]
    },
    {
      "metadata": {
        "id": "M0raKhKgmvHT",
        "colab_type": "text"
      },
      "cell_type": "markdown",
      "source": [
        "## Getting News Articles from https://oilprice.com/"
      ]
    },
    {
      "metadata": {
        "id": "A9JvBTq26riQ",
        "colab_type": "code",
        "colab": {}
      },
      "cell_type": "code",
      "source": [
        "ON_COLAB  = True\n",
        "DATA_PATH = ''\n",
        "MAX_PAGES = 1000"
      ],
      "execution_count": 0,
      "outputs": []
    },
    {
      "metadata": {
        "id": "Z3u8bzSb6DPR",
        "colab_type": "code",
        "colab": {}
      },
      "cell_type": "code",
      "source": [
        "!pip install -q --upgrade pandas_datareader\n",
        "!pip install -q --upgrade finance-datareader\n",
        "!pip install -q --upgrade html5lib\n",
        "!pip install -q --upgrade lxml\n",
        "!pip install -q --upgrade seaborn\n",
        "!pip install -q --upgrade gspread"
      ],
      "execution_count": 0,
      "outputs": []
    },
    {
      "metadata": {
        "id": "eEgj2trEkoGh",
        "colab_type": "code",
        "colab": {}
      },
      "cell_type": "code",
      "source": [
        "# utilities\n",
        "import datetime\n",
        "import re\n",
        "import csv\n",
        "from IPython.display import display\n",
        "\n",
        "# web scraping\n",
        "import requests\n",
        "import urllib.parse\n",
        "from bs4 import BeautifulSoup as bs\n",
        "import pandas_datareader as pdr\n",
        "import FinanceDataReader as fdr\n",
        "\n",
        "# Math/Stat\n",
        "import numpy as np\n",
        "import pandas as pd\n",
        "from pandas.plotting import scatter_matrix\n",
        "#import math\n",
        "\n",
        "# Machine Learning\n",
        "#from keras.models import Sequential\n",
        "#from keras.layers import Dense\n",
        "#from keras.layers import LSTM\n",
        "\n",
        "# visualization\n",
        "import seaborn as sns\n",
        "sns.set_style('whitegrid')\n",
        "import matplotlib.pyplot as plt\n",
        "%matplotlib inline"
      ],
      "execution_count": 0,
      "outputs": []
    },
    {
      "metadata": {
        "id": "9B8M9wlWUa4f",
        "colab_type": "code",
        "colab": {}
      },
      "cell_type": "code",
      "source": [
        "if ON_COLAB :\n",
        "  from google.colab import drive\n",
        "  drive.mount('/gdrive')\n",
        "  DATA_PATH = '/gdrive/My Drive/oilprice.com/'"
      ],
      "execution_count": 0,
      "outputs": []
    },
    {
      "metadata": {
        "id": "0XlWPVuRnw-5",
        "colab_type": "code",
        "colab": {}
      },
      "cell_type": "code",
      "source": [
        "pattern = re.compile(r'(Jan|Feb|Mar|Apr|May|Jun|Jul|Aug|Sep|Oct|Nov|Dec)\\s(\\d\\d),\\s(\\d{4})')\n",
        "# Example: By Julianne Geiger - Dec 14, 2018, 8:00 PM CST"
      ],
      "execution_count": 0,
      "outputs": []
    },
    {
      "metadata": {
        "id": "PoFQEETwmrrv",
        "colab_type": "code",
        "colab": {}
      },
      "cell_type": "code",
      "source": [
        "news_urls = []\n",
        "\n",
        "for i in range(1, MAX_PAGES):\n",
        "  page_url = 'https://oilprice.com/Latest-Energy-News/World-News/Page-' + str(i) + '.html'\n",
        "  # https://oilprice.com/Latest-Energy-News/World-News/Page-865.html\n",
        "  \n",
        "  try:\n",
        "    r = requests.get(page_url)\n",
        "    print('Requested(GET): ' + page_url)\n",
        "  except:\n",
        "    print('Request(GET) Failed: ' + page_url)\n",
        "    break\n",
        "\n",
        "  soup = bs(r.text)\n",
        "  items = soup.find_all('div', {\"class\":\"categoryArticle__content\"})\n",
        "\n",
        "  for item in items:\n",
        "    news_urls.append(item.find('a', href = True)['href'])\n",
        "    #print('News URL Parsed: ' + news_urls[-1])"
      ],
      "execution_count": 0,
      "outputs": []
    },
    {
      "metadata": {
        "id": "r0Hhb75tE7fS",
        "colab_type": "code",
        "colab": {}
      },
      "cell_type": "code",
      "source": [
        "r = requests.get('https://oilprice.com/Latest-Energy-News/World-News/Page-866.html')\n",
        "r"
      ],
      "execution_count": 0,
      "outputs": []
    },
    {
      "metadata": {
        "id": "Vimlbvp7-i7c",
        "colab_type": "code",
        "colab": {}
      },
      "cell_type": "code",
      "source": [
        ""
      ],
      "execution_count": 0,
      "outputs": []
    },
    {
      "metadata": {
        "id": "VrL48-c7suhC",
        "colab_type": "code",
        "colab": {}
      },
      "cell_type": "code",
      "source": [
        "with open(DATA_PATH + 'oilprice.com_news.csv', 'w') as f:\n",
        "  fw = csv.writer(f) \n",
        "  \n",
        "  for url in news_urls:\n",
        "    try:\n",
        "      r = requests.get(url)\n",
        "      print('Requested(GET): ' + url)\n",
        "    except:\n",
        "      print('Request(GET) Failed: ' + url)\n",
        "      break\n",
        "\n",
        "    soup = bs(r.text)\n",
        "\n",
        "    title = soup.find('h1').text\n",
        "\n",
        "    date = soup.find('span', {'class':'article_byline'}).text\n",
        "\n",
        "    match = re.search(pattern, date)\n",
        "    mmm, dd, yyyy = match.groups(0)\n",
        "    date = yyyy + \"-\" + mmm + \"-\" + dd\n",
        "\n",
        "    raw_content = soup.find('div', {'id':'news-content'}).find_all('p')\n",
        "    content = ' '.join([p.text.strip() for p in raw_content[:-2]])\n",
        "\n",
        "    #print('- Title:   ' + title)\n",
        "    #print('- Date:    ' + date)\n",
        "    #print('- Content: ' + content)\n",
        "    \n",
        "    fw.writerow((date, title, content))"
      ],
      "execution_count": 0,
      "outputs": []
    }
  ]
}
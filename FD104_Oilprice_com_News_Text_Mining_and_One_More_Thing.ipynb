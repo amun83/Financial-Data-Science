{
  "nbformat": 4,
  "nbformat_minor": 0,
  "metadata": {
    "colab": {
      "name": "FD104 Oilprice.com News Text Mining and One More Thing.ipynb",
      "version": "0.3.2",
      "provenance": [],
      "include_colab_link": true
    },
    "kernelspec": {
      "name": "python3",
      "display_name": "Python 3"
    }
  },
  "cells": [
    {
      "cell_type": "markdown",
      "metadata": {
        "id": "view-in-github",
        "colab_type": "text"
      },
      "source": [
        "<a href=\"https://colab.research.google.com/github/amun83/Koscom-Financial-Data-Bootcamp/blob/master/FD104_Oilprice_com_News_Text_Mining_and_One_More_Thing.ipynb\" target=\"_parent\"><img src=\"https://colab.research.google.com/assets/colab-badge.svg\" alt=\"Open In Colab\"/></a>"
      ]
    },
    {
      "metadata": {
        "id": "M0raKhKgmvHT",
        "colab_type": "text"
      },
      "cell_type": "markdown",
      "source": [
        "# Scraping News Articles: https://oilprice.com/"
      ]
    },
    {
      "metadata": {
        "id": "A9JvBTq26riQ",
        "colab_type": "code",
        "colab": {}
      },
      "cell_type": "code",
      "source": [
        "ON_COLAB  = True\n",
        "DATA_PATH = ''"
      ],
      "execution_count": 0,
      "outputs": []
    },
    {
      "metadata": {
        "id": "Z3u8bzSb6DPR",
        "colab_type": "code",
        "colab": {}
      },
      "cell_type": "code",
      "source": [
        "!pip install -q --upgrade pandas_datareader\n",
        "!pip install -q --upgrade finance-datareader\n",
        "!pip install -q --upgrade html5lib\n",
        "!pip install -q --upgrade lxml\n",
        "!pip install -q --upgrade seaborn\n",
        "!pip install -q --upgrade gspread"
      ],
      "execution_count": 0,
      "outputs": []
    },
    {
      "metadata": {
        "id": "eEgj2trEkoGh",
        "colab_type": "code",
        "colab": {}
      },
      "cell_type": "code",
      "source": [
        "# utilities\n",
        "import datetime\n",
        "import re\n",
        "import csv\n",
        "from IPython.display import display\n",
        "\n",
        "# web scraping\n",
        "import requests\n",
        "import urllib.parse\n",
        "from bs4 import BeautifulSoup as bs\n",
        "import pandas_datareader as pdr\n",
        "import FinanceDataReader as fdr\n",
        "\n",
        "# Math/Stat\n",
        "import numpy as np\n",
        "import pandas as pd\n",
        "from pandas.plotting import scatter_matrix\n",
        "#import math\n",
        "\n",
        "# Machine Learning\n",
        "#from keras.models import Sequential\n",
        "#from keras.layers import Dense\n",
        "#from keras.layers import LSTM\n",
        "\n",
        "# visualization\n",
        "import seaborn as sns\n",
        "sns.set_style('whitegrid')\n",
        "import matplotlib.pyplot as plt\n",
        "%matplotlib inline"
      ],
      "execution_count": 0,
      "outputs": []
    },
    {
      "metadata": {
        "id": "9B8M9wlWUa4f",
        "colab_type": "code",
        "outputId": "592fb02b-9bf2-4d5b-bf8e-d0621ca5fdcb",
        "colab": {
          "base_uri": "https://localhost:8080/",
          "height": 35
        }
      },
      "cell_type": "code",
      "source": [
        "if ON_COLAB :\n",
        "  from google.colab import drive\n",
        "  drive.mount('/gdrive')\n",
        "  DATA_PATH = '/gdrive/My Drive/sandbox/'"
      ],
      "execution_count": 106,
      "outputs": [
        {
          "output_type": "stream",
          "text": [
            "Drive already mounted at /gdrive; to attempt to forcibly remount, call drive.mount(\"/gdrive\", force_remount=True).\n"
          ],
          "name": "stdout"
        }
      ]
    },
    {
      "metadata": {
        "id": "0XlWPVuRnw-5",
        "colab_type": "code",
        "colab": {}
      },
      "cell_type": "code",
      "source": [
        "pattern = re.compile(r'(Jan|Feb|Mar|Apr|May|Jun|Jul|Aug|Sep|Oct|Nov|Dec)\\s(\\d\\d),\\s(\\d{4})')\n",
        "# Example: By Julianne Geiger - Dec 14, 2018, 8:00 PM CST"
      ],
      "execution_count": 0,
      "outputs": []
    },
    {
      "metadata": {
        "id": "8sNEbxAs_Sa3",
        "colab_type": "code",
        "colab": {}
      },
      "cell_type": "code",
      "source": [
        "def get_news_urls_by_page(page_num):\n",
        "  page_url = 'https://oilprice.com/Latest-Energy-News/World-News/Page-' + str(page_num) + '.html'\n",
        "  # https://oilprice.com/Latest-Energy-News/World-News/Page-865.html\n",
        "\n",
        "  try:\n",
        "    r = requests.get(page_url)\n",
        "    print('Request(GET) >> OK: ' + page_url)\n",
        "  except:\n",
        "    print('Request(GET) >> Failed: ' + page_url)\n",
        "    return None\n",
        "\n",
        "  soup = bs(r.text)\n",
        "  items = soup.find_all('div', {\"class\":\"categoryArticle__content\"})\n",
        "\n",
        "  if not items:\n",
        "    print('Request(GET) >> Empty Page: ' + page_url)\n",
        "    return None\n",
        "  \n",
        "  return [item.find('a', href = True)['href'] for item in items]"
      ],
      "execution_count": 0,
      "outputs": []
    },
    {
      "metadata": {
        "id": "d-hpExqkcX-e",
        "colab_type": "code",
        "colab": {}
      },
      "cell_type": "code",
      "source": [
        "def get_news_content(url):\n",
        "  try:\n",
        "    get_news_content.counter += 1\n",
        "  except:\n",
        "    get_news_content.counter = 0\n",
        "  \n",
        "  try:\n",
        "    r = requests.get(url)\n",
        "    print('[' + str(get_news_content.counter) + '] Request(GET) >> OK: ' + url)\n",
        "  except:\n",
        "    print('[' + str(get_news_content.counter) + '] Request(GET) >> Failed: ' + url)\n",
        "    return None\n",
        "\n",
        "  soup = bs(r.text)\n",
        "\n",
        "  title = soup.find('h1').text\n",
        "\n",
        "  date = soup.find('span', {'class':'article_byline'}).text\n",
        "\n",
        "  match = re.search(pattern, date)\n",
        "  mmm, dd, yyyy = match.groups(0)\n",
        "  date = yyyy + \"-\" + mmm + \"-\" + dd\n",
        "\n",
        "  raw_content = soup.find('div', {'id':'news-content'}).find_all('p')\n",
        "  content = ' '.join([p.text.strip() for p in raw_content])\n",
        "  \n",
        "  return date, title, content"
      ],
      "execution_count": 0,
      "outputs": []
    },
    {
      "metadata": {
        "id": "7w8fY3imAXa3",
        "colab_type": "code",
        "outputId": "c8ca3ba8-4aa5-4696-edab-0e13c2091c4a",
        "colab": {
          "base_uri": "https://localhost:8080/",
          "height": 179
        }
      },
      "cell_type": "code",
      "source": [
        "news_urls =[]\n",
        "\n",
        "for i in range(1, 10):\n",
        "  urls = get_news_urls_by_page(i)\n",
        "  if not urls:\n",
        "    break\n",
        "    \n",
        "  news_urls += urls"
      ],
      "execution_count": 110,
      "outputs": [
        {
          "output_type": "stream",
          "text": [
            "Request(GET) >> OK: https://oilprice.com/Latest-Energy-News/World-News/Page-1.html\n",
            "Request(GET) >> OK: https://oilprice.com/Latest-Energy-News/World-News/Page-2.html\n",
            "Request(GET) >> OK: https://oilprice.com/Latest-Energy-News/World-News/Page-3.html\n",
            "Request(GET) >> OK: https://oilprice.com/Latest-Energy-News/World-News/Page-4.html\n",
            "Request(GET) >> OK: https://oilprice.com/Latest-Energy-News/World-News/Page-5.html\n",
            "Request(GET) >> OK: https://oilprice.com/Latest-Energy-News/World-News/Page-6.html\n",
            "Request(GET) >> OK: https://oilprice.com/Latest-Energy-News/World-News/Page-7.html\n",
            "Request(GET) >> OK: https://oilprice.com/Latest-Energy-News/World-News/Page-8.html\n",
            "Request(GET) >> OK: https://oilprice.com/Latest-Energy-News/World-News/Page-9.html\n"
          ],
          "name": "stdout"
        }
      ]
    },
    {
      "metadata": {
        "id": "2rKUCb0Ohmxb",
        "colab_type": "code",
        "colab": {
          "base_uri": "https://localhost:8080/",
          "height": 35
        },
        "outputId": "b9dbf192-bc4b-4a49-fb55-3ad346fb6f96"
      },
      "cell_type": "code",
      "source": [
        "news_urls[-1]"
      ],
      "execution_count": 119,
      "outputs": [
        {
          "output_type": "execute_result",
          "data": {
            "text/plain": [
              "'https://oilprice.com/Latest-Energy-News/World-News/US-Oil-Gas-Reserves-Hit-Record-Highs.html'"
            ]
          },
          "metadata": {
            "tags": []
          },
          "execution_count": 119
        }
      ]
    },
    {
      "metadata": {
        "id": "PoFQEETwmrrv",
        "colab_type": "code",
        "colab": {}
      },
      "cell_type": "code",
      "source": [
        "with open(DATA_PATH + 'oilprice.com_news_urls.csv', 'w') as f:\n",
        "  fw = csv.writer(f)\n",
        "  \n",
        "  fw.writerows([[url] for url in news_urls])"
      ],
      "execution_count": 0,
      "outputs": []
    },
    {
      "metadata": {
        "id": "Kbw_aOTUgU_O",
        "colab_type": "code",
        "outputId": "129954cb-65a1-4e95-ff93-02a28fda403f",
        "colab": {
          "base_uri": "https://localhost:8080/",
          "height": 1637
        }
      },
      "cell_type": "code",
      "source": [
        "news = [get_news_content(url) + (url.split('/')[-1],) for url in news_urls]"
      ],
      "execution_count": 117,
      "outputs": [
        {
          "output_type": "stream",
          "text": [
            "[90] Request(GET) >> OK: https://oilprice.com/Latest-Energy-News/World-News/France-Extends-State-Guarantee-For-Total-Participated-Russian-LNG-Projects.html\n",
            "[91] Request(GET) >> OK: https://oilprice.com/Latest-Energy-News/World-News/Saudi-Oil-Minister-Discusses-Further-Cooperation-With-Worlds-Largest-Refiner.html\n",
            "[92] Request(GET) >> OK: https://oilprice.com/Latest-Energy-News/World-News/Pemex-Boosts-2019-Budget-14-With-Focus-On-Producing-Fields.html\n",
            "[93] Request(GET) >> OK: https://oilprice.com/Latest-Energy-News/World-News/Environment-Conscious-Quebecois-Buy-More-Gas-Guzzlers.html\n",
            "[94] Request(GET) >> OK: https://oilprice.com/Latest-Energy-News/World-News/Climate-Change-Conference-Strikes-Agreement-On-Rulebook.html\n",
            "[95] Request(GET) >> OK: https://oilprice.com/Latest-Energy-News/World-News/Cuadrilla-Halts-Fracking-Again-Operations-As-Tremors-Persist.html\n",
            "[96] Request(GET) >> OK: https://oilprice.com/Latest-Energy-News/World-News/Tesla-Cuts-Prices-In-China-As-Beijing-Suspends-New-US-Car-Tariffs.html\n",
            "[97] Request(GET) >> OK: https://oilprice.com/Latest-Energy-News/World-News/Chinas-Biggest-US-Crude-Oil-Buyer-To-Resume-Purchases-Very-Soon.html\n",
            "[98] Request(GET) >> OK: https://oilprice.com/Latest-Energy-News/World-News/Russias-Rosneft-Quits-Iran-30B-Of-Potential-Joint-Investments.html\n",
            "[99] Request(GET) >> OK: https://oilprice.com/Latest-Energy-News/World-News/Operation-Sharpshooter-Targets-Energy-Defense-Firms.html\n",
            "[100] Request(GET) >> OK: https://oilprice.com/Latest-Energy-News/World-News/Russia-Oil-Exports-Down-3665M-Barrels-In-First-10-Months.html\n",
            "[101] Request(GET) >> OK: https://oilprice.com/Latest-Energy-News/World-News/China-Refineries-Process-Less-Oil-As-Fuel-Prices-Decline.html\n",
            "[102] Request(GET) >> OK: https://oilprice.com/Latest-Energy-News/World-News/Legendary-Oil-Trader-Is-Bullish-On-Oil-Prices.html\n",
            "[103] Request(GET) >> OK: https://oilprice.com/Latest-Energy-News/World-News/Tariffs-Hit-US-Solar-Market-In-Q3-But-Plans-Show-Strong-Rebound.html\n",
            "[104] Request(GET) >> OK: https://oilprice.com/Latest-Energy-News/World-News/Minnesota-Rejects-Opponents-Petitions-To-Stop-Line-3.html\n",
            "[105] Request(GET) >> OK: https://oilprice.com/Latest-Energy-News/World-News/Is-This-Cyber-Attack-An-Indirect-Hit-At-Saudi-Aramco.html\n",
            "[106] Request(GET) >> OK: https://oilprice.com/Latest-Energy-News/World-News/Iran-Loses-Market-Share-In-India-As-Its-Oil-Exports-Slump-In-November.html\n",
            "[107] Request(GET) >> OK: https://oilprice.com/Latest-Energy-News/World-News/Climate-Passport-For-People-Driven-Away-By-Global-Warming-Proposed.html\n",
            "[108] Request(GET) >> OK: https://oilprice.com/Latest-Energy-News/World-News/Beijing-Adds-3-Million-Households-To-Overstretched-Gas-Network.html\n",
            "[109] Request(GET) >> OK: https://oilprice.com/Latest-Energy-News/World-News/Total-Cuts-Stake-In-Ichthys-LNG-On-Cost-Overruns.html\n",
            "[110] Request(GET) >> OK: https://oilprice.com/Latest-Energy-News/World-News/Japanese-Refiners-Will-Resume-Iran-Crude-Purchases-Next-Month.html\n",
            "[111] Request(GET) >> OK: https://oilprice.com/Latest-Energy-News/World-News/Exxon-Makes-Final-Decision-On-Australian-Gas-Project.html\n",
            "[112] Request(GET) >> OK: https://oilprice.com/Latest-Energy-News/World-News/Yemen-To-Resume-Oil-Exports-On-US-Threat-To-Withdraw-Support.html\n",
            "[113] Request(GET) >> OK: https://oilprice.com/Latest-Energy-News/World-News/Ugandas-First-Oil-Sees-Setback-As-Players-Quibble-Over-Tariffs.html\n",
            "[114] Request(GET) >> OK: https://oilprice.com/Latest-Energy-News/World-News/Chinas-CNPC-Halts-Iran-Gas-Investment-Under-US-Pressure.html\n",
            "[115] Request(GET) >> OK: https://oilprice.com/Latest-Energy-News/World-News/Total-To-Boost-Exploration-In-Mauritania.html\n",
            "[116] Request(GET) >> OK: https://oilprice.com/Latest-Energy-News/World-News/Michigan-Greenlights-Oil-Pipeline-Project.html\n",
            "[117] Request(GET) >> OK: https://oilprice.com/Latest-Energy-News/World-News/Virus-That-Haunted-Aramco-In-2012-Is-Back.html\n",
            "[118] Request(GET) >> OK: https://oilprice.com/Latest-Energy-News/World-News/Crystallex-Threatens-Venezuelas-Crown-Jewel-Citgo-Again.html\n",
            "[119] Request(GET) >> OK: https://oilprice.com/Latest-Energy-News/World-News/Nigeria-Continues-To-Depend-Heavily-On-Oil-Export-Revenue.html\n",
            "[120] Request(GET) >> OK: https://oilprice.com/Latest-Energy-News/World-News/Oil-Prices-Head-Higher-After-API-Reports-Huge-Crude-Draw.html\n",
            "[121] Request(GET) >> OK: https://oilprice.com/Latest-Energy-News/World-News/Trump-Administration-Talks-Fossil-Fuels-At-Polish-Climate-Summit.html\n",
            "[122] Request(GET) >> OK: https://oilprice.com/Latest-Energy-News/World-News/India-Hopes-To-Attract-300B-Energy-Investments-In-A-Decade.html\n",
            "[123] Request(GET) >> OK: https://oilprice.com/Latest-Energy-News/World-News/Russia-Will-Cut-Oil-Production-By-60000-Bpd-In-January.html\n",
            "[124] Request(GET) >> OK: https://oilprice.com/Latest-Energy-News/World-News/44B-AramcoADNOC-Indian-Mega-Refinery-Delayed.html\n",
            "[125] Request(GET) >> OK: https://oilprice.com/Latest-Energy-News/World-News/Syrian-Civilians-Seize-Oil-Wells-From-Rebel-Group.html\n",
            "[126] Request(GET) >> OK: https://oilprice.com/Latest-Energy-News/World-News/Tesla-Opens-11-New-Stores-In-US.html\n",
            "[127] Request(GET) >> OK: https://oilprice.com/Latest-Energy-News/World-News/Chinas-Crude-Oil-Imports-Jump-To-New-Record-High-In-November.html\n",
            "[128] Request(GET) >> OK: https://oilprice.com/Latest-Energy-News/World-News/US-Energy-Secretary-Perry-To-Saudis-We-Want-Stable-Supply-And-Prices.html\n",
            "[129] Request(GET) >> OK: https://oilprice.com/Latest-Energy-News/World-News/Libya-Faces-Oil-Disaster-As-Biggest-Field-Stops-Pumping.html\n",
            "[130] Request(GET) >> OK: https://oilprice.com/Latest-Energy-News/World-News/Maduro-Wins-Local-Elections-Amid-Voter-Apathy-In-Raging-Crisis.html\n",
            "[131] Request(GET) >> OK: https://oilprice.com/Latest-Energy-News/World-News/Houthis-Accuse-Saudi-Coalition-Of-Blocking-Oil-Ships-From-Yemens-Ports.html\n",
            "[132] Request(GET) >> OK: https://oilprice.com/Latest-Energy-News/World-News/Tender-For-Mexicos-Tabasco-Refinery-To-Start-In-March.html\n",
            "[133] Request(GET) >> OK: https://oilprice.com/Latest-Energy-News/World-News/Russias-Oil-Production-Cuts-To-Take-Months-To-Implement.html\n",
            "[134] Request(GET) >> OK: https://oilprice.com/Latest-Energy-News/World-News/Libya-Iran-Venezuela-Secure-OPEC-Production-Cut-Exemptions.html\n",
            "[135] Request(GET) >> OK: https://oilprice.com/Latest-Energy-News/World-News/Chinese-Oil-Imports-Set-To-Bounce-Back-This-Month.html\n",
            "[136] Request(GET) >> OK: https://oilprice.com/Latest-Energy-News/World-News/Maduro-All-Venezuelan-Oil-Will-Be-Sold-In-Petro-Cryptocurrency.html\n",
            "[137] Request(GET) >> OK: https://oilprice.com/Latest-Energy-News/World-News/Chevron-Raises-2019-Budget-to-20-Billion.html\n",
            "[138] Request(GET) >> OK: https://oilprice.com/Latest-Energy-News/World-News/Russia-May-Agree-To-200000-Bpd-Cut-In-OPEC-Oil-Deal.html\n",
            "[139] Request(GET) >> OK: https://oilprice.com/Latest-Energy-News/World-News/Iran-Hopes-Iranian-EU-Oil-Trade-Mechanism-To-Start-Working-By-Year-End.html\n",
            "[140] Request(GET) >> OK: https://oilprice.com/Latest-Energy-News/World-News/Maduro-Russia-Venezuela-Sign-5B-Deals-To-Boost-Venezuelan-Oil-Production.html\n",
            "[141] Request(GET) >> OK: https://oilprice.com/Latest-Energy-News/World-News/Fractured-OPEC-Walks-Away-From-The-Table.html\n",
            "[142] Request(GET) >> OK: https://oilprice.com/Latest-Energy-News/World-News/Green-Group-British-Columbias-Climate-Plan-Cant-Afford-LNG-Projects.html\n",
            "[143] Request(GET) >> OK: https://oilprice.com/Latest-Energy-News/World-News/Tesla-Set-To-Start-Production-At-China-Gigafactory-In-H2-2019.html\n",
            "[144] Request(GET) >> OK: https://oilprice.com/Latest-Energy-News/World-News/OPEC-Production-Cut-Settled-But-Holding-Out-For-Russias-Cooperation.html\n",
            "[145] Request(GET) >> OK: https://oilprice.com/Latest-Energy-News/World-News/Canada-Pipeline-System-Dysfunctional-Industry-Executive.html\n",
            "[146] Request(GET) >> OK: https://oilprice.com/Latest-Energy-News/World-News/President-Trump-Throws-Hail-Mary-Tweet-On-Eve-Of-OPEC-Meet.html\n",
            "[147] Request(GET) >> OK: https://oilprice.com/Latest-Energy-News/World-News/Plummeting-Prices-Help-Clear-Some-Of-Asias-Floating-LNG-Cargoes.html\n",
            "[148] Request(GET) >> OK: https://oilprice.com/Latest-Energy-News/World-News/Saudi-al-Falih-US-Iran-Envoy-Meet-Ahead-Of-OPEC-Summit.html\n",
            "[149] Request(GET) >> OK: https://oilprice.com/Latest-Energy-News/World-News/OPEC-Oil-Output-Rises-As-Saudis-Pump-At-Record-While-Iran-Slumps.html\n",
            "[150] Request(GET) >> OK: https://oilprice.com/Latest-Energy-News/World-News/OPEC-Urges-Nigeria-Libya-To-Join-Oil-Production-Cuts-Iran-Balks.html\n",
            "[151] Request(GET) >> OK: https://oilprice.com/Latest-Energy-News/World-News/YPF-Petronas-Strike-23-Billion-Deal-In-Vaca-Muerta-Shale.html\n",
            "[152] Request(GET) >> OK: https://oilprice.com/Latest-Energy-News/World-News/China-Set-To-Resume-Buying-US-Crude-Oil-After-Trade-War-Truce.html\n",
            "[153] Request(GET) >> OK: https://oilprice.com/Latest-Energy-News/World-News/Oil-Prices-Sink-On-Surprise-Inventory-Build.html\n",
            "[154] Request(GET) >> OK: https://oilprice.com/Latest-Energy-News/World-News/World-Bank-Russia-Can-Withstand-Oil-Price-Volatility-In-2019.html\n",
            "[155] Request(GET) >> OK: https://oilprice.com/Latest-Energy-News/World-News/The-Mystery-Surrounding-Teslas-Sales-In-China.html\n",
            "[156] Request(GET) >> OK: https://oilprice.com/Latest-Energy-News/World-News/Iran-Claims-It-Can-Govern-Country-Without-Relying-On-Oil-Revenue.html\n",
            "[157] Request(GET) >> OK: https://oilprice.com/Latest-Energy-News/World-News/IEA-Emissions-In-Developed-Economies-Rise-For-First-Time-In-Five-Years.html\n",
            "[158] Request(GET) >> OK: https://oilprice.com/Latest-Energy-News/World-News/Trump-Advisor-Kudlow-Deals-Blow-To-EV-Subsidies.html\n",
            "[159] Request(GET) >> OK: https://oilprice.com/Latest-Energy-News/World-News/Perus-Largest-Oil-Field-Stops-Producing-After-Pipeline-Attack.html\n",
            "[160] Request(GET) >> OK: https://oilprice.com/Latest-Energy-News/World-News/Macron-Bows-To-Protesters-Suspends-Fuel-Tax-Increase.html\n",
            "[161] Request(GET) >> OK: https://oilprice.com/Latest-Energy-News/World-News/Russias-Oil-Production-Dips-As-Possible-Production-Cuts-Near.html\n",
            "[162] Request(GET) >> OK: https://oilprice.com/Latest-Energy-News/World-News/Iraqs-Oil-Exports-Drop-To-Seven-Month-Low-In-November.html\n",
            "[163] Request(GET) >> OK: https://oilprice.com/Latest-Energy-News/World-News/Shell-To-Become-First-Oil-Major-Linking-Emissions-With-Executive-Pay.html\n",
            "[164] Request(GET) >> OK: https://oilprice.com/Latest-Energy-News/World-News/World-Bank-Pledges-200-Billion-Climate-Action-Investment.html\n",
            "[165] Request(GET) >> OK: https://oilprice.com/Latest-Energy-News/World-News/Gasoline-Bombs-Found-At-G-20-Protest-Site-In-Buenos-Aires.html\n",
            "[166] Request(GET) >> OK: https://oilprice.com/Latest-Energy-News/World-News/Oman-Qatars-Withdrawal-From-OPEC-May-Lead-To-Retaliation.html\n",
            "[167] Request(GET) >> OK: https://oilprice.com/Latest-Energy-News/World-News/French-Fuel-Protest-Shut-Down-75-Stations.html\n",
            "[168] Request(GET) >> OK: https://oilprice.com/Latest-Energy-News/World-News/Alberta-Enforces-87-Oil-Production-Cut.html\n",
            "[169] Request(GET) >> OK: https://oilprice.com/Latest-Energy-News/World-News/Alberta-Slashes-Economic-Growth-Forecast-As-Oil-Prices-Bite.html\n",
            "[170] Request(GET) >> OK: https://oilprice.com/Latest-Energy-News/World-News/Bad-Weather-Closes-Libyan-Oil-Ports-150000-Bpd-Output-Shut-In.html\n",
            "[171] Request(GET) >> OK: https://oilprice.com/Latest-Energy-News/World-News/Russias-First-LNG-Import-Terminal-At-Kaliningrad-Nears-Launch.html\n",
            "[172] Request(GET) >> OK: https://oilprice.com/Latest-Energy-News/World-News/Iran-Exports-To-Asia-Sink-To-760000-Bpd-In-October.html\n",
            "[173] Request(GET) >> OK: https://oilprice.com/Latest-Energy-News/World-News/Libyas-2018-Oil-Exports-To-China-Double-On-2017.html\n",
            "[174] Request(GET) >> OK: https://oilprice.com/Latest-Energy-News/World-News/BP-Shell-Launch-Blockchain-Oil-Trading-Platform.html\n",
            "[175] Request(GET) >> OK: https://oilprice.com/Latest-Energy-News/World-News/Reuters-Poll-Analysts-Cut-2019-WTI-Oil-Price-Forecast-To-67.html\n",
            "[176] Request(GET) >> OK: https://oilprice.com/Latest-Energy-News/World-News/Taiwan-Firm-Stops-Importing-Iranian-Oil-Despite-Waiver.html\n",
            "[177] Request(GET) >> OK: https://oilprice.com/Latest-Energy-News/World-News/US-Official-Irans-Oil-Exports-Set-Plummet-Further.html\n",
            "[178] Request(GET) >> OK: https://oilprice.com/Latest-Energy-News/World-News/Is-China-Spying-On-Tesla.html\n",
            "[179] Request(GET) >> OK: https://oilprice.com/Latest-Energy-News/World-News/US-Oil-Gas-Reserves-Hit-Record-Highs.html\n"
          ],
          "name": "stdout"
        }
      ]
    },
    {
      "metadata": {
        "id": "ixPGApCdhVC-",
        "colab_type": "code",
        "colab": {
          "base_uri": "https://localhost:8080/",
          "height": 109
        },
        "outputId": "f894f24c-197d-44e8-8e6e-09263f4e54f8"
      },
      "cell_type": "code",
      "source": [
        "news[-1]"
      ],
      "execution_count": 118,
      "outputs": [
        {
          "output_type": "execute_result",
          "data": {
            "text/plain": [
              "('2018-Nov-29',\n",
              " 'U.S. Oil, Gas Reserves Hit Record Highs',\n",
              " 'Higher prices and continued shale resource development helped push U.S. crude oil and natural gas proved reserves to new record highs in 2017, the Energy Information Administration (EIA) said in a report on Thursday. Proved reserves of U.S. crude oil jumped by 19.5 percent in 2017 from the end of 2016, reaching 39.2 billion barrels and beating the previous record of 39.0 billion barrels set in 1970. Crude oil reserves reached an all-time in 2017, as higher prices typically raise reserve estimates because exploration and production companies believe that more of their resource bases can be produced. Last year, the average WTI Crude spot price rose by 20 percent compared to 2016, exceeding $60 a barrel for the first time since June 2015 and helping to drive increases in reserves, the EIA noted.  In its report for 2016, EIA said that the development in the Permian led to Texas showing the largest net increase in proved reserves of crude oil and lease condensate of all U.S. states, although the total U.S. crude oil reserves at end-2016 were virtually the same as at end-2015.Related:\\xa0The Biggest Winners Of The Oil Price Slump In 2017, higher prices drove proved crude oil reserves to records, and Texas again had the biggest net increase in reserves. Texas added 3.1 billion barrels of proved reserves, followed by New Mexico which added 1.0 billion barrels of reserves. Thanks to the development in the Permian and higher oil prices, Texas and New Mexico led the reserves additions, especially in the stacked oil-bearing formations of the Spraberry Trend and the Wolfcamp/Bone Spring shale play.  Proved natural gas reserves across the U.S. jumped by 36.1 percent to 464.3 trillion cubic feet (Tcf) in 2017, beating the previous record of 388.8 Tcf from 2014, also thanks to Henry Hub natural gas prices rising by 21 percent last year.  Pennsylvania and Texas were the number-one and number-two states in terms of largest net increases in reserves, respectively, due to higher prices and development in the Appalachian and Permian basins and the Haynesville/Bossier shale play in eastern Texas and northern Louisiana, the EIA said. The share of shale gas reserves of all U.S. natural gas reserves rose to 66 percent in 2017 from 62 percent in 2016.  By Tsvetana Paraskova for Oilprice.com More Top Reads From Oilprice.com:',\n",
              " 'US-Oil-Gas-Reserves-Hit-Record-Highs.html')"
            ]
          },
          "metadata": {
            "tags": []
          },
          "execution_count": 118
        }
      ]
    },
    {
      "metadata": {
        "id": "rW5UYhRgi6nY",
        "colab_type": "code",
        "colab": {
          "base_uri": "https://localhost:8080/",
          "height": 35
        },
        "outputId": "24e5d0a3-ca4d-4667-9b91-7bfd54040531"
      },
      "cell_type": "code",
      "source": [
        "[a for a in news if len(a[2]) < 1024]"
      ],
      "execution_count": 120,
      "outputs": [
        {
          "output_type": "execute_result",
          "data": {
            "text/plain": [
              "[]"
            ]
          },
          "metadata": {
            "tags": []
          },
          "execution_count": 120
        }
      ]
    },
    {
      "metadata": {
        "id": "mo-mX91hIsvH",
        "colab_type": "code",
        "colab": {}
      },
      "cell_type": "code",
      "source": [
        "with open(DATA_PATH + 'oilprice.com_news.csv', 'w') as f:\n",
        "  fw = csv.writer(f)\n",
        "  \n",
        "  fw.writerows(news)"
      ],
      "execution_count": 0,
      "outputs": []
    }
  ]
}
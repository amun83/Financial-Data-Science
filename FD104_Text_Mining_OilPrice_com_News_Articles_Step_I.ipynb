{
  "nbformat": 4,
  "nbformat_minor": 0,
  "metadata": {
    "colab": {
      "name": "FD104 Text-Mining OilPrice.com News Articles - Step I.ipynb",
      "version": "0.3.2",
      "provenance": [],
      "include_colab_link": true
    },
    "kernelspec": {
      "name": "python3",
      "display_name": "Python 3"
    },
    "accelerator": "GPU"
  },
  "cells": [
    {
      "cell_type": "markdown",
      "metadata": {
        "id": "view-in-github",
        "colab_type": "text"
      },
      "source": [
        "<a href=\"https://colab.research.google.com/github/amun83/Koscom-Financial-Data-Bootcamp/blob/master/FD104_Text_Mining_OilPrice_com_News_Articles_Step_I.ipynb\" target=\"_parent\"><img src=\"https://colab.research.google.com/assets/colab-badge.svg\" alt=\"Open In Colab\"/></a>"
      ]
    },
    {
      "metadata": {
        "id": "M0raKhKgmvHT",
        "colab_type": "text"
      },
      "cell_type": "markdown",
      "source": [
        "# I. Scraping News Articles: https://oilprice.com/"
      ]
    },
    {
      "metadata": {
        "id": "A9JvBTq26riQ",
        "colab_type": "code",
        "colab": {}
      },
      "cell_type": "code",
      "source": [
        "ON_COLAB  = True\n",
        "DATA_PATH = ''"
      ],
      "execution_count": 0,
      "outputs": []
    },
    {
      "metadata": {
        "id": "Z3u8bzSb6DPR",
        "colab_type": "code",
        "colab": {}
      },
      "cell_type": "code",
      "source": [
        "!pip install -q --upgrade pandas_datareader\n",
        "!pip install -q --upgrade finance-datareader\n",
        "!pip install -q --upgrade html5lib\n",
        "!pip install -q --upgrade lxml\n",
        "!pip install -q --upgrade seaborn\n",
        "!pip install -q --upgrade gspread"
      ],
      "execution_count": 0,
      "outputs": []
    },
    {
      "metadata": {
        "id": "eEgj2trEkoGh",
        "colab_type": "code",
        "colab": {}
      },
      "cell_type": "code",
      "source": [
        "# utilities\n",
        "import datetime\n",
        "import re\n",
        "import csv\n",
        "from IPython.display import display\n",
        "\n",
        "# web scraping\n",
        "import requests\n",
        "import urllib.parse\n",
        "from bs4 import BeautifulSoup as bs\n",
        "import pandas_datareader as pdr\n",
        "import FinanceDataReader as fdr\n",
        "\n",
        "# Math/Stat\n",
        "import numpy as np\n",
        "import pandas as pd\n",
        "from pandas.plotting import scatter_matrix\n",
        "#import math\n",
        "\n",
        "# Machine Learning\n",
        "#from keras.models import Sequential\n",
        "#from keras.layers import Dense\n",
        "#from keras.layers import LSTM\n",
        "\n",
        "# visualization\n",
        "import seaborn as sns\n",
        "sns.set_style('whitegrid')\n",
        "import matplotlib.pyplot as plt\n",
        "%matplotlib inline"
      ],
      "execution_count": 0,
      "outputs": []
    },
    {
      "metadata": {
        "id": "9B8M9wlWUa4f",
        "colab_type": "code",
        "outputId": "7e74b1b4-d3ee-4c00-cb03-91a835ca4525",
        "colab": {
          "base_uri": "https://localhost:8080/",
          "height": 34
        }
      },
      "cell_type": "code",
      "source": [
        "if ON_COLAB :\n",
        "  from google.colab import drive\n",
        "  drive.mount('/gdrive')\n",
        "  DATA_PATH = '/gdrive/My Drive/sandbox/'"
      ],
      "execution_count": 0,
      "outputs": [
        {
          "output_type": "stream",
          "text": [
            "Drive already mounted at /gdrive; to attempt to forcibly remount, call drive.mount(\"/gdrive\", force_remount=True).\n"
          ],
          "name": "stdout"
        }
      ]
    },
    {
      "metadata": {
        "id": "0XlWPVuRnw-5",
        "colab_type": "code",
        "colab": {}
      },
      "cell_type": "code",
      "source": [
        "pattern = re.compile(r'(Jan|Feb|Mar|Apr|May|Jun|Jul|Aug|Sep|Oct|Nov|Dec)\\s(\\d\\d),\\s(\\d{4})')\n",
        "# Example: By Julianne Geiger - Dec 14, 2018, 8:00 PM CST"
      ],
      "execution_count": 0,
      "outputs": []
    },
    {
      "metadata": {
        "id": "8sNEbxAs_Sa3",
        "colab_type": "code",
        "colab": {}
      },
      "cell_type": "code",
      "source": [
        "def get_news_urls_by_page(page_num):\n",
        "  try:\n",
        "    get_news_urls_by_page.counter += 1\n",
        "  except:\n",
        "    get_news_urls_by_page.counter = 0\n",
        "    \n",
        "  page_url = 'https://oilprice.com/Latest-Energy-News/World-News/Page-' + str(page_num) + '.html'\n",
        "  # https://oilprice.com/Latest-Energy-News/World-News/Page-865.html\n",
        "\n",
        "  try:\n",
        "    r = requests.get(page_url)\n",
        "    if get_news_urls_by_page.counter % 10 == 0:\n",
        "      print('Request(GET) >> OK: ' + page_url)\n",
        "  except:\n",
        "    print('Request(GET) >> Failed: ' + page_url)\n",
        "    return None\n",
        "\n",
        "  soup = bs(r.text)\n",
        "  items = soup.find_all('div', {'class':'categoryArticle__content'})\n",
        "\n",
        "  if not items:\n",
        "    print('Request(GET) >> Empty Page: ' + page_url)\n",
        "    return None\n",
        "  \n",
        "  return [item.find('a', href = True)['href'] for item in items]"
      ],
      "execution_count": 0,
      "outputs": []
    },
    {
      "metadata": {
        "id": "d-hpExqkcX-e",
        "colab_type": "code",
        "colab": {}
      },
      "cell_type": "code",
      "source": [
        "def get_news_content(url):\n",
        "  try:\n",
        "    get_news_content.counter += 1\n",
        "  except:\n",
        "    get_news_content.counter = 0\n",
        "  \n",
        "  try:\n",
        "    r = requests.get(url)\n",
        "    if get_news_content.counter % 100 == 0:\n",
        "      print('[' + str(get_news_content.counter) + '] Request(GET) >> OK: ' + url)\n",
        "  except:\n",
        "    print('[' + str(get_news_content.counter) + '] Request(GET) >> Failed: ' + url)\n",
        "    return None\n",
        "\n",
        "  soup = bs(r.text)\n",
        "\n",
        "  title = soup.find('h1').text\n",
        "\n",
        "  date = soup.find('span', {'class':'article_byline'}).text\n",
        "\n",
        "  match = re.search(pattern, date)\n",
        "  mmm, dd, yyyy = match.groups(0)\n",
        "  date = yyyy + \"-\" + mmm + \"-\" + dd\n",
        "\n",
        "  raw_content = soup.find('div', {'id':'news-content'}).find_all('p')\n",
        "  content = ' '.join([p.text.strip() for p in raw_content])\n",
        "  \n",
        "  return date, title, content"
      ],
      "execution_count": 0,
      "outputs": []
    },
    {
      "metadata": {
        "id": "7w8fY3imAXa3",
        "colab_type": "code",
        "outputId": "cd06b5c7-788b-44d1-ca7e-931a4c1024c9",
        "colab": {
          "base_uri": "https://localhost:8080/",
          "height": 1513
        }
      },
      "cell_type": "code",
      "source": [
        "news_urls =[]\n",
        "\n",
        "for i in range(1, 1000):\n",
        "  urls = get_news_urls_by_page(i)\n",
        "  if not urls:\n",
        "    break\n",
        "    \n",
        "  news_urls += urls"
      ],
      "execution_count": 0,
      "outputs": [
        {
          "output_type": "stream",
          "text": [
            "Request(GET) >> OK: https://oilprice.com/Latest-Energy-News/World-News/Page-1.html\n",
            "Request(GET) >> OK: https://oilprice.com/Latest-Energy-News/World-News/Page-11.html\n",
            "Request(GET) >> OK: https://oilprice.com/Latest-Energy-News/World-News/Page-21.html\n",
            "Request(GET) >> OK: https://oilprice.com/Latest-Energy-News/World-News/Page-31.html\n",
            "Request(GET) >> OK: https://oilprice.com/Latest-Energy-News/World-News/Page-41.html\n",
            "Request(GET) >> OK: https://oilprice.com/Latest-Energy-News/World-News/Page-51.html\n",
            "Request(GET) >> OK: https://oilprice.com/Latest-Energy-News/World-News/Page-61.html\n",
            "Request(GET) >> OK: https://oilprice.com/Latest-Energy-News/World-News/Page-71.html\n",
            "Request(GET) >> OK: https://oilprice.com/Latest-Energy-News/World-News/Page-81.html\n",
            "Request(GET) >> OK: https://oilprice.com/Latest-Energy-News/World-News/Page-91.html\n",
            "Request(GET) >> OK: https://oilprice.com/Latest-Energy-News/World-News/Page-101.html\n",
            "Request(GET) >> OK: https://oilprice.com/Latest-Energy-News/World-News/Page-111.html\n",
            "Request(GET) >> OK: https://oilprice.com/Latest-Energy-News/World-News/Page-121.html\n",
            "Request(GET) >> OK: https://oilprice.com/Latest-Energy-News/World-News/Page-131.html\n",
            "Request(GET) >> OK: https://oilprice.com/Latest-Energy-News/World-News/Page-141.html\n",
            "Request(GET) >> OK: https://oilprice.com/Latest-Energy-News/World-News/Page-151.html\n",
            "Request(GET) >> OK: https://oilprice.com/Latest-Energy-News/World-News/Page-161.html\n",
            "Request(GET) >> OK: https://oilprice.com/Latest-Energy-News/World-News/Page-171.html\n",
            "Request(GET) >> OK: https://oilprice.com/Latest-Energy-News/World-News/Page-181.html\n",
            "Request(GET) >> OK: https://oilprice.com/Latest-Energy-News/World-News/Page-191.html\n",
            "Request(GET) >> OK: https://oilprice.com/Latest-Energy-News/World-News/Page-201.html\n",
            "Request(GET) >> OK: https://oilprice.com/Latest-Energy-News/World-News/Page-211.html\n",
            "Request(GET) >> OK: https://oilprice.com/Latest-Energy-News/World-News/Page-221.html\n",
            "Request(GET) >> OK: https://oilprice.com/Latest-Energy-News/World-News/Page-231.html\n",
            "Request(GET) >> OK: https://oilprice.com/Latest-Energy-News/World-News/Page-241.html\n",
            "Request(GET) >> OK: https://oilprice.com/Latest-Energy-News/World-News/Page-251.html\n",
            "Request(GET) >> OK: https://oilprice.com/Latest-Energy-News/World-News/Page-261.html\n",
            "Request(GET) >> OK: https://oilprice.com/Latest-Energy-News/World-News/Page-271.html\n",
            "Request(GET) >> OK: https://oilprice.com/Latest-Energy-News/World-News/Page-281.html\n",
            "Request(GET) >> OK: https://oilprice.com/Latest-Energy-News/World-News/Page-291.html\n",
            "Request(GET) >> OK: https://oilprice.com/Latest-Energy-News/World-News/Page-301.html\n",
            "Request(GET) >> OK: https://oilprice.com/Latest-Energy-News/World-News/Page-311.html\n",
            "Request(GET) >> OK: https://oilprice.com/Latest-Energy-News/World-News/Page-321.html\n",
            "Request(GET) >> OK: https://oilprice.com/Latest-Energy-News/World-News/Page-331.html\n",
            "Request(GET) >> OK: https://oilprice.com/Latest-Energy-News/World-News/Page-341.html\n",
            "Request(GET) >> OK: https://oilprice.com/Latest-Energy-News/World-News/Page-351.html\n",
            "Request(GET) >> OK: https://oilprice.com/Latest-Energy-News/World-News/Page-361.html\n",
            "Request(GET) >> OK: https://oilprice.com/Latest-Energy-News/World-News/Page-371.html\n",
            "Request(GET) >> OK: https://oilprice.com/Latest-Energy-News/World-News/Page-381.html\n",
            "Request(GET) >> OK: https://oilprice.com/Latest-Energy-News/World-News/Page-391.html\n",
            "Request(GET) >> OK: https://oilprice.com/Latest-Energy-News/World-News/Page-401.html\n",
            "Request(GET) >> OK: https://oilprice.com/Latest-Energy-News/World-News/Page-411.html\n",
            "Request(GET) >> OK: https://oilprice.com/Latest-Energy-News/World-News/Page-421.html\n",
            "Request(GET) >> OK: https://oilprice.com/Latest-Energy-News/World-News/Page-431.html\n",
            "Request(GET) >> OK: https://oilprice.com/Latest-Energy-News/World-News/Page-441.html\n",
            "Request(GET) >> OK: https://oilprice.com/Latest-Energy-News/World-News/Page-451.html\n",
            "Request(GET) >> OK: https://oilprice.com/Latest-Energy-News/World-News/Page-461.html\n",
            "Request(GET) >> OK: https://oilprice.com/Latest-Energy-News/World-News/Page-471.html\n",
            "Request(GET) >> OK: https://oilprice.com/Latest-Energy-News/World-News/Page-481.html\n",
            "Request(GET) >> OK: https://oilprice.com/Latest-Energy-News/World-News/Page-491.html\n",
            "Request(GET) >> OK: https://oilprice.com/Latest-Energy-News/World-News/Page-501.html\n",
            "Request(GET) >> OK: https://oilprice.com/Latest-Energy-News/World-News/Page-511.html\n",
            "Request(GET) >> OK: https://oilprice.com/Latest-Energy-News/World-News/Page-521.html\n",
            "Request(GET) >> OK: https://oilprice.com/Latest-Energy-News/World-News/Page-531.html\n",
            "Request(GET) >> OK: https://oilprice.com/Latest-Energy-News/World-News/Page-541.html\n",
            "Request(GET) >> OK: https://oilprice.com/Latest-Energy-News/World-News/Page-551.html\n",
            "Request(GET) >> OK: https://oilprice.com/Latest-Energy-News/World-News/Page-561.html\n",
            "Request(GET) >> OK: https://oilprice.com/Latest-Energy-News/World-News/Page-571.html\n",
            "Request(GET) >> OK: https://oilprice.com/Latest-Energy-News/World-News/Page-581.html\n",
            "Request(GET) >> OK: https://oilprice.com/Latest-Energy-News/World-News/Page-591.html\n",
            "Request(GET) >> OK: https://oilprice.com/Latest-Energy-News/World-News/Page-601.html\n",
            "Request(GET) >> OK: https://oilprice.com/Latest-Energy-News/World-News/Page-611.html\n",
            "Request(GET) >> OK: https://oilprice.com/Latest-Energy-News/World-News/Page-621.html\n",
            "Request(GET) >> OK: https://oilprice.com/Latest-Energy-News/World-News/Page-631.html\n",
            "Request(GET) >> OK: https://oilprice.com/Latest-Energy-News/World-News/Page-641.html\n",
            "Request(GET) >> OK: https://oilprice.com/Latest-Energy-News/World-News/Page-651.html\n",
            "Request(GET) >> OK: https://oilprice.com/Latest-Energy-News/World-News/Page-661.html\n",
            "Request(GET) >> OK: https://oilprice.com/Latest-Energy-News/World-News/Page-671.html\n",
            "Request(GET) >> OK: https://oilprice.com/Latest-Energy-News/World-News/Page-681.html\n",
            "Request(GET) >> OK: https://oilprice.com/Latest-Energy-News/World-News/Page-691.html\n",
            "Request(GET) >> OK: https://oilprice.com/Latest-Energy-News/World-News/Page-701.html\n",
            "Request(GET) >> OK: https://oilprice.com/Latest-Energy-News/World-News/Page-711.html\n",
            "Request(GET) >> OK: https://oilprice.com/Latest-Energy-News/World-News/Page-721.html\n",
            "Request(GET) >> OK: https://oilprice.com/Latest-Energy-News/World-News/Page-731.html\n",
            "Request(GET) >> OK: https://oilprice.com/Latest-Energy-News/World-News/Page-741.html\n",
            "Request(GET) >> OK: https://oilprice.com/Latest-Energy-News/World-News/Page-751.html\n",
            "Request(GET) >> OK: https://oilprice.com/Latest-Energy-News/World-News/Page-761.html\n",
            "Request(GET) >> OK: https://oilprice.com/Latest-Energy-News/World-News/Page-771.html\n",
            "Request(GET) >> OK: https://oilprice.com/Latest-Energy-News/World-News/Page-781.html\n",
            "Request(GET) >> OK: https://oilprice.com/Latest-Energy-News/World-News/Page-791.html\n",
            "Request(GET) >> OK: https://oilprice.com/Latest-Energy-News/World-News/Page-801.html\n",
            "Request(GET) >> OK: https://oilprice.com/Latest-Energy-News/World-News/Page-811.html\n",
            "Request(GET) >> OK: https://oilprice.com/Latest-Energy-News/World-News/Page-821.html\n",
            "Request(GET) >> OK: https://oilprice.com/Latest-Energy-News/World-News/Page-831.html\n",
            "Request(GET) >> OK: https://oilprice.com/Latest-Energy-News/World-News/Page-841.html\n",
            "Request(GET) >> OK: https://oilprice.com/Latest-Energy-News/World-News/Page-851.html\n",
            "Request(GET) >> OK: https://oilprice.com/Latest-Energy-News/World-News/Page-861.html\n",
            "Request(GET) >> Empty Page: https://oilprice.com/Latest-Energy-News/World-News/Page-867.html\n"
          ],
          "name": "stdout"
        }
      ]
    },
    {
      "metadata": {
        "id": "2rKUCb0Ohmxb",
        "colab_type": "code",
        "outputId": "90e889c0-56c9-4f5b-bd4d-118f26dfecc9",
        "colab": {
          "base_uri": "https://localhost:8080/",
          "height": 51
        }
      },
      "cell_type": "code",
      "source": [
        "print(len(news_urls))\n",
        "print(news_urls[-1])"
      ],
      "execution_count": 0,
      "outputs": [
        {
          "output_type": "stream",
          "text": [
            "8652\n",
            "https://oilprice.com/Latest-Energy-News/World-News/Romania-Posts-2011-2035-National-Energy-Strategy-Online.html\n"
          ],
          "name": "stdout"
        }
      ]
    },
    {
      "metadata": {
        "id": "PoFQEETwmrrv",
        "colab_type": "code",
        "colab": {}
      },
      "cell_type": "code",
      "source": [
        "with open(DATA_PATH + 'oilprice.com_news_urls.csv', 'w') as f:\n",
        "  fw = csv.writer(f)\n",
        "  fw.writerows([[url] for url in news_urls])"
      ],
      "execution_count": 0,
      "outputs": []
    },
    {
      "metadata": {
        "id": "Kbw_aOTUgU_O",
        "colab_type": "code",
        "outputId": "1761c32b-51e6-4640-80d3-b77c356a57c6",
        "colab": {
          "base_uri": "https://localhost:8080/",
          "height": 1516
        }
      },
      "cell_type": "code",
      "source": [
        "news = [get_news_content(url) + (url.split('/')[-1],) for url in news_urls]"
      ],
      "execution_count": 0,
      "outputs": [
        {
          "output_type": "stream",
          "text": [
            "[0] Request(GET) >> OK: https://oilprice.com/Latest-Energy-News/World-News/France-Extends-State-Guarantee-For-Total-Participated-Russian-LNG-Projects.html\n",
            "[100] Request(GET) >> OK: https://oilprice.com/Latest-Energy-News/World-News/Pemex-Doubles-Reserve-Estimate-At-One-Of-Worlds-Largest-Finds.html\n",
            "[200] Request(GET) >> OK: https://oilprice.com/Latest-Energy-News/World-News/South-Korea-To-Restart-Iran-Oil-Imports-At-4M-Barrels-Per-Month.html\n",
            "[300] Request(GET) >> OK: https://oilprice.com/Latest-Energy-News/World-News/Kinder-Morgan-Cancels-Gas-Pipeline-Project.html\n",
            "[400] Request(GET) >> OK: https://oilprice.com/Latest-Energy-News/World-News/Total-Bets-On-Deepwater-Oil-Gas-To-Boost-Production.html\n",
            "[500] Request(GET) >> OK: https://oilprice.com/Latest-Energy-News/World-News/Major-Japanese-Refiners-Suspend-Iranian-Oil-Imports-For-October.html\n",
            "[600] Request(GET) >> OK: https://oilprice.com/Latest-Energy-News/World-News/Indias-Reliance-Declares-Force-Majeure-At-Major-Export-Refinery.html\n",
            "[700] Request(GET) >> OK: https://oilprice.com/Latest-Energy-News/World-News/Chevron-Announces-Share-Buybacks-But-Misses-On-Earnings.html\n",
            "[800] Request(GET) >> OK: https://oilprice.com/Latest-Energy-News/World-News/South-Korea-Rejects-Reports-Of-Iranian-Oil-Import-Suspension.html\n",
            "[900] Request(GET) >> OK: https://oilprice.com/Latest-Energy-News/World-News/Fighting-Cuts-Libyan-Oil-Storage-Capacity-By-400000-Barrels.html\n",
            "[1000] Request(GET) >> OK: https://oilprice.com/Latest-Energy-News/World-News/Saudis-Say-Aramco-IPO-Most-Likely-In-2019.html\n",
            "[1100] Request(GET) >> OK: https://oilprice.com/Latest-Energy-News/World-News/Ex-Guantanamo-Detainee-Advised-Libyas-Oil-Industry.html\n",
            "[1200] Request(GET) >> OK: https://oilprice.com/Latest-Energy-News/World-News/Tesla-Pauses-Model-3-Production-To-Fix-Bottlenecks.html\n",
            "[1300] Request(GET) >> OK: https://oilprice.com/Latest-Energy-News/World-News/Oil-Falls-After-API-Reports-Major-Surprise-Crude-Inventory-Build.html\n",
            "[1400] Request(GET) >> OK: https://oilprice.com/Latest-Energy-News/World-News/Tesla-Semis-Go-On-First-Trip.html\n",
            "[1500] Request(GET) >> OK: https://oilprice.com/Latest-Energy-News/World-News/Wine-For-Oil-Albertas-Revenge.html\n",
            "[1600] Request(GET) >> OK: https://oilprice.com/Latest-Energy-News/World-News/Russia-Warns-Against-Cutting-Off-North-Koreas-Oil.html\n",
            "[1700] Request(GET) >> OK: https://oilprice.com/Latest-Energy-News/World-News/Rigid-EU-Rules-Makes-ICE-Move-245-Oil-Futures-Contracts-To-US.html\n",
            "[1800] Request(GET) >> OK: https://oilprice.com/Latest-Energy-News/World-News/Chinas-CNPC-Considers-Taking-Over-South-Pars-Gas-Field.html\n",
            "[1900] Request(GET) >> OK: https://oilprice.com/Latest-Energy-News/World-News/Samsungs-Graphene-Based-Battery-Charges-In-12-Minutes.html\n",
            "[2000] Request(GET) >> OK: https://oilprice.com/Latest-Energy-News/World-News/Tajikistan-Uzbekistan-Strengthen-Energy-Relations.html\n",
            "[2100] Request(GET) >> OK: https://oilprice.com/Latest-Energy-News/World-News/Energy-Regulators-Look-To-Guard-Grid-From-Cyberattacks.html\n",
            "[2200] Request(GET) >> OK: https://oilprice.com/Latest-Energy-News/World-News/Iraq-Aims-To-Restart-Oil-Fields-Attacked-By-ISIS.html\n",
            "[2300] Request(GET) >> OK: https://oilprice.com/Latest-Energy-News/World-News/BP-Extends-Monumental-Azeri-Oil-Field-Contract-Until-2050.html\n",
            "[2400] Request(GET) >> OK: https://oilprice.com/Latest-Energy-News/World-News/White-House-Approves-Fresh-Sanctions-On-Venezuela.html\n",
            "[2500] Request(GET) >> OK: https://oilprice.com/Latest-Energy-News/World-News/Shell-Aims-To-Restart-Crude-Unit-At-Europes-Biggest-Refinery.html\n",
            "[2600] Request(GET) >> OK: https://oilprice.com/Latest-Energy-News/World-News/Saudi-Led-Bloc-Eases-Up-On-Qatari-Demands.html\n",
            "[2700] Request(GET) >> OK: https://oilprice.com/Latest-Energy-News/World-News/Norway-Tops-Natural-Resource-Management-Ranking.html\n",
            "[2800] Request(GET) >> OK: https://oilprice.com/Latest-Energy-News/World-News/Belgian-Court-Unfreezes-Russian-Assets-In-Yukos-Case.html\n",
            "[2900] Request(GET) >> OK: https://oilprice.com/Latest-Energy-News/World-News/Renewables-Jobs-To-Double-By-2030.html\n",
            "[3000] Request(GET) >> OK: https://oilprice.com/Latest-Energy-News/World-News/Rosnefts-Q1-Profits-Miss-As-Stronger-Ruble-Offsets-Oil-Price-Gains.html\n",
            "[3100] Request(GET) >> OK: https://oilprice.com/Latest-Energy-News/World-News/BP-And-Monroe-Energy-Lock-Horns-Over-Oil-Supply-Contract.html\n",
            "[3200] Request(GET) >> OK: https://oilprice.com/Latest-Energy-News/World-News/ConocoPhillips-Exits-Most-Canadian-Operations.html\n",
            "[3300] Request(GET) >> OK: https://oilprice.com/Latest-Energy-News/World-News/Somali-Pirates-Hijack-First-Tanker-Since-2012.html\n",
            "[3400] Request(GET) >> OK: https://oilprice.com/Latest-Energy-News/World-News/API-Reports-Draw-In-US-Crude-Inventories-After-6-Week-Build-Streak.html\n",
            "[3500] Request(GET) >> OK: https://oilprice.com/Latest-Energy-News/World-News/Qatar-Petroleum-On-The-Hunt-For-International-Projects.html\n",
            "[3600] Request(GET) >> OK: https://oilprice.com/Latest-Energy-News/World-News/Russia-Yukos-Back-In-Court-Over-50-Billion-Appeal.html\n",
            "[3700] Request(GET) >> OK: https://oilprice.com/Latest-Energy-News/World-News/Oil-Rich-Iraqi-Oil-Province-Kirkuk-Ready-To-Participate-In-OPEC-Cuts.html\n",
            "[3800] Request(GET) >> OK: https://oilprice.com/Latest-Energy-News/World-News/SEC-Scolded-Tesla-For-Using-Prohibited-Tailored-Accounting.html\n",
            "[3900] Request(GET) >> OK: https://oilprice.com/Latest-Energy-News/World-News/Frances-Total-The-First-Major-To-Return-Investing-In-Iran.html\n",
            "[4000] Request(GET) >> OK: https://oilprice.com/Latest-Energy-News/World-News/Zeits-Natural-Gas-Output-In-US-Will-Dip-in-2016.html\n",
            "[4100] Request(GET) >> OK: https://oilprice.com/Latest-Energy-News/World-News/Sunoco-Logistics-Buys-Vitols-Assets-In-The-Permian-For-760M.html\n",
            "[4200] Request(GET) >> OK: https://oilprice.com/Latest-Energy-News/World-News/Lithuania-Seeks-Annulment-Of-Court-Decision-In-Gazprom-Dispute.html\n",
            "[4300] Request(GET) >> OK: https://oilprice.com/Latest-Energy-News/World-News/Chinas-Biggest-Offshore-Producer-Posts-First-Ever-Half-Year-Loss.html\n",
            "[4400] Request(GET) >> OK: https://oilprice.com/Latest-Energy-News/World-News/Saskatchewan-Plagued-with-Fourth-Oil-Spill-in-8-Months.html\n",
            "[4500] Request(GET) >> OK: https://oilprice.com/Latest-Energy-News/World-News/New-Attack-On-Nigerian-Oil-Pipeline-Unclaimed-By-Niger-Delta-Avengers.html\n",
            "[4600] Request(GET) >> OK: https://oilprice.com/Latest-Energy-News/World-News/ExxonMobil-Investment-Could-Bring-Mozambique-Bank-From-Near-Default.html\n",
            "[4700] Request(GET) >> OK: https://oilprice.com/Latest-Energy-News/World-News/60000-Jobs-Lost-In-Angola-Due-To-Oil-Slump.html\n",
            "[4800] Request(GET) >> OK: https://oilprice.com/Latest-Energy-News/World-News/Shale-Boom-Royalties-Come-Back-to-Bite-Chesapeake.html\n",
            "[4900] Request(GET) >> OK: https://oilprice.com/Latest-Energy-News/World-News/Low-Oil-Prices-Prompt-Halliburton-to-Trim-Operations-in-Venezuela.html\n",
            "[5000] Request(GET) >> OK: https://oilprice.com/Latest-Energy-News/World-News/BP-Sets-Up-Shale-Gas-Operation-In-China.html\n",
            "[5100] Request(GET) >> OK: https://oilprice.com/Latest-Energy-News/World-News/Statoil-BP-Ramp-Up-Natural-Gas-Production-In-Algeria.html\n",
            "[5200] Request(GET) >> OK: https://oilprice.com/Latest-Energy-News/World-News/After-40-Years-Is-America-Ready-To-Be-An-Oil-Exporter-Again.html\n",
            "[5300] Request(GET) >> OK: https://oilprice.com/Latest-Energy-News/World-News/UK-Rolls-Out-Red-Carpet-For-China-Secures-Multiple-Business-Deals.html\n",
            "[5400] Request(GET) >> OK: https://oilprice.com/Latest-Energy-News/World-News/Could-The-New-Air-China-Direct-Cargo-Route-Be-A-Game-Changer-For-Canada.html\n",
            "[5500] Request(GET) >> OK: https://oilprice.com/Latest-Energy-News/World-News/Why-Shell-May-Get-Less-Than-It-Bargained-For-In-BG-Deal.html\n",
            "[5600] Request(GET) >> OK: https://oilprice.com/Latest-Energy-News/World-News/Gas-Deal-With-BP-Puts-Egypt-Back-On-Energy-Map.html\n",
            "[5700] Request(GET) >> OK: https://oilprice.com/Latest-Energy-News/World-News/Tesla-Increase-Range-Of-Roadster-By-50.html\n",
            "[5800] Request(GET) >> OK: https://oilprice.com/Latest-Energy-News/World-News/Space-Mining-Faces-Setback-After-Rocket-Explosion.html\n",
            "[5900] Request(GET) >> OK: https://oilprice.com/Latest-Energy-News/World-News/Citigroup-Report-Spells-Trouble-For-Oil-Further-Growth-For-Renewables.html\n",
            "[6000] Request(GET) >> OK: https://oilprice.com/Latest-Energy-News/World-News/Russia-Cuts-Gas-Flow-To-Ukraine.html\n",
            "[6100] Request(GET) >> OK: https://oilprice.com/Latest-Energy-News/World-News/Alaska-To-Invest-In-LNG-Project.html\n",
            "[6200] Request(GET) >> OK: https://oilprice.com/Latest-Energy-News/World-News/Russia-Threatens-to-Cut-Gas-Discounts-to-Ukraine.html\n",
            "[6300] Request(GET) >> OK: https://oilprice.com/Latest-Energy-News/World-News/Asia-to-Receive-Alaskan-Gas-with-New-Pipeline-from-Stranded-North-Slope-Fields.html\n",
            "[6400] Request(GET) >> OK: https://oilprice.com/Latest-Energy-News/World-News/Russian-Billionaire-Hopes-to-Buy-RWE-Oil-and-Gas-Unit.html\n",
            "[6500] Request(GET) >> OK: https://oilprice.com/Latest-Energy-News/World-News/Chevron-Invests-12-Billion-on-Gulf-of-Mexico-Expansion.html\n",
            "[6600] Request(GET) >> OK: https://oilprice.com/Latest-Energy-News/World-News/Cost-of-Renewable-Energy-has-Fallen-50-Since-2008.html\n",
            "[6700] Request(GET) >> OK: https://oilprice.com/Latest-Energy-News/World-News/Sanctions-Enable-Iranian-Shipping-Company-to-Expand-Fleet-Capacity-by-23.html\n",
            "[6800] Request(GET) >> OK: https://oilprice.com/Latest-Energy-News/World-News/Obamas-Climate-Change-Efforts-in-Vain-without-Chinas-Cooperation.html\n",
            "[6900] Request(GET) >> OK: https://oilprice.com/Latest-Energy-News/World-News/Nakilat-Moves-Focus-from-LNG-Vessels-to-Build-Luxury-Yachts.html\n",
            "[7000] Request(GET) >> OK: https://oilprice.com/Latest-Energy-News/World-News/New-Report-Confirms-that-China-Leads-the-Global-Fight-Against-Climate-Change.html\n",
            "[7100] Request(GET) >> OK: https://oilprice.com/Latest-Energy-News/World-News/UK-could-Run-Out-of-Natural-Gas-by-April.html\n",
            "[7200] Request(GET) >> OK: https://oilprice.com/Latest-Energy-News/World-News/President-Obama-Stands-up-to-Congress-over-Clean-Energy-and-Climate-Change.html\n",
            "[7300] Request(GET) >> OK: https://oilprice.com/Latest-Energy-News/World-News/CNOOC-and-ConocoPhillips-Work-to-Reopen-Chinas-Largest-Oilfield.html\n",
            "[7400] Request(GET) >> OK: https://oilprice.com/Latest-Energy-News/World-News/Scientists-Find-Mega-Oil-Fiel-...-1300-Light-Years-Away.html\n",
            "[7500] Request(GET) >> OK: https://oilprice.com/Latest-Energy-News/World-News/Iran-Announces-Plans-to-Increase-Naval-Presence-in-the-Straits-of-Hormuz.html\n",
            "[7600] Request(GET) >> OK: https://oilprice.com/Latest-Energy-News/World-News/Latest-Cyber-Attack-Disrupts-Irans-Internet-Access.html\n",
            "[7700] Request(GET) >> OK: https://oilprice.com/Latest-Energy-News/World-News/Residents-Ordered-to-Evacuate-as-Dam-in-Louisiana-Threatens-Imminent-Collapse.html\n",
            "[7800] Request(GET) >> OK: https://oilprice.com/Latest-Energy-News/World-News/South-Americas-Burgeoning-Geothermal-Potential.html\n",
            "[7900] Request(GET) >> OK: https://oilprice.com/Latest-Energy-News/World-News/Invisible-Solar-Cell-Almost-Ready-for-Mass-Production.html\n",
            "[8000] Request(GET) >> OK: https://oilprice.com/Latest-Energy-News/World-News/The-US-China-and-India-Risk-Severe-Water-Shortages.html\n",
            "[8100] Request(GET) >> OK: https://oilprice.com/Latest-Energy-News/World-News/Natural-Gas-Analysis-for-the-Week-of-March-26-2012.html\n",
            "[8200] Request(GET) >> OK: https://oilprice.com/Latest-Energy-News/World-News/GE-to-Build-150-MW-Wind-Farm-in-Kenya.html\n",
            "[8300] Request(GET) >> OK: https://oilprice.com/Latest-Energy-News/World-News/Nigeria-Rethinking-The-Atomic-Power-Project-.html\n",
            "[8400] Request(GET) >> OK: https://oilprice.com/Latest-Energy-News/World-News/Baltic-Nations-To-Work-Together-On-Infrastructure-Projects.html\n",
            "[8500] Request(GET) >> OK: https://oilprice.com/Latest-Energy-News/World-News/Spains-Repsol-YPF-Earnings-Hit-By-Libyan-Civil-War.html\n",
            "[8600] Request(GET) >> OK: https://oilprice.com/Latest-Energy-News/World-News/Indo-Burmese-Dam-Project-Raises-Concerns.html\n"
          ],
          "name": "stdout"
        }
      ]
    },
    {
      "metadata": {
        "id": "ixPGApCdhVC-",
        "colab_type": "code",
        "outputId": "7ff664c2-58d4-4793-b4b3-eef651e6ebea",
        "colab": {
          "base_uri": "https://localhost:8080/",
          "height": 122
        }
      },
      "cell_type": "code",
      "source": [
        "print(len(news))\n",
        "display(news[-1])"
      ],
      "execution_count": 0,
      "outputs": [
        {
          "output_type": "stream",
          "text": [
            "8652\n"
          ],
          "name": "stdout"
        },
        {
          "output_type": "display_data",
          "data": {
            "text/plain": [
              "('2011-Jun-15',\n",
              " 'Romania Posts 2011-2035 National Energy Strategy Online',\n",
              " \"Romania’s Ministry of Economy, Trade and Business Environment (MECMA) has posted its 2011-2035 energy strategy online for discussion. The document is intended to open discussion about Romania’s energy policies for 2011-2035 by providing international context, Romania’s current energy policies, its main targets and trends as well as forecasts concerning the country’s energy sector and measures for meeting the priority targets, Romania’s Agerpres reported. MECMA comments that updating Romania’s energy strategy, as required in the government’s 2009-2012 program, the first target of chapter 17’s “Energy and Mineral Resources” requires a deep analysis of the country’s current energy sector, as well developing potential solutions. MECMA noted, “Both the economic crisis in the past years and the new law packages adopted in the European Union in the field of energy and climate changes have deeply modified the context and the prospects in which Romania's energy strategy for 2007-2020, which is currently in force, was drawn up. The new strategy must secure the correlation of energy resources, economic capacities, technologic and economic-financial trends, and energy efficiency, environmental protection and conformity with the EU energy policy.” By. Joao Peixe, Deputy Editor OilPrice.com\",\n",
              " 'Romania-Posts-2011-2035-National-Energy-Strategy-Online.html')"
            ]
          },
          "metadata": {
            "tags": []
          }
        }
      ]
    },
    {
      "metadata": {
        "id": "mo-mX91hIsvH",
        "colab_type": "code",
        "colab": {}
      },
      "cell_type": "code",
      "source": [
        "with open(DATA_PATH + 'oilprice.com_news.csv', 'w') as f:\n",
        "  fw = csv.writer(f)\n",
        "  fw.writerows(news)"
      ],
      "execution_count": 0,
      "outputs": []
    }
  ]
}
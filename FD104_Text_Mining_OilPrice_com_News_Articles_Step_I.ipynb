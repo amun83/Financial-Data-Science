{
  "nbformat": 4,
  "nbformat_minor": 0,
  "metadata": {
    "colab": {
      "name": "FD104 Text-Mining OilPrice.com News Articles - Step I.ipynb",
      "version": "0.3.2",
      "provenance": [],
      "include_colab_link": true
    },
    "kernelspec": {
      "name": "python3",
      "display_name": "Python 3"
    },
    "accelerator": "GPU"
  },
  "cells": [
    {
      "cell_type": "markdown",
      "metadata": {
        "id": "view-in-github",
        "colab_type": "text"
      },
      "source": [
        "<a href=\"https://colab.research.google.com/github/amun83/Koscom-Financial-Data-Bootcamp/blob/master/FD104_Text_Mining_OilPrice_com_News_Articles_Step_I.ipynb\" target=\"_parent\"><img src=\"https://colab.research.google.com/assets/colab-badge.svg\" alt=\"Open In Colab\"/></a>"
      ]
    },
    {
      "metadata": {
        "id": "M0raKhKgmvHT",
        "colab_type": "text"
      },
      "cell_type": "markdown",
      "source": [
        "# I. Scraping News Articles: https://oilprice.com/"
      ]
    },
    {
      "metadata": {
        "id": "A9JvBTq26riQ",
        "colab_type": "code",
        "colab": {}
      },
      "cell_type": "code",
      "source": [
        "ON_COLAB  = True\n",
        "DATA_PATH = ''"
      ],
      "execution_count": 0,
      "outputs": []
    },
    {
      "metadata": {
        "id": "Z3u8bzSb6DPR",
        "colab_type": "code",
        "colab": {}
      },
      "cell_type": "code",
      "source": [
        "!pip install -q --upgrade pandas_datareader\n",
        "!pip install -q --upgrade finance-datareader\n",
        "!pip install -q --upgrade html5lib\n",
        "!pip install -q --upgrade lxml\n",
        "!pip install -q --upgrade seaborn\n",
        "!pip install -q --upgrade gspread"
      ],
      "execution_count": 0,
      "outputs": []
    },
    {
      "metadata": {
        "id": "eEgj2trEkoGh",
        "colab_type": "code",
        "colab": {}
      },
      "cell_type": "code",
      "source": [
        "# utilities\n",
        "import datetime\n",
        "import re\n",
        "import csv\n",
        "from IPython.display import display\n",
        "\n",
        "# web scraping\n",
        "import requests\n",
        "import urllib.parse\n",
        "from bs4 import BeautifulSoup as bs\n",
        "import pandas_datareader as pdr\n",
        "import FinanceDataReader as fdr\n",
        "\n",
        "# Math/Stat\n",
        "import numpy as np\n",
        "import pandas as pd\n",
        "from pandas.plotting import scatter_matrix\n",
        "#import math\n",
        "\n",
        "# Machine Learning\n",
        "#from keras.models import Sequential\n",
        "#from keras.layers import Dense\n",
        "#from keras.layers import LSTM\n",
        "\n",
        "# visualization\n",
        "import seaborn as sns\n",
        "sns.set_style('whitegrid')\n",
        "import matplotlib.pyplot as plt\n",
        "%matplotlib inline"
      ],
      "execution_count": 0,
      "outputs": []
    },
    {
      "metadata": {
        "id": "9B8M9wlWUa4f",
        "colab_type": "code",
        "outputId": "da4964ca-c604-4373-8e3d-f276141afd00",
        "colab": {
          "base_uri": "https://localhost:8080/",
          "height": 34
        }
      },
      "cell_type": "code",
      "source": [
        "if ON_COLAB :\n",
        "  from google.colab import drive\n",
        "  drive.mount('/gdrive')\n",
        "  DATA_PATH = '/gdrive/My Drive/sandbox/'"
      ],
      "execution_count": 28,
      "outputs": [
        {
          "output_type": "stream",
          "text": [
            "Drive already mounted at /gdrive; to attempt to forcibly remount, call drive.mount(\"/gdrive\", force_remount=True).\n"
          ],
          "name": "stdout"
        }
      ]
    },
    {
      "metadata": {
        "id": "0XlWPVuRnw-5",
        "colab_type": "code",
        "colab": {}
      },
      "cell_type": "code",
      "source": [
        "pattern = re.compile(r'(Jan|Feb|Mar|Apr|May|Jun|Jul|Aug|Sep|Oct|Nov|Dec)\\s(\\d\\d),\\s(\\d{4})')\n",
        "# Example: By Julianne Geiger - Dec 14, 2018, 8:00 PM CST"
      ],
      "execution_count": 0,
      "outputs": []
    },
    {
      "metadata": {
        "id": "8sNEbxAs_Sa3",
        "colab_type": "code",
        "colab": {}
      },
      "cell_type": "code",
      "source": [
        "def get_news_urls_by_page(page_num):\n",
        "  try:\n",
        "    get_news_urls_by_page.counter += 1\n",
        "  except:\n",
        "    get_news_urls_by_page.counter = 0\n",
        "    \n",
        "  page_url = 'https://oilprice.com/Latest-Energy-News/World-News/Page-' + str(page_num) + '.html'\n",
        "  # https://oilprice.com/Latest-Energy-News/World-News/Page-865.html\n",
        "\n",
        "  try:\n",
        "    r = requests.get(page_url)\n",
        "    if get_news_urls_by_page.counter % 10 == 0:\n",
        "      print('Request(GET) >> OK: ' + page_url)\n",
        "  except:\n",
        "    print('Request(GET) >> Failed: ' + page_url)\n",
        "    return None\n",
        "\n",
        "  soup = bs(r.text)\n",
        "  items = soup.find_all('div', {'class':'categoryArticle__content'})\n",
        "\n",
        "  if not items:\n",
        "    print('Request(GET) >> Empty Page: ' + page_url)\n",
        "    return None\n",
        "  \n",
        "  return [item.find('a', href = True)['href'] for item in items]"
      ],
      "execution_count": 0,
      "outputs": []
    },
    {
      "metadata": {
        "id": "d-hpExqkcX-e",
        "colab_type": "code",
        "colab": {}
      },
      "cell_type": "code",
      "source": [
        "def get_news_content(url):\n",
        "  try:\n",
        "    get_news_content.counter += 1\n",
        "  except:\n",
        "    get_news_content.counter = 0\n",
        "  \n",
        "  try:\n",
        "    r = requests.get(url)\n",
        "    if get_news_content.counter % 100 == 0:\n",
        "      print('[' + str(get_news_content.counter) + '] Request(GET) >> OK: ' + url)\n",
        "  except:\n",
        "    print('[' + str(get_news_content.counter) + '] Request(GET) >> Failed: ' + url)\n",
        "    return None\n",
        "\n",
        "  soup = bs(r.text)\n",
        "\n",
        "  title = soup.find('h1').text\n",
        "\n",
        "  date = soup.find('span', {'class':'article_byline'}).text\n",
        "\n",
        "  match = re.search(pattern, date)\n",
        "  mmm, dd, yyyy = match.groups(0)\n",
        "  date = yyyy + \"-\" + mmm + \"-\" + dd\n",
        "\n",
        "  raw_content = soup.find('div', {'id':'news-content'}).find_all('p')\n",
        "  content = ' '.join([p.text.strip() for p in raw_content])\n",
        "  \n",
        "  author = soup.find('p', {'class':'authorBox__authorName'}).text\n",
        "  \n",
        "  return date, title, content, author"
      ],
      "execution_count": 0,
      "outputs": []
    },
    {
      "metadata": {
        "id": "7w8fY3imAXa3",
        "colab_type": "code",
        "outputId": "8bf0c632-ab87-4269-f3de-28d23738c909",
        "colab": {
          "base_uri": "https://localhost:8080/",
          "height": 34
        }
      },
      "cell_type": "code",
      "source": [
        "news_urls =[]\n",
        "\n",
        "for i in range(1, 3):\n",
        "  urls = get_news_urls_by_page(i)\n",
        "  if not urls:\n",
        "    break\n",
        "    \n",
        "  news_urls += urls"
      ],
      "execution_count": 33,
      "outputs": [
        {
          "output_type": "stream",
          "text": [
            "Request(GET) >> OK: https://oilprice.com/Latest-Energy-News/World-News/Page-1.html\n"
          ],
          "name": "stdout"
        }
      ]
    },
    {
      "metadata": {
        "id": "2rKUCb0Ohmxb",
        "colab_type": "code",
        "outputId": "96f7e937-f128-4c64-c12d-a2592aa7495c",
        "colab": {
          "base_uri": "https://localhost:8080/",
          "height": 51
        }
      },
      "cell_type": "code",
      "source": [
        "print(len(news_urls))\n",
        "print(news_urls[-1])"
      ],
      "execution_count": 34,
      "outputs": [
        {
          "output_type": "stream",
          "text": [
            "20\n",
            "https://oilprice.com/Latest-Energy-News/World-News/Climate-Passport-For-People-Driven-Away-By-Global-Warming-Proposed.html\n"
          ],
          "name": "stdout"
        }
      ]
    },
    {
      "metadata": {
        "id": "PoFQEETwmrrv",
        "colab_type": "code",
        "colab": {}
      },
      "cell_type": "code",
      "source": [
        "with open(DATA_PATH + 'oilprice.com_news_urls.csv', 'w') as f:\n",
        "  fw = csv.writer(f)\n",
        "  fw.writerows([[url] for url in news_urls])"
      ],
      "execution_count": 0,
      "outputs": []
    },
    {
      "metadata": {
        "id": "Kbw_aOTUgU_O",
        "colab_type": "code",
        "outputId": "050d7cc6-d81d-49a5-cb23-59a00d105d1b",
        "colab": {
          "base_uri": "https://localhost:8080/",
          "height": 34
        }
      },
      "cell_type": "code",
      "source": [
        "news = [get_news_content(url) + (url.split('/')[-1],) for url in news_urls]"
      ],
      "execution_count": 36,
      "outputs": [
        {
          "output_type": "stream",
          "text": [
            "[0] Request(GET) >> OK: https://oilprice.com/Latest-Energy-News/World-News/Shell-in-Talks-To-Buy-Endeavor-Energy.html\n"
          ],
          "name": "stdout"
        }
      ]
    },
    {
      "metadata": {
        "id": "ixPGApCdhVC-",
        "colab_type": "code",
        "outputId": "16511058-dca2-4428-d531-32de38e763bb",
        "colab": {
          "base_uri": "https://localhost:8080/",
          "height": 394
        }
      },
      "cell_type": "code",
      "source": [
        "print(len(news))\n",
        "display(news[-5:-1])"
      ],
      "execution_count": 37,
      "outputs": [
        {
          "output_type": "stream",
          "text": [
            "20\n"
          ],
          "name": "stdout"
        },
        {
          "output_type": "display_data",
          "data": {
            "text/plain": [
              "[('2018-Dec-13',\n",
              "  'Tariffs Hit U.S. Solar Market In Q3, But Plans Show Strong Rebound',\n",
              "  'The U.S. tariffs on imported solar cells and modules created uncertainty in the market earlier this year, resulting in quarterly additions of utility-scale solar dropping in Q3 below 1 gigawatt for the first time since 2015, yet the project pipeline points to a strong rebound in Q4, a new report by Wood Mackenzie Power & Renewables and the Solar Energy Industries Association (SEIA) showed on Thursday. The tariffs, enacted in early February, created uncertainty in the market in the latter half of 2017 and in early 2018, pushing back projects until operators had a clearer view about the implementation of the tariffs and their impact on project economics, according to the Q3 U.S. Solar Market Insight Report. While utility-scale solar installations dipped in the third quarter, the residential solar market continued to stabilize this year after a weak 2017. The overall U.S. market installed 1.7 GW of solar PV in the third quarter, down by 15 percent on the year and down 20 percent sequentially. However, a strong project pipeline lies ahead, according to the report. “Developers originally planning to bring projects online in Q3 2018 were forced to push out completion dates to Q4 2018 or Q1 2019 due to uncertainty around tariffs,” Colin Smith, Senior Analyst at Wood Mackenzie, said. “We did, however, see utility PV procurement outpace installations fourfold in Q3, showing that despite the tariffs causing project delays, there is substantial growth ahead for the U.S. utility PV sector,” Smith noted.Related:\\xa0Chevron Bets Big On Supergiant Oil Field Wood Mackenzie sees 3.5 GW of utility PV installed in the U.S. in Q4, which would make it the biggest quarter for utility PV installations since Q4 2016. For full-2018, the analysts see virtually flat growth in installations compared to 2017. By 2023, however, total U.S. installed PV capacity is expected to more than double. “If not for the tariffs, the U.S. solar market would undoubtedly look better today than it does now,” said Abigail Ross Hopper, SEIA’s president and CEO. “However, as this report shows, this is a resilient industry that cannot be kept down for long. With smart policies in place, the potential for the solar industry is hard to overstate.” By Tsvetana Paraskova for Oilprice.com More Top Reads From Oilprice.com:',\n",
              "  'Tsvetana Paraskova',\n",
              "  'Tariffs-Hit-US-Solar-Market-In-Q3-But-Plans-Show-Strong-Rebound.html'),\n",
              " ('2018-Dec-13',\n",
              "  'Minnesota Rejects Opponents’ Petitions To Stop Line 3',\n",
              "  'Minnesota’s Public Utilities Commission voted unanimously on Thursday to reject petitions by environmental and indigenous groups to review its decision to grant a certificate of need for the Line 3 oil pipeline replacement project. The ‘Stop Line 3’ campaign will now move to challenge the project in courts. Environmental and tribal groups oppose the Line 3 replacement project, saying that the route passes near water resources and the pipeline carries tar sands, while Enbridge says that the pipeline is old and needs to be replaced. The Line 3 Replacement Program is planned to fully replace 1,031 miles of Line 3 with new pipeline and associated facilities on either side of the Canada-U.S. international border. The U.S. portion of the program is from Neche, North Dakota, through Minnesota, to Superior, Wisconsin. The pipeline project envisages higher capacity and changes in routing in some parts, prompting opponents of the plan to argue that the replacement project is more like a new pipeline plan. At the end of the second quarter of 2018, the Minnesota Public Utilities Commission approved the proposed replacement of Enbridge’s Line 3 pipeline despite the vocal environmentalist opposition. Enbridge expects to receive permits from the U.S. Army Corps of Engineers, state agencies, and local governments in Minnesota in time to begin construction in the first quarter of 2019, and continues to anticipate an in-service date for the project in the second half of 2019, the company said in August. Earlier this week, Enbridge said in its updated strategic outlook that the completion of the Line 3 replacement project will create 370,000 bpd of capacity late in 2019. This capacity is the earliest possible pipeline takeaway capacity for Canada’s oil industry, which has been suffering severe discounts of Canadian heavy oil due to bottlenecks. Earlier this month, Alberta moved to enact an 8.7-percent crude oil production cut to clear excess stockpiles as pipeline constraints plunged the selling price of Western Canadian grades to deep discounts against WTI. By Tsvetana Paraskova for Oilprice.com More Top Reads From Oilprice.com:',\n",
              "  'Tsvetana Paraskova',\n",
              "  'Minnesota-Rejects-Opponents-Petitions-To-Stop-Line-3.html'),\n",
              " ('2018-Dec-13',\n",
              "  'Is This Cyber Attack An Indirect Hit At Saudi Aramco?',\n",
              "  'Italy’s oil services group Saipem has said that the cyber attack that hit its servers in the Middle East earlier this week is a variant of the notorious Shamoon malware that was used in a crippling attack on Saudi Aramco in 2012, which raises questions over whether the attack on Saipem was an indirect cyber breach targeting the Saudi oil giant—Saipem’s biggest customer. “The cyber attack hit servers based in the Middle East, India, Aberdeen and, in a limited way, Italy through a variant of Shamoon malware,” Saipem said in a statement on Wednesday. On Monday, when Saipem first reported that it had suffered a cyber attack, Saipem’s head of digital and innovation, Mauro Piasere, told Reuters that Saipem’s servers in Saudi Arabia, the United Arab Emirates (UAE), and Kuwait had been attacked and the attack originated in Chennai, India. On Wednesday, Piasere told Reuters that Saipem didn’t know who was responsible for the cyber attack. Adam Meyers, vice president at U.S. cybersecurity firm CrowdStrike, told Reuters, however, that he believed Iran was responsible for the attack because early technical scrutiny showed that the new Shamoon malware variant had similarities to the 2012 attack, which security experts widely believe was perpetrated by people working for the Iranian government. Just as news broke about Saipem’s servers in the Middle East being targeted, reports emerged that a variant of the Shamoon malware is back, Axios\\xa0reported this week, citing a release from the cybersecurity unit of Alphabet, Chronicle. According to the Chronicle release, the company had detected a file infected with Shamoon in its database VirusTotal. The malware, Chronicle said, was uploaded from Italy and is different from the previous two variants. Those moved through networks via pre-programmed credentials while this one stays on the computer it is installed on first. There is no command and control infrastructure that would allow the attackers to communicate with the virus, and what the virus does this time is encrypt all files irreversibly rather than replacing them with politically significant images, Axios reports. By Tsvetana Paraskova for Oilprice.com More Top Reads From Oilprice.com:',\n",
              "  'Tsvetana Paraskova',\n",
              "  'Is-This-Cyber-Attack-An-Indirect-Hit-At-Saudi-Aramco.html'),\n",
              " ('2018-Dec-13',\n",
              "  'Iran Loses Market Share In India As Its Oil Exports Slump In November',\n",
              "  'India’s oil imports from Iran dropped to a one-year-low in November, plunging by 41 percent from October due to the U.S. sanctions, Reuters reported on Thursday, citing industry sources and ship-tracking data.  Iran also dropped to sixth place on India’s largest oil suppliers list, from fourth in October, losing market share to fellow OPEC members Saudi Arabia, Iraq, the United Arab Emirates (UAE).  In November, the month on which the U.S. sanctions snapped back, India’s oil imports from Iran averaged 276,000 bpd, a 41-percent plunge from October, as India had cut back significantly allocations for November amid uncertainties over who might be getting a U.S. waiver to continue importing oil from Iran.  India did get a waiver, alongside seven other Iranian oil customers, including the single biggest, China. The waivers allow those eight countries to continue Iranian oil imports at reduced volumes until early May next year. India’s allowed imports from Iran are about 300,000 bpd.  In November, Iran was only sixth among India’s top oil suppliers. Iraq and Saudi Arabia held the first two spots, while the UAE—sixth in October—moved up to third place, ousting Venezuela to fourth. Nigeria held onto its fifth position, but Iran moved from fourth in October to sixth in November, according to industry and ship-tracking data obtained by Reuters.  India’s oil imports from Iran before the U.S. sanctions returned were higher than last year’s low base for comparison, when India had cut back Iranian oil purchases over a dispute with Tehran that had snubbed Indian companies in developing a gas field in Iran. In April to November this year, India’s oil imports from Iran averaged 563,000 bpd, up by 32 percent compared to the same period last year, according to the data from industry sources reviewed by Reuters.  In its imports of Iranian oil going forward, until the waivers last, India will have to rely on Iranian ships for the oil transportation because its own shipping firms and international companies are not risking crossing the U.S. by carrying Iranian oil, and wound down Iranian crude shipment operations well in advance of the sanctions. By Tsvetana Paraskova for Oilprice.com More Top Reads From Oilprice.com:',\n",
              "  'Tsvetana Paraskova',\n",
              "  'Iran-Loses-Market-Share-In-India-As-Its-Oil-Exports-Slump-In-November.html')]"
            ]
          },
          "metadata": {
            "tags": []
          }
        }
      ]
    },
    {
      "metadata": {
        "id": "mo-mX91hIsvH",
        "colab_type": "code",
        "colab": {}
      },
      "cell_type": "code",
      "source": [
        "with open(DATA_PATH + 'oilprice.com_news.csv', 'w') as f:\n",
        "  fw = csv.writer(f)\n",
        "  fw.writerows(news)"
      ],
      "execution_count": 0,
      "outputs": []
    },
    {
      "metadata": {
        "id": "RarVGaxDMFX8",
        "colab_type": "code",
        "colab": {}
      },
      "cell_type": "code",
      "source": [
        ""
      ],
      "execution_count": 0,
      "outputs": []
    }
  ]
}
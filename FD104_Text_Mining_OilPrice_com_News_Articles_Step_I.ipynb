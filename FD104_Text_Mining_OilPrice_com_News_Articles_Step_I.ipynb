{
  "nbformat": 4,
  "nbformat_minor": 0,
  "metadata": {
    "colab": {
      "name": "FD104 Text-Mining OilPrice.com News Articles - Step I.ipynb",
      "version": "0.3.2",
      "provenance": [],
      "include_colab_link": true
    },
    "kernelspec": {
      "name": "python3",
      "display_name": "Python 3"
    },
    "accelerator": "GPU"
  },
  "cells": [
    {
      "cell_type": "markdown",
      "metadata": {
        "id": "view-in-github",
        "colab_type": "text"
      },
      "source": [
        "<a href=\"https://colab.research.google.com/github/amun83/Koscom-Financial-Data-Bootcamp/blob/master/FD104_Text_Mining_OilPrice_com_News_Articles_Step_I.ipynb\" target=\"_parent\"><img src=\"https://colab.research.google.com/assets/colab-badge.svg\" alt=\"Open In Colab\"/></a>"
      ]
    },
    {
      "metadata": {
        "id": "M0raKhKgmvHT",
        "colab_type": "text"
      },
      "cell_type": "markdown",
      "source": [
        "# I. News Article Scraping: https://oilprice.com/"
      ]
    },
    {
      "metadata": {
        "id": "A9JvBTq26riQ",
        "colab_type": "code",
        "colab": {}
      },
      "cell_type": "code",
      "source": [
        "ON_COLAB  = True\n",
        "DATA_PATH = ''"
      ],
      "execution_count": 0,
      "outputs": []
    },
    {
      "metadata": {
        "id": "Z3u8bzSb6DPR",
        "colab_type": "code",
        "colab": {}
      },
      "cell_type": "code",
      "source": [
        "!pip install -q --upgrade pandas_datareader\n",
        "!pip install -q --upgrade finance-datareader\n",
        "!pip install -q --upgrade html5lib\n",
        "!pip install -q --upgrade lxml\n",
        "!pip install -q --upgrade seaborn\n",
        "!pip install -q --upgrade gspread"
      ],
      "execution_count": 0,
      "outputs": []
    },
    {
      "metadata": {
        "id": "eEgj2trEkoGh",
        "colab_type": "code",
        "colab": {}
      },
      "cell_type": "code",
      "source": [
        "# utilities\n",
        "import datetime\n",
        "import re\n",
        "import csv\n",
        "from IPython.display import display\n",
        "\n",
        "# web scraping\n",
        "import requests\n",
        "import urllib.parse\n",
        "from bs4 import BeautifulSoup as bs\n",
        "import pandas_datareader as pdr\n",
        "import FinanceDataReader as fdr\n",
        "\n",
        "# Math/Stat\n",
        "import numpy as np\n",
        "import pandas as pd\n",
        "from pandas.plotting import scatter_matrix\n",
        "#import math\n",
        "\n",
        "# Machine Learning\n",
        "#from keras.models import Sequential\n",
        "#from keras.layers import Dense\n",
        "#from keras.layers import LSTM\n",
        "\n",
        "# visualization\n",
        "import seaborn as sns\n",
        "sns.set_style('whitegrid')\n",
        "import matplotlib.pyplot as plt\n",
        "%matplotlib inline"
      ],
      "execution_count": 0,
      "outputs": []
    },
    {
      "metadata": {
        "id": "9B8M9wlWUa4f",
        "colab_type": "code",
        "outputId": "0c1e1fda-fb84-4691-cd87-5794c5978d41",
        "colab": {
          "base_uri": "https://localhost:8080/",
          "height": 34
        }
      },
      "cell_type": "code",
      "source": [
        "if ON_COLAB :\n",
        "  from google.colab import drive\n",
        "  drive.mount('/gdrive')\n",
        "  DATA_PATH = '/gdrive/My Drive/crawling/'"
      ],
      "execution_count": 24,
      "outputs": [
        {
          "output_type": "stream",
          "text": [
            "Drive already mounted at /gdrive; to attempt to forcibly remount, call drive.mount(\"/gdrive\", force_remount=True).\n"
          ],
          "name": "stdout"
        }
      ]
    },
    {
      "metadata": {
        "id": "0XlWPVuRnw-5",
        "colab_type": "code",
        "colab": {}
      },
      "cell_type": "code",
      "source": [
        "pattern = re.compile(r'(Jan|Feb|Mar|Apr|May|Jun|Jul|Aug|Sep|Oct|Nov|Dec)\\s(\\d\\d),\\s(\\d{4})')\n",
        "# Example: By Julianne Geiger - Dec 14, 2018, 8:00 PM CST"
      ],
      "execution_count": 0,
      "outputs": []
    },
    {
      "metadata": {
        "id": "bAZoFC4uehbQ",
        "colab_type": "text"
      },
      "cell_type": "markdown",
      "source": [
        "## 함수: 페이지의 News URL 가져오기\n",
        " * https://oilprice.com/Latest-Energy-News/World-News"
      ]
    },
    {
      "metadata": {
        "id": "8sNEbxAs_Sa3",
        "colab_type": "code",
        "colab": {}
      },
      "cell_type": "code",
      "source": [
        "def get_news_urls_by_page(page_num):\n",
        "  try:\n",
        "    get_news_urls_by_page.counter += 1\n",
        "  except:\n",
        "    get_news_urls_by_page.counter = 0\n",
        "    \n",
        "  page_url = 'https://oilprice.com/Latest-Energy-News/World-News/Page-' + str(page_num) + '.html'\n",
        "  # https://oilprice.com/Latest-Energy-News/World-News/Page-865.html\n",
        "\n",
        "  try:\n",
        "    r = requests.get(page_url)\n",
        "    if get_news_urls_by_page.counter % 10 == 0:\n",
        "      print('Request(GET) >> OK: ' + page_url)\n",
        "  except:\n",
        "    print('Request(GET) >> Failed: ' + page_url)\n",
        "    return None\n",
        "\n",
        "  soup = bs(r.text)\n",
        "  items = soup.find_all('div', {'class':'categoryArticle__content'})\n",
        "\n",
        "  if not items:\n",
        "    print('Request(GET) >> Empty Page: ' + page_url)\n",
        "    return None\n",
        "  \n",
        "  return [item.find('a', href = True)['href'] for item in items]"
      ],
      "execution_count": 0,
      "outputs": []
    },
    {
      "metadata": {
        "id": "KKQwnswSe4Lx",
        "colab_type": "text"
      },
      "cell_type": "markdown",
      "source": [
        "## 함수: News 내용 가져오기 (작성일, 제목, 내용, 작성자)\n",
        " * https://oilprice.com/Latest-Energy-News/World-News/Surprise-Inventory-Build-Sends-Oil-Prices-Even-Lower.html"
      ]
    },
    {
      "metadata": {
        "id": "d-hpExqkcX-e",
        "colab_type": "code",
        "colab": {}
      },
      "cell_type": "code",
      "source": [
        "def get_news_content(url):\n",
        "  try:\n",
        "    get_news_content.counter += 1\n",
        "  except:\n",
        "    get_news_content.counter = 0\n",
        "  \n",
        "  try:\n",
        "    r = requests.get(url)\n",
        "    if get_news_content.counter % 100 == 0:\n",
        "      print('[' + str(get_news_content.counter) + '] Request(GET) >> OK: ' + url)\n",
        "  except:\n",
        "    print('[' + str(get_news_content.counter) + '] Request(GET) >> Failed: ' + url)\n",
        "    return None\n",
        "\n",
        "  soup = bs(r.text)\n",
        "\n",
        "  title = soup.find('h1').text.strip()\n",
        "\n",
        "  date = soup.find('span', {'class':'article_byline'}).text\n",
        "\n",
        "  match = re.search(pattern, date)\n",
        "  mmm, dd, yyyy = match.groups(0)\n",
        "  date = yyyy + \"-\" + mmm + \"-\" + dd\n",
        "\n",
        "  raw_content = soup.find('div', {'id':'news-content'}).find_all('p')\n",
        "  content = ' '.join([p.text.strip() for p in raw_content])\n",
        "  \n",
        "  try:\n",
        "    author = soup.find('p', {'class':'authorBox__authorName'}).text.strip()\n",
        "  except:\n",
        "    author = ''\n",
        "  \n",
        "  return date, title, content, author"
      ],
      "execution_count": 0,
      "outputs": []
    },
    {
      "metadata": {
        "id": "d__cOOcNfKAi",
        "colab_type": "text"
      },
      "cell_type": "markdown",
      "source": [
        "## 페이지별 News URL 긁어오기"
      ]
    },
    {
      "metadata": {
        "id": "7w8fY3imAXa3",
        "colab_type": "code",
        "outputId": "a8811e90-aaa7-4f6d-ebe7-c0383683c662",
        "colab": {
          "base_uri": "https://localhost:8080/",
          "height": 1513
        }
      },
      "cell_type": "code",
      "source": [
        "news_urls =[]\n",
        "\n",
        "for i in range(1, 1000):\n",
        "  urls = get_news_urls_by_page(i)\n",
        "  if not urls:\n",
        "    break\n",
        "    \n",
        "  news_urls += urls"
      ],
      "execution_count": 28,
      "outputs": [
        {
          "output_type": "stream",
          "text": [
            "Request(GET) >> OK: https://oilprice.com/Latest-Energy-News/World-News/Page-1.html\n",
            "Request(GET) >> OK: https://oilprice.com/Latest-Energy-News/World-News/Page-11.html\n",
            "Request(GET) >> OK: https://oilprice.com/Latest-Energy-News/World-News/Page-21.html\n",
            "Request(GET) >> OK: https://oilprice.com/Latest-Energy-News/World-News/Page-31.html\n",
            "Request(GET) >> OK: https://oilprice.com/Latest-Energy-News/World-News/Page-41.html\n",
            "Request(GET) >> OK: https://oilprice.com/Latest-Energy-News/World-News/Page-51.html\n",
            "Request(GET) >> OK: https://oilprice.com/Latest-Energy-News/World-News/Page-61.html\n",
            "Request(GET) >> OK: https://oilprice.com/Latest-Energy-News/World-News/Page-71.html\n",
            "Request(GET) >> OK: https://oilprice.com/Latest-Energy-News/World-News/Page-81.html\n",
            "Request(GET) >> OK: https://oilprice.com/Latest-Energy-News/World-News/Page-91.html\n",
            "Request(GET) >> OK: https://oilprice.com/Latest-Energy-News/World-News/Page-101.html\n",
            "Request(GET) >> OK: https://oilprice.com/Latest-Energy-News/World-News/Page-111.html\n",
            "Request(GET) >> OK: https://oilprice.com/Latest-Energy-News/World-News/Page-121.html\n",
            "Request(GET) >> OK: https://oilprice.com/Latest-Energy-News/World-News/Page-131.html\n",
            "Request(GET) >> OK: https://oilprice.com/Latest-Energy-News/World-News/Page-141.html\n",
            "Request(GET) >> OK: https://oilprice.com/Latest-Energy-News/World-News/Page-151.html\n",
            "Request(GET) >> OK: https://oilprice.com/Latest-Energy-News/World-News/Page-161.html\n",
            "Request(GET) >> OK: https://oilprice.com/Latest-Energy-News/World-News/Page-171.html\n",
            "Request(GET) >> OK: https://oilprice.com/Latest-Energy-News/World-News/Page-181.html\n",
            "Request(GET) >> OK: https://oilprice.com/Latest-Energy-News/World-News/Page-191.html\n",
            "Request(GET) >> OK: https://oilprice.com/Latest-Energy-News/World-News/Page-201.html\n",
            "Request(GET) >> OK: https://oilprice.com/Latest-Energy-News/World-News/Page-211.html\n",
            "Request(GET) >> OK: https://oilprice.com/Latest-Energy-News/World-News/Page-221.html\n",
            "Request(GET) >> OK: https://oilprice.com/Latest-Energy-News/World-News/Page-231.html\n",
            "Request(GET) >> OK: https://oilprice.com/Latest-Energy-News/World-News/Page-241.html\n",
            "Request(GET) >> OK: https://oilprice.com/Latest-Energy-News/World-News/Page-251.html\n",
            "Request(GET) >> OK: https://oilprice.com/Latest-Energy-News/World-News/Page-261.html\n",
            "Request(GET) >> OK: https://oilprice.com/Latest-Energy-News/World-News/Page-271.html\n",
            "Request(GET) >> OK: https://oilprice.com/Latest-Energy-News/World-News/Page-281.html\n",
            "Request(GET) >> OK: https://oilprice.com/Latest-Energy-News/World-News/Page-291.html\n",
            "Request(GET) >> OK: https://oilprice.com/Latest-Energy-News/World-News/Page-301.html\n",
            "Request(GET) >> OK: https://oilprice.com/Latest-Energy-News/World-News/Page-311.html\n",
            "Request(GET) >> OK: https://oilprice.com/Latest-Energy-News/World-News/Page-321.html\n",
            "Request(GET) >> OK: https://oilprice.com/Latest-Energy-News/World-News/Page-331.html\n",
            "Request(GET) >> OK: https://oilprice.com/Latest-Energy-News/World-News/Page-341.html\n",
            "Request(GET) >> OK: https://oilprice.com/Latest-Energy-News/World-News/Page-351.html\n",
            "Request(GET) >> OK: https://oilprice.com/Latest-Energy-News/World-News/Page-361.html\n",
            "Request(GET) >> OK: https://oilprice.com/Latest-Energy-News/World-News/Page-371.html\n",
            "Request(GET) >> OK: https://oilprice.com/Latest-Energy-News/World-News/Page-381.html\n",
            "Request(GET) >> OK: https://oilprice.com/Latest-Energy-News/World-News/Page-391.html\n",
            "Request(GET) >> OK: https://oilprice.com/Latest-Energy-News/World-News/Page-401.html\n",
            "Request(GET) >> OK: https://oilprice.com/Latest-Energy-News/World-News/Page-411.html\n",
            "Request(GET) >> OK: https://oilprice.com/Latest-Energy-News/World-News/Page-421.html\n",
            "Request(GET) >> OK: https://oilprice.com/Latest-Energy-News/World-News/Page-431.html\n",
            "Request(GET) >> OK: https://oilprice.com/Latest-Energy-News/World-News/Page-441.html\n",
            "Request(GET) >> OK: https://oilprice.com/Latest-Energy-News/World-News/Page-451.html\n",
            "Request(GET) >> OK: https://oilprice.com/Latest-Energy-News/World-News/Page-461.html\n",
            "Request(GET) >> OK: https://oilprice.com/Latest-Energy-News/World-News/Page-471.html\n",
            "Request(GET) >> OK: https://oilprice.com/Latest-Energy-News/World-News/Page-481.html\n",
            "Request(GET) >> OK: https://oilprice.com/Latest-Energy-News/World-News/Page-491.html\n",
            "Request(GET) >> OK: https://oilprice.com/Latest-Energy-News/World-News/Page-501.html\n",
            "Request(GET) >> OK: https://oilprice.com/Latest-Energy-News/World-News/Page-511.html\n",
            "Request(GET) >> OK: https://oilprice.com/Latest-Energy-News/World-News/Page-521.html\n",
            "Request(GET) >> OK: https://oilprice.com/Latest-Energy-News/World-News/Page-531.html\n",
            "Request(GET) >> OK: https://oilprice.com/Latest-Energy-News/World-News/Page-541.html\n",
            "Request(GET) >> OK: https://oilprice.com/Latest-Energy-News/World-News/Page-551.html\n",
            "Request(GET) >> OK: https://oilprice.com/Latest-Energy-News/World-News/Page-561.html\n",
            "Request(GET) >> OK: https://oilprice.com/Latest-Energy-News/World-News/Page-571.html\n",
            "Request(GET) >> OK: https://oilprice.com/Latest-Energy-News/World-News/Page-581.html\n",
            "Request(GET) >> OK: https://oilprice.com/Latest-Energy-News/World-News/Page-591.html\n",
            "Request(GET) >> OK: https://oilprice.com/Latest-Energy-News/World-News/Page-601.html\n",
            "Request(GET) >> OK: https://oilprice.com/Latest-Energy-News/World-News/Page-611.html\n",
            "Request(GET) >> OK: https://oilprice.com/Latest-Energy-News/World-News/Page-621.html\n",
            "Request(GET) >> OK: https://oilprice.com/Latest-Energy-News/World-News/Page-631.html\n",
            "Request(GET) >> OK: https://oilprice.com/Latest-Energy-News/World-News/Page-641.html\n",
            "Request(GET) >> OK: https://oilprice.com/Latest-Energy-News/World-News/Page-651.html\n",
            "Request(GET) >> OK: https://oilprice.com/Latest-Energy-News/World-News/Page-661.html\n",
            "Request(GET) >> OK: https://oilprice.com/Latest-Energy-News/World-News/Page-671.html\n",
            "Request(GET) >> OK: https://oilprice.com/Latest-Energy-News/World-News/Page-681.html\n",
            "Request(GET) >> OK: https://oilprice.com/Latest-Energy-News/World-News/Page-691.html\n",
            "Request(GET) >> OK: https://oilprice.com/Latest-Energy-News/World-News/Page-701.html\n",
            "Request(GET) >> OK: https://oilprice.com/Latest-Energy-News/World-News/Page-711.html\n",
            "Request(GET) >> OK: https://oilprice.com/Latest-Energy-News/World-News/Page-721.html\n",
            "Request(GET) >> OK: https://oilprice.com/Latest-Energy-News/World-News/Page-731.html\n",
            "Request(GET) >> OK: https://oilprice.com/Latest-Energy-News/World-News/Page-741.html\n",
            "Request(GET) >> OK: https://oilprice.com/Latest-Energy-News/World-News/Page-751.html\n",
            "Request(GET) >> OK: https://oilprice.com/Latest-Energy-News/World-News/Page-761.html\n",
            "Request(GET) >> OK: https://oilprice.com/Latest-Energy-News/World-News/Page-771.html\n",
            "Request(GET) >> OK: https://oilprice.com/Latest-Energy-News/World-News/Page-781.html\n",
            "Request(GET) >> OK: https://oilprice.com/Latest-Energy-News/World-News/Page-791.html\n",
            "Request(GET) >> OK: https://oilprice.com/Latest-Energy-News/World-News/Page-801.html\n",
            "Request(GET) >> OK: https://oilprice.com/Latest-Energy-News/World-News/Page-811.html\n",
            "Request(GET) >> OK: https://oilprice.com/Latest-Energy-News/World-News/Page-821.html\n",
            "Request(GET) >> OK: https://oilprice.com/Latest-Energy-News/World-News/Page-831.html\n",
            "Request(GET) >> OK: https://oilprice.com/Latest-Energy-News/World-News/Page-841.html\n",
            "Request(GET) >> OK: https://oilprice.com/Latest-Energy-News/World-News/Page-851.html\n",
            "Request(GET) >> OK: https://oilprice.com/Latest-Energy-News/World-News/Page-861.html\n",
            "Request(GET) >> Empty Page: https://oilprice.com/Latest-Energy-News/World-News/Page-867.html\n"
          ],
          "name": "stdout"
        }
      ]
    },
    {
      "metadata": {
        "id": "2rKUCb0Ohmxb",
        "colab_type": "code",
        "outputId": "b1f5ef9f-1913-43b5-a448-9e23aa1092df",
        "colab": {
          "base_uri": "https://localhost:8080/",
          "height": 51
        }
      },
      "cell_type": "code",
      "source": [
        "print(len(news_urls))\n",
        "print(news_urls[-1])"
      ],
      "execution_count": 29,
      "outputs": [
        {
          "output_type": "stream",
          "text": [
            "8659\n",
            "https://oilprice.com/Latest-Energy-News/World-News/Romania-Posts-2011-2035-National-Energy-Strategy-Online.html\n"
          ],
          "name": "stdout"
        }
      ]
    },
    {
      "metadata": {
        "id": "PoFQEETwmrrv",
        "colab_type": "code",
        "colab": {}
      },
      "cell_type": "code",
      "source": [
        "with open(DATA_PATH + 'oilprice.com_news_urls.csv', 'w') as f:\n",
        "  fw = csv.writer(f)\n",
        "  fw.writerows([[url] for url in news_urls])"
      ],
      "execution_count": 0,
      "outputs": []
    },
    {
      "metadata": {
        "id": "H16Zp5baYBUY",
        "colab_type": "code",
        "colab": {
          "base_uri": "https://localhost:8080/",
          "height": 34
        },
        "outputId": "5aeb2caf-70e9-442f-f7f4-ae69eeb57fde"
      },
      "cell_type": "code",
      "source": [
        "'''\n",
        "with open(DATA_PATH + 'oilprice.com_news_urls.csv', 'r') as f:\n",
        "  fr = csv.reader(f)\n",
        "  news_urls = [u for u in fr]\n",
        "  \n",
        "print(len(news_urls))\n",
        "print(news_urls[-1])\n",
        "'''"
      ],
      "execution_count": 31,
      "outputs": [
        {
          "output_type": "execute_result",
          "data": {
            "text/plain": [
              "\"\\nwith open(DATA_PATH + 'oilprice.com_news_urls.csv', 'r') as f:\\n  fr = csv.reader(f)\\n  news_urls = [u for u in fr]\\n  \\nprint(len(news_urls))\\nprint(news_urls[-1])\\n\""
            ]
          },
          "metadata": {
            "tags": []
          },
          "execution_count": 31
        }
      ]
    },
    {
      "metadata": {
        "id": "tPfKWFc8fyWY",
        "colab_type": "text"
      },
      "cell_type": "markdown",
      "source": [
        "## 수집한 URL에서 News 내용 긁어오기"
      ]
    },
    {
      "metadata": {
        "id": "Kbw_aOTUgU_O",
        "colab_type": "code",
        "outputId": "a31dd914-baa9-4c10-e9d8-2ec3ae574edf",
        "colab": {
          "base_uri": "https://localhost:8080/",
          "height": 1496
        }
      },
      "cell_type": "code",
      "source": [
        "news = [get_news_content(url) + (url.split('/')[-1],) for url in news_urls]\n",
        "# colums: date, title, content, author, url"
      ],
      "execution_count": 35,
      "outputs": [
        {
          "output_type": "stream",
          "text": [
            "[0] Request(GET) >> OK: https://oilprice.com/Latest-Energy-News/World-News/Surprise-Inventory-Build-Sends-Oil-Prices-Even-Lower.html\n",
            "[100] Request(GET) >> OK: https://oilprice.com/Latest-Energy-News/World-News/Alberta-Forced-To-Buy-Oil-Trains.html\n",
            "[200] Request(GET) >> OK: https://oilprice.com/Latest-Energy-News/World-News/Plains-All-American-Expands-Permian-Pipeline-Network.html\n",
            "[300] Request(GET) >> OK: https://oilprice.com/Latest-Energy-News/World-News/Europe-Fuel-Oil-Market-Rocked-As-US-Threatens-To-Slow-Sulfur-Cap-Rollout.html\n",
            "[400] Request(GET) >> OK: https://oilprice.com/Latest-Energy-News/World-News/Saudi-Aramco-Set-To-Boost-Oil-Capacity-By-550000-Bpd-In-Q4.html\n",
            "[500] Request(GET) >> OK: https://oilprice.com/Latest-Energy-News/World-News/Baked-Musk-Hints-At-New-Tesla-Smart-Home-Product.html\n",
            "[600] Request(GET) >> OK: https://oilprice.com/Latest-Energy-News/World-News/Chevron-Starts-Work-On-Iraq-Field-Development-Deal.html\n",
            "[700] Request(GET) >> OK: https://oilprice.com/Latest-Energy-News/World-News/India-Cuts-June-Oil-Purchases-From-Iran-On-US-Sanctions.html\n",
            "[800] Request(GET) >> OK: https://oilprice.com/Latest-Energy-News/World-News/Conoco-Begins-Layoffs-In-Scotland.html\n",
            "[900] Request(GET) >> OK: https://oilprice.com/Latest-Energy-News/World-News/ExxonMobil-Looks-To-Build-LNG-Import-Terminal-Off-Australias-East-Coast.html\n",
            "[1000] Request(GET) >> OK: https://oilprice.com/Latest-Energy-News/World-News/Terrorist-Attacks-Un-Libyas-Oil-Crescent-Raises-Security-Alert.html\n",
            "[1100] Request(GET) >> OK: https://oilprice.com/Latest-Energy-News/World-News/Trump-Scraps-Defective-Iran-Deal.html\n",
            "[1200] Request(GET) >> OK: https://oilprice.com/Latest-Energy-News/World-News/Tesla-Starts-24h-Shifts-In-Attempt-Ramp-Up-Model-3-Production.html\n",
            "[1300] Request(GET) >> OK: https://oilprice.com/Latest-Energy-News/World-News/Venezuela-Tries-To-Pay-Russian-Debt-With-Cryptocurrency.html\n",
            "[1400] Request(GET) >> OK: https://oilprice.com/Latest-Energy-News/World-News/Big-Corn-vs-Big-Oil-The-Battle-Over-Biofuel.html\n",
            "[1500] Request(GET) >> OK: https://oilprice.com/Latest-Energy-News/World-News/Tesla-Has-Been-Cryptojacked.html\n",
            "[1600] Request(GET) >> OK: https://oilprice.com/Latest-Energy-News/World-News/Shell-Set-To-Topple-Exxon-As-Big-Oils-Biggest-Cash-Generator.html\n",
            "[1700] Request(GET) >> OK: https://oilprice.com/Latest-Energy-News/World-News/Falling-Chinese-Oil-Imports-Weigh-On-Prices.html\n",
            "[1800] Request(GET) >> OK: https://oilprice.com/Latest-Energy-News/World-News/Rivals-Close-In-On-Tesla-After-A-Near-Miss-With-The-SEC.html\n",
            "[1900] Request(GET) >> OK: https://oilprice.com/Latest-Energy-News/World-News/US-Shale-Becomes-More-Flexible-Hedges-900000-Barrels.html\n",
            "[2000] Request(GET) >> OK: https://oilprice.com/Latest-Energy-News/World-News/UK-To-Provide-2B-Loan-Guarantee-To-Saudi-Aramco.html\n",
            "[2100] Request(GET) >> OK: https://oilprice.com/Latest-Energy-News/World-News/Canadia-Ltd-Returns-To-Sudan-For-First-Time-Since-Oil-Price-Crash.html\n",
            "[2200] Request(GET) >> OK: https://oilprice.com/Latest-Energy-News/World-News/Nat-Gas-Exports-Could-Add-73B-To-US-Economy.html\n",
            "[2300] Request(GET) >> OK: https://oilprice.com/Latest-Energy-News/World-News/China-Cracks-Down-Oil-Smuggling-Network.html\n",
            "[2400] Request(GET) >> OK: https://oilprice.com/Latest-Energy-News/World-News/China-To-Build-Methane-Hydrate-Venture-In-South-China-Sea.html\n",
            "[2500] Request(GET) >> OK: https://oilprice.com/Latest-Energy-News/World-News/Iranian-Firm-Signs-Oil-Gas-Deal-with-Russian-And-Turkish-Companies.html\n",
            "[2600] Request(GET) >> OK: https://oilprice.com/Latest-Energy-News/World-News/South-Korea-To-Ease-Oil-Terminal-Rules-In-Bid-To-Become-Trading-Hub.html\n",
            "[2700] Request(GET) >> OK: https://oilprice.com/Latest-Energy-News/World-News/Kenya-Delays-Much-Awaited-First-Oil-By-Three-Months.html\n",
            "[2800] Request(GET) >> OK: https://oilprice.com/Latest-Energy-News/World-News/Iran-Aims-To-Develop-Its-Largest-Oil-Field.html\n",
            "[2900] Request(GET) >> OK: https://oilprice.com/Latest-Energy-News/World-News/Iraqs-Oil-Minister-Kurdistan-Exports-Not-Part-Of-OPEC-Cut-Extension.html\n",
            "[3000] Request(GET) >> OK: https://oilprice.com/Latest-Energy-News/World-News/BP-Kosmos-Energy-Make-Major-Gas-Discovery-Offshore-Senegal.html\n",
            "[3100] Request(GET) >> OK: https://oilprice.com/Latest-Energy-News/World-News/Oil-Prices-Still-Too-Low-To-Allow-Angola-Balance-Its-Budget.html\n",
            "[3200] Request(GET) >> OK: https://oilprice.com/Latest-Energy-News/World-News/Trumps-Keystone-XL-Permit-To-Face-Legal-Challenge-From-Environmental-Groups.html\n",
            "[3300] Request(GET) >> OK: https://oilprice.com/Latest-Energy-News/World-News/Kenya-To-Start-Exporting-First-Crude-this-Summer.html\n",
            "[3400] Request(GET) >> OK: https://oilprice.com/Latest-Energy-News/World-News/Norwegian-Oil-Majors-Revise-2017-Oil-And-Gas-Investment-Forecast-Upwards.html\n",
            "[3500] Request(GET) >> OK: https://oilprice.com/Latest-Energy-News/World-News/Indian-Oil-Behemoth-Will-Hurt-Local-Competition.html\n",
            "[3600] Request(GET) >> OK: https://oilprice.com/Latest-Energy-News/World-News/Texas-Land-Leases-For-Oil-Exploration-Rise-Income-Falls.html\n",
            "[3700] Request(GET) >> OK: https://oilprice.com/Latest-Energy-News/World-News/Coal-Demand-Is-Shifting-To-Asia.html\n",
            "[3800] Request(GET) >> OK: https://oilprice.com/Latest-Energy-News/World-News/US-Gas-Pipeline-Export-Capacity-To-Mexico-To-Nearly-Double-By-2018.html\n",
            "[3900] Request(GET) >> OK: https://oilprice.com/Latest-Energy-News/World-News/China-May-End-Up-With-50-Bcm-Natural-Gas-Glut-By-2020.html\n",
            "[4000] Request(GET) >> OK: https://oilprice.com/Latest-Energy-News/World-News/Libya-Restarts-Waha-Oil-Field-Raises-Total-Output-To-580000-Bpd.html\n",
            "[4100] Request(GET) >> OK: https://oilprice.com/Latest-Energy-News/World-News/Nigerias-NatGas-Shortages-Increase-Coal-Demand.html\n",
            "[4200] Request(GET) >> OK: https://oilprice.com/Latest-Energy-News/World-News/Anadarko-Splashes-US2-Billion-On-Freeport-Oil-Assets.html\n",
            "[4300] Request(GET) >> OK: https://oilprice.com/Latest-Energy-News/World-News/Iraq-Recaptures-The-Oilfields-South-Of-Mosul-From-ISIS.html\n",
            "[4400] Request(GET) >> OK: https://oilprice.com/Latest-Energy-News/World-News/Apache-Falls-Short-of-Analyst-Expectations-with-244M-Loss.html\n",
            "[4500] Request(GET) >> OK: https://oilprice.com/Latest-Energy-News/World-News/CNPC-Evacuates-Oil-Personnel-from-South-Sudan.html\n",
            "[4600] Request(GET) >> OK: https://oilprice.com/Latest-Energy-News/World-News/AK-Governor-Moves-To-Cut-Oil-Checks-To-Residents.html\n",
            "[4700] Request(GET) >> OK: https://oilprice.com/Latest-Energy-News/World-News/TransCanada-Expands-Pipeline-Reach-In-Mexico-With-2B-Deal.html\n",
            "[4800] Request(GET) >> OK: https://oilprice.com/Latest-Energy-News/World-News/Despite-Oil-Slump-Chevron-to-Invest-37B-in-Giant-Kazakh-Oilfield.html\n",
            "[4900] Request(GET) >> OK: https://oilprice.com/Latest-Energy-News/World-News/Oil-Sands-Giants-Resume-Operations-As-Wildfires-Slowly-Abate.html\n",
            "[5000] Request(GET) >> OK: https://oilprice.com/Latest-Energy-News/World-News/Will-Iran-Manage-To-Construct-A-Floating-LNG-Facility.html\n",
            "[5100] Request(GET) >> OK: https://oilprice.com/Latest-Energy-News/World-News/Libyan-Fighter-Jet-Downed-by-Militants-Near-Benghazi.html\n",
            "[5200] Request(GET) >> OK: https://oilprice.com/Latest-Energy-News/World-News/Is-2015-The-Year-Of-Peak-Oil-Production.html\n",
            "[5300] Request(GET) >> OK: https://oilprice.com/Latest-Energy-News/World-News/Ten-Key-Market-Indicators-This-Week.html\n",
            "[5400] Request(GET) >> OK: https://oilprice.com/Latest-Energy-News/World-News/Oil-Markets-Show-Weak-Fundamentals.html\n",
            "[5500] Request(GET) >> OK: https://oilprice.com/Latest-Energy-News/World-News/Israel-Refuses-To-Pay-Old-Oil-Debt-To-Iran.html\n",
            "[5600] Request(GET) >> OK: https://oilprice.com/Latest-Energy-News/World-News/Florida-Utility-To-Buy-Coal-Plant-For-520m-Then-Shut-It-Down.html\n",
            "[5700] Request(GET) >> OK: https://oilprice.com/Latest-Energy-News/World-News/The-Worrying-Math-From-US-Shale-Plays.html\n",
            "[5800] Request(GET) >> OK: https://oilprice.com/Latest-Energy-News/World-News/New-Device-To-Provide-More-Accurate-Emissions-Data.html\n",
            "[5900] Request(GET) >> OK: https://oilprice.com/Latest-Energy-News/World-News/Iran-Says-No-Need-For-IAEA-To-Visit-Suspected-Weapons-Site.html\n",
            "[6000] Request(GET) >> OK: https://oilprice.com/Latest-Energy-News/World-News/New-Solar-Cell-Boasts-High-Efficiency-Lower-Cost.html\n",
            "[6100] Request(GET) >> OK: https://oilprice.com/Latest-Energy-News/World-News/Brazil-Issues-Fracking-Regulations.html\n",
            "[6200] Request(GET) >> OK: https://oilprice.com/Latest-Energy-News/World-News/Canadas-Oil-Sands-Exports-to-U.S.-Hampered-by-Infrastructure.html\n",
            "[6300] Request(GET) >> OK: https://oilprice.com/Latest-Energy-News/World-News/Using-Windmills-Smaller-than-a-Grain-of-Rice-to-Charge-Portable-Devices.html\n",
            "[6400] Request(GET) >> OK: https://oilprice.com/Latest-Energy-News/World-News/The-Cost-of-Political-Infighting-RWE-Cancel-4-Billion-UK-Wind-Farm.html\n",
            "[6500] Request(GET) >> OK: https://oilprice.com/Latest-Energy-News/World-News/Brazil-could-Mark-a-Change-in-Strategy-for-Chinese-Oil-Companies.html\n",
            "[6600] Request(GET) >> OK: https://oilprice.com/Latest-Energy-News/World-News/The-Climate-Change-Future-Bad-Beer-and-Expensive-Chocolate.html\n",
            "[6700] Request(GET) >> OK: https://oilprice.com/Latest-Energy-News/World-News/Lightning-Bolt-Sparks-Fire-at-Venezuelan-Oil-Refinery.html\n",
            "[6800] Request(GET) >> OK: https://oilprice.com/Latest-Energy-News/World-News/Study-Finds-21-of-Homes-Produce-50-of-Carbon-Emissions.html\n",
            "[6900] Request(GET) >> OK: https://oilprice.com/Latest-Energy-News/World-News/DoE-Lost-Billions-in-Deal-with-Tesla.html\n",
            "[7000] Request(GET) >> OK: https://oilprice.com/Latest-Energy-News/World-News/Tags-BP-Profit-Analysts-Gulf-of-Mexico-Strategy-Focus-TNK-BP-Revenues.html\n",
            "[7100] Request(GET) >> OK: https://oilprice.com/Latest-Energy-News/World-News/Second-LNG-Super-Tanker-Arrives-in-UK-to-Help-with-Natural-Gas-Shortage.html\n",
            "[7200] Request(GET) >> OK: https://oilprice.com/Latest-Energy-News/World-News/Nigeria-Asks-for-Britains-Help-to-End-Oil-Theft.html\n",
            "[7300] Request(GET) >> OK: https://oilprice.com/Latest-Energy-News/World-News/Oil-Gas-Companies-Win-Case-to-Overturn-Regulation-Protecting-Polar-Bear-Habita.html\n",
            "[7400] Request(GET) >> OK: https://oilprice.com/Latest-Energy-News/World-News/Permian-Oil-Glut-Sees-Producers-Lose-Out-on-1.2-Billion-Profit.html\n",
            "[7500] Request(GET) >> OK: https://oilprice.com/Latest-Energy-News/World-News/How-has-Hurricane-Sandy-Affected-the-Economy-in-the-Short-Term.html\n",
            "[7600] Request(GET) >> OK: https://oilprice.com/Latest-Energy-News/World-News/Saudi-Arabia-May-Increase-the-Price-of-Crude-Oil-Exported-to-Asia.html\n",
            "[7700] Request(GET) >> OK: https://oilprice.com/Latest-Energy-News/World-News/Worlds-Largest-Turbines-to-be-Used-in-German-Wind-Farm.html\n",
            "[7800] Request(GET) >> OK: https://oilprice.com/Latest-Energy-News/World-News/Sanctions-Cost-Iran-133-Million-a-Day-in-Lost-Revenue.html\n",
            "[7900] Request(GET) >> OK: https://oilprice.com/Latest-Energy-News/World-News/South-Korea-Become-First-Major-Asian-Customer-to-Halt-Iranian-Imports.html\n",
            "[8000] Request(GET) >> OK: https://oilprice.com/Latest-Energy-News/World-News/Progress-Made-on-the-Atlantic-Wind-Connection-and-the-NorthConnect-Lines.html\n",
            "[8100] Request(GET) >> OK: https://oilprice.com/Latest-Energy-News/World-News/Is-Siemens-New-Electrolyser-Plant-Vital-for-Germanys-Renewable-Energy-Plans.html\n",
            "[8200] Request(GET) >> OK: https://oilprice.com/Latest-Energy-News/World-News/Qatar-to-Spend-20-Billion-on-Power-Generation-and-Water-Desalination.html\n",
            "[8300] Request(GET) >> OK: https://oilprice.com/Latest-Energy-News/World-News/Iraq-To-Construct-Two-New-Refineries-To-Meet-Domestic-Need-.html\n",
            "[8400] Request(GET) >> OK: https://oilprice.com/Latest-Energy-News/World-News/Irans-Oil-LPG-Exports-To-China-Soar-49-Percent-In-Last-6-Months.html\n",
            "[8500] Request(GET) >> OK: https://oilprice.com/Latest-Energy-News/World-News/Massive-Growth-For-Indian-Wind-Energy-Company-Suzlon-Energy.html\n",
            "[8600] Request(GET) >> OK: https://oilprice.com/Latest-Energy-News/World-News/France-Expands-Nuclear-Capabilities-By-Opening-A-Nuclear-Institute.html\n"
          ],
          "name": "stdout"
        }
      ]
    },
    {
      "metadata": {
        "id": "ixPGApCdhVC-",
        "colab_type": "code",
        "colab": {
          "base_uri": "https://localhost:8080/",
          "height": 394
        },
        "outputId": "f8f9b449-a5f0-45fc-cb42-68a9be271bd5"
      },
      "cell_type": "code",
      "source": [
        "print(len(news))\n",
        "display(news[-5:-1])"
      ],
      "execution_count": 36,
      "outputs": [
        {
          "output_type": "stream",
          "text": [
            "8659\n"
          ],
          "name": "stdout"
        },
        {
          "output_type": "display_data",
          "data": {
            "text/plain": [
              "[('2011-Jun-15',\n",
              "  'Rosneft Confident Oil Pricing Dispute With China Resolved Soon',\n",
              "  'China and Rosneft are disputing the price that the Russian company is to provide oil through its Eastern Siberia-Pacific Ocean (ESPO) pipeline, but Rosneft remains optimistic that the issue will shortly be resolved. Rosneft issued a statement observing, \"The contract price formula is unchanged. The Chinese side has demonstrated significant progress in the resolution of issues of payment for the supplies, and has paid a significant portion of the debt under the contract. It is these circumstances that instill Rosneft with the confidence that the situation will finally be resolved soon.\" The ESPO pipeline represents a major strategic shift for Russia, sending its crude oil eastwards to Asian markets rather than the pattern developed in soviet times of shifting energy westwards, first for the indigenous Soviet market and then onwards to Europe. In 2003 former Yukos chairman Mikhail Khodorovskii was castigated by the Kremlin for proposing a private Yukos pipeline to supply the burgeoning Chinese market. By. Charles Kennedy, Deputy Editor OilPrice.com',\n",
              "  'Charles Kennedy',\n",
              "  'Rosneft-Confident-Oil-Pricing-Dispute-With-China-Resolved-Soon.html'),\n",
              " ('2011-Jun-15',\n",
              "  'Despite Fukushima, Taiwan to Build 4th Nuclear Reactor',\n",
              "  \"Taiwan’s government intends to press forward with constructing the island’s fourth nuclear power station, despite political and environmental opposition. The Democratic Progressive Party (DPP) is leading political opposition to the plan, Taiwan’s Chung-yang Jih-pao Wang-lu-pao newspaper reported. On 13 June Taiwan’s Kuomintang (KMT) dominated Legislative Yuan Parliament approved budgetary funding for the country’s fourth nuclear power plant (NPP.) Under the slogan “Nuke-free homeland to safeguard Taiwan,” DPP parliamentarians insisted that the NPPP funding be frozen until an safety inspection of the island's current three NPPS is completed in the wake of Japan’s 11 March 11 nuclear catastrophe following a 9.0 Richter scale earthquake and tsunami, which severely damaged the Daichi Fukushima nuclear complex. Following the budget’s approval the DPP proposed 10 motions intended to stymie the NPP’s construction prior to a comprehensive safety inspection of the country’s three other nuclear power plants, but all the DPP motions failed to pass. Criticizing the decision, Taiwan Green Party Spokesman Pan Han-shen said simply, “If the plant begins operations, it would become the most dangerous plant in Taiwan.” By. Charles Kennedy, Deputy Editor OilPrice.com\",\n",
              "  'Charles Kennedy',\n",
              "  'Despite-Fukushima-Taiwan-To-Build-4th-Nuclear-Reactor.html'),\n",
              " ('2011-Jun-15',\n",
              "  'Germany’s Nuclear Phase-Out Generates Lawsuits',\n",
              "  'On 3 June, after meeting with the premiers of German states, German Chancellor Angela Merkel announced that Germany\\'s abandonment of civilian nuclear power will be a phased process, ending in 2022 as the country’s last nuclear power station is shuttered. Merkel said, \"It will be completely clear that each nuclear power station will have a final operating date, and with that, there will be complete clarity and no possibility of any evasion.\" Germany\\'s nuclear power station operating companies are subsequently now preparing to take legal action against the government\\'s decision, stating that the new plan to shutter the nuclear stations is both too rigid and will prove more costly to the companies than the previous 2000 center-left government’s nuclear phase-out plan, Spiegel Online reported. One of the program’s most outspoken critics, Swedish power company Vattenfall CEO’s Oystein Loseth, whose corporation partly owns three German nuclear power plants and operates two more, is demanding \"fair compensation for our losses as a result of the government\\'s decision.\" By. Charles Kennedy, Deputy Editor OilPrice.com',\n",
              "  'Charles Kennedy',\n",
              "  'Germanys-Nuclear-Phase-Out-Generates-Lawsuits.html'),\n",
              " ('2011-Jun-15',\n",
              "  'Mozambique Moves Towards LNG Production',\n",
              "  'Western interest on Africa’s energy reserves is intensifying. Houston’s Anadarko oil and gas company has proposed to Mozambique’s government establishing a Liquefied Natural Gas facility capable of producing a billion cubic feet of gas a day in northern Mozambique. Anadarko’s exploration concession blocks cover both onshore and offshore areas in the Palma and Mocimboa da Praia in Cabo Delgado province districts, and exploratory drilling has uncovered large deposits of natural gas in four of Anadarko’s seven exploratory wells, Agencia de Informacao de Mocambique reported. Anadarko has so far invested $750 million in Mozambique’s Rovuma basin and projects investment costs to exceed $3 billion by the end of 2013. If Anadarko’s plans for an LNG facility are approved, Anadarko’s eventual investment could rise to $15 billion 2018, which would be by far Mozambique’s largest foreign investment. Mozambique’s National Petroleum Institute chairman Arsenio Mabote is advocating that some of the natural gas be retained for use in Mozambique to produce fertilizers and methanol and also electricity generation for the country’s northern provinces. By. Joao Peixe, Deputy Editor OilPrice.com',\n",
              "  'Joao Peixe',\n",
              "  'Mozambique-Moves-Towards-LNG-Production.html')]"
            ]
          },
          "metadata": {
            "tags": []
          }
        }
      ]
    },
    {
      "metadata": {
        "id": "mo-mX91hIsvH",
        "colab_type": "code",
        "colab": {}
      },
      "cell_type": "code",
      "source": [
        "with open(DATA_PATH + 'oilprice.com_news.csv', 'w') as f:\n",
        "  fw = csv.writer(f)\n",
        "  fw.writerows(news)"
      ],
      "execution_count": 0,
      "outputs": []
    },
    {
      "metadata": {
        "id": "UVLGMnlOgMwJ",
        "colab_type": "text"
      },
      "cell_type": "markdown",
      "source": [
        "## 수집한 데이터는 Google Drive에...\n",
        " * https://drive.google.com/drive/folders/16J3gm9rs-zdW2d_h2G0Ctw0qmtFM2oqG?usp=sharing"
      ]
    }
  ]
}